{
 "cells": [
  {
   "cell_type": "markdown",
   "metadata": {},
   "source": [
    "* This sript is based on the script on 20160603\n",
    "* The purpose of this script today is to study the combination of different models"
   ]
  },
  {
   "cell_type": "code",
   "execution_count": 131,
   "metadata": {
    "collapsed": false
   },
   "outputs": [],
   "source": [
    "import numpy as np\n",
    "import matplotlib.pyplot as plt\n",
    "\n",
    "import graphlab\n",
    "import datetime\n",
    "import math\n",
    "\n",
    "from sklearn.ensemble import GradientBoostingRegressor\n",
    "from sklearn import ensemble\n",
    "from sklearn import datasets\n",
    "from sklearn.utils import shuffle\n",
    "from sklearn.metrics import mean_squared_error\n",
    "from sklearn.metrics import mean_absolute_error\n",
    "\n",
    "%matplotlib inline\n",
    "\n",
    "np.random.seed(1)"
   ]
  },
  {
   "cell_type": "markdown",
   "metadata": {},
   "source": [
    "### Define functions"
   ]
  },
  {
   "cell_type": "code",
   "execution_count": 132,
   "metadata": {
    "collapsed": false
   },
   "outputs": [],
   "source": [
    "# datetime.date format: year, month, day\n",
    "def date_to_day(date):\n",
    "    date_list = date.strip().split('-')\n",
    "    return datetime.date(int(date_list[0]),int(date_list[1]),int(date_list[2])).weekday() + 1"
   ]
  },
  {
   "cell_type": "code",
   "execution_count": 133,
   "metadata": {
    "collapsed": true
   },
   "outputs": [],
   "source": [
    "# define MAPE evaluation function\n",
    "def mape(result, result_predicted):\n",
    "    count = 0\n",
    "    sum = 0\n",
    "    for (item_1, item_2) in zip(result, result_predicted):\n",
    "        if item_1 > 0:\n",
    "            count = count + 1\n",
    "            sum = sum + math.fabs((item_1 - item_2)/item_1)\n",
    "    return (sum, count, sum/count)"
   ]
  },
  {
   "cell_type": "code",
   "execution_count": 134,
   "metadata": {
    "collapsed": false
   },
   "outputs": [],
   "source": [
    "# define post_prediction_modification to predicted data\n",
    "# set all the predicted gap that is less than 1 to 1\n",
    "def prediction_modification(prediction):\n",
    "    vect = prediction\n",
    "    for i in range(len(vect)):\n",
    "        if vect[i] < 1.0:\n",
    "            vect[i] = 1.0\n",
    "    return vect"
   ]
  },
  {
   "cell_type": "markdown",
   "metadata": {},
   "source": [
    "### Load data"
   ]
  },
  {
   "cell_type": "code",
   "execution_count": 135,
   "metadata": {
    "collapsed": false
   },
   "outputs": [
    {
     "data": {
      "text/html": [
       "<pre>Finished parsing file D:\\Di-Tech_Challenge\\Machine_Learning\\Model_20160608\\data-all_training.csv</pre>"
      ],
      "text/plain": [
       "Finished parsing file D:\\Di-Tech_Challenge\\Machine_Learning\\Model_20160608\\data-all_training.csv"
      ]
     },
     "metadata": {},
     "output_type": "display_data"
    },
    {
     "data": {
      "text/html": [
       "<pre>Parsing completed. Parsed 199584 lines in 1.06006 secs.</pre>"
      ],
      "text/plain": [
       "Parsing completed. Parsed 199584 lines in 1.06006 secs."
      ]
     },
     "metadata": {},
     "output_type": "display_data"
    },
    {
     "data": {
      "text/html": [
       "<pre>Finished parsing file D:\\Di-Tech_Challenge\\Machine_Learning\\Model_20160608\\data-all_test_set_1.csv</pre>"
      ],
      "text/plain": [
       "Finished parsing file D:\\Di-Tech_Challenge\\Machine_Learning\\Model_20160608\\data-all_test_set_1.csv"
      ]
     },
     "metadata": {},
     "output_type": "display_data"
    },
    {
     "data": {
      "text/html": [
       "<pre>Parsing completed. Parsed 47520 lines in 0.243014 secs.</pre>"
      ],
      "text/plain": [
       "Parsing completed. Parsed 47520 lines in 0.243014 secs."
      ]
     },
     "metadata": {},
     "output_type": "display_data"
    }
   ],
   "source": [
    "# SFrame.read_csv function to read csv files\n",
    "data_training = graphlab.SFrame.read_csv(\"data-all_training.csv\", \\\n",
    "                                        column_type_hints=[str,str,long,long,long,long,long,float,long,long,long,long,\\\n",
    "                                                           float,float,float,float,float,str,str,str,str,long,long,\\\n",
    "                                                           long,long,float,long,long,long,long,float,long,long,long,long,\\\n",
    "                                                           long,long,long,long,long,long,long,long,long,long,long,long])\n",
    "data_test_set_1 = graphlab.SFrame.read_csv(\"data-all_test_set_1.csv\", \\\n",
    "                                          column_type_hints=[str,str,long,long,long,long,long,float,long,long,long,long,\\\n",
    "                                                           float,float,float,float,float,str,str,str,str,long,long,\\\n",
    "                                                           long,long,float,long,long,long,long,float,long,long,long,long,\\\n",
    "                                                           long,long,long,long,long,long,long,long,long,long,long,long])"
   ]
  },
  {
   "cell_type": "code",
   "execution_count": 136,
   "metadata": {
    "collapsed": true
   },
   "outputs": [],
   "source": [
    "data_training['day_of_week'] = data_training['date'].apply(lambda x: str(date_to_day(x)))\n",
    "data_test_set_1['day_of_week'] = data_test_set_1['date'].apply(lambda x: str(date_to_day(x)))\n",
    "\n",
    "data_training['gap_delta'] = data_training['gap_t(j)'] - data_training['gap_t(j-1)']\n",
    "data_training['gap_delta_1'] = data_training['gap_t(j-1)'] - data_training['gap_t(j-2)']\n",
    "data_training['gap_delta_2'] = data_training['gap_t(j-2)'] - data_training['gap_t(j-3)']\n",
    "data_training['gap_delta_3'] = data_training['gap_t(j-1)'] - data_training['gap_t(j-3)']\n",
    "\n",
    "data_test_set_1['gap_delta'] = data_test_set_1['gap_t(j)'] - data_test_set_1['gap_t(j-1)']\n",
    "data_test_set_1['gap_delta_1'] = data_test_set_1['gap_t(j-1)'] - data_test_set_1['gap_t(j-2)']\n",
    "data_test_set_1['gap_delta_2'] = data_test_set_1['gap_t(j-2)'] - data_test_set_1['gap_t(j-3)']\n",
    "data_test_set_1['gap_delta_3'] = data_test_set_1['gap_t(j-1)'] - data_test_set_1['gap_t(j-3)']\n",
    "\n",
    "# delete data at time_slot_id 1, 2 and 3\n",
    "data_training = data_training[(data_training['time_slot_id'] > 3)]"
   ]
  },
  {
   "cell_type": "code",
   "execution_count": 137,
   "metadata": {
    "collapsed": true
   },
   "outputs": [],
   "source": [
    "data_training_training, data_training_validation = data_training.random_split(.9, seed=8)"
   ]
  },
  {
   "cell_type": "code",
   "execution_count": 138,
   "metadata": {
    "collapsed": true
   },
   "outputs": [],
   "source": [
    "features = ['start_district_id', 'time_slot_id', 'gap_t(j-1)', 'gap_t(j-2)', 'gap_t(j-3)', 'gap_averaged',\n",
    "            'gap_delta_1','gap_delta_2','gap_delta_3',\n",
    "            'order_t(j-1)', 'order_t(j-2)', 'order_t(j-3)', 'order_averaged', 'price_avg_t(j-1)', 'price_avg_t(j-2)',\n",
    "            'price_avg_t(j-3)', 'weather_t(j)', 'weather_t(j-1)', 'weather_t(j-2)', 'weather_t(j-3)', \n",
    "            'pm_t(j)','pm_t(j-1)','pm_t(j-2)','pm_t(j-3)','pm_avg', 'tj_1_j', 'tj_2_j','tj_3_j','tj_4_j',\n",
    "            'tj_1_j_1', 'tj_2_j_1','tj_3_j_1','tj_4_j_1', 'tj_1_j_2', 'tj_2_j_2','tj_3_j_2','tj_4_j_2',\n",
    "            'tj_1_j_3', 'tj_2_j_3','tj_3_j_3','tj_4_j_3','day_of_week']"
   ]
  },
  {
   "cell_type": "code",
   "execution_count": 139,
   "metadata": {
    "collapsed": false
   },
   "outputs": [],
   "source": [
    "feature_numpy_training = data_training_training[features].to_numpy().astype(float)"
   ]
  },
  {
   "cell_type": "code",
   "execution_count": 140,
   "metadata": {
    "collapsed": false
   },
   "outputs": [
    {
     "data": {
      "text/plain": [
       "176005"
      ]
     },
     "execution_count": 140,
     "metadata": {},
     "output_type": "execute_result"
    }
   ],
   "source": [
    "len(feature_numpy_training)"
   ]
  },
  {
   "cell_type": "code",
   "execution_count": 141,
   "metadata": {
    "collapsed": true
   },
   "outputs": [],
   "source": [
    "target_numpy_training = data_training_training['gap_delta'].to_numpy().astype(float)"
   ]
  },
  {
   "cell_type": "code",
   "execution_count": 142,
   "metadata": {
    "collapsed": true
   },
   "outputs": [],
   "source": [
    "feature_numpy_validation = data_training_validation[features].to_numpy().astype(float)"
   ]
  },
  {
   "cell_type": "code",
   "execution_count": 143,
   "metadata": {
    "collapsed": true
   },
   "outputs": [],
   "source": [
    "target_numpy_validation = data_training_validation['gap_delta'].to_numpy().astype(float)"
   ]
  },
  {
   "cell_type": "markdown",
   "metadata": {
    "collapsed": true
   },
   "source": [
    "### Explore hyperparameters"
   ]
  },
  {
   "cell_type": "code",
   "execution_count": 144,
   "metadata": {
    "collapsed": false
   },
   "outputs": [
    {
     "data": {
      "text/plain": [
       "'\\n# define parameters to search\\n\\nn_estimators = [5,10,20,30,40,50,60,70,80,90,100,150,200,300,400,500]\\nmax_depth = [2,3,4,5,6,7,8]\\nmin_samples_split = [1,2,3,4]\\n\\nn_estimators = [5,10]\\nmax_depth = [2,3]\\nmin_samples_split = [1,2]\\n'"
      ]
     },
     "execution_count": 144,
     "metadata": {},
     "output_type": "execute_result"
    }
   ],
   "source": [
    "'''\n",
    "# define parameters to search\n",
    "\n",
    "n_estimators = [5,10,20,30,40,50,60,70,80,90,100,150,200,300,400,500]\n",
    "max_depth = [2,3,4,5,6,7,8]\n",
    "min_samples_split = [1,2,3,4]\n",
    "\n",
    "n_estimators = [5,10]\n",
    "max_depth = [2,3]\n",
    "min_samples_split = [1,2]\n",
    "'''"
   ]
  },
  {
   "cell_type": "code",
   "execution_count": 145,
   "metadata": {
    "collapsed": false
   },
   "outputs": [
    {
     "data": {
      "text/plain": [
       "'\\noutput_file = open(\"hyperparamters_test_result\",\\'w\\')\\noutput_file.write(\"n_estimators,max_depth,min_samples_split,mae,rmse\\n\")\\noutput_file.close()\\n\\nfor i in range(len(n_estimators)):\\n    for j in range(len(max_depth)):\\n        for k in range(len(min_samples_split)):\\n            print i, j, k\\n            params = {\\'n_estimators\\':n_estimators[i], \\'max_depth\\': max_depth[j], \\'min_samples_split\\': min_samples_split[k], \\n                      \\'verbose\\': False, \\'learning_rate\\': 0.01, \\'loss\\': \\'quantile\\', \\'alpha\\': 0.5}\\n            model = ensemble.GradientBoostingRegressor(**params)\\n            model.fit(feature_numpy_training, target_numpy_training)\\n            validation_prediction = model.predict(feature_numpy_validation).tolist()\\n            validation_target = target_numpy_validation.tolist()\\n            (sum, count, mae) = mape(validation_target,validation_prediction)\\n            rmse = np.sqrt(mean_squared_error(validation_target,validation_prediction))\\n            output_file = open(\"hyperparamters_test_result\",\\'a\\')\\n            output_file.write(str(n_estimators[i]) + \\',\\' + str(max_depth[j]) + \\',\\' + str(min_samples_split[k]) +                               \\',\\' + str(mae) + \\',\\' + str(rmse) + \\'\\n\\')\\n            output_file.close()\\n            \\n '"
      ]
     },
     "execution_count": 145,
     "metadata": {},
     "output_type": "execute_result"
    }
   ],
   "source": [
    "'''\n",
    "output_file = open(\"hyperparamters_test_result\",'w')\n",
    "output_file.write(\"n_estimators,max_depth,min_samples_split,mae,rmse\\n\")\n",
    "output_file.close()\n",
    "\n",
    "for i in range(len(n_estimators)):\n",
    "    for j in range(len(max_depth)):\n",
    "        for k in range(len(min_samples_split)):\n",
    "            print i, j, k\n",
    "            params = {'n_estimators':n_estimators[i], 'max_depth': max_depth[j], 'min_samples_split': min_samples_split[k], \n",
    "                      'verbose': False, 'learning_rate': 0.01, 'loss': 'quantile', 'alpha': 0.5}\n",
    "            model = ensemble.GradientBoostingRegressor(**params)\n",
    "            model.fit(feature_numpy_training, target_numpy_training)\n",
    "            validation_prediction = model.predict(feature_numpy_validation).tolist()\n",
    "            validation_target = target_numpy_validation.tolist()\n",
    "            (sum, count, mae) = mape(validation_target,validation_prediction)\n",
    "            rmse = np.sqrt(mean_squared_error(validation_target,validation_prediction))\n",
    "            output_file = open(\"hyperparamters_test_result\",'a')\n",
    "            output_file.write(str(n_estimators[i]) + ',' + str(max_depth[j]) + ',' + str(min_samples_split[k]) + \\\n",
    "                              ',' + str(mae) + ',' + str(rmse) + '\\n')\n",
    "            output_file.close()\n",
    "            \n",
    " '''           "
   ]
  },
  {
   "cell_type": "markdown",
   "metadata": {},
   "source": [
    "### Train the model"
   ]
  },
  {
   "cell_type": "code",
   "execution_count": 146,
   "metadata": {
    "collapsed": false
   },
   "outputs": [
    {
     "name": "stdout",
     "output_type": "stream",
     "text": [
      "      Iter       Train Loss   Remaining Time \n",
      "         1          -0.0016            2.28m\n",
      "         2          -0.0008            2.20m\n",
      "         3           0.0005            2.38m\n",
      "         4           0.0017            2.45m\n",
      "         5           0.0032            2.35m\n",
      "         6           0.0045            2.29m\n",
      "         7           0.0057            2.24m\n",
      "         8           0.0065            2.18m\n",
      "         9           0.0078            2.14m\n",
      "        10           0.0091            2.10m\n",
      "        20           0.0210            1.79m\n",
      "        30           0.0323            1.53m\n",
      "        40           0.0425            1.30m\n",
      "        50           0.0514            1.07m\n",
      "        60           0.0595           51.72s\n",
      "        70           0.0668           39.02s\n",
      "        80           0.0717           26.03s\n",
      "        90           0.0754           13.03s\n",
      "       100           0.0785            0.00s\n"
     ]
    },
    {
     "data": {
      "text/plain": [
       "GradientBoostingRegressor(alpha=0.5, init=None, learning_rate=0.01,\n",
       "             loss='quantile', max_depth=4, max_features=None,\n",
       "             max_leaf_nodes=None, min_samples_leaf=1, min_samples_split=1,\n",
       "             min_weight_fraction_leaf=0.0, n_estimators=100,\n",
       "             presort='auto', random_state=None, subsample=1.0,\n",
       "             verbose=True, warm_start=False)"
      ]
     },
     "execution_count": 146,
     "metadata": {},
     "output_type": "execute_result"
    }
   ],
   "source": [
    "# Least Absolute Deviation (LAD) regression\n",
    "\n",
    "# Fit regression model\n",
    "params = {'n_estimators':100, 'max_depth': 4, 'min_samples_split': 1, 'verbose': True,\n",
    "          'learning_rate': 0.01, 'loss': 'quantile', 'alpha': 0.5}\n",
    "model_lad = ensemble.GradientBoostingRegressor(**params)\n",
    "\n",
    "model_lad.fit(feature_numpy_training, target_numpy_training)\n"
   ]
  },
  {
   "cell_type": "code",
   "execution_count": 147,
   "metadata": {
    "collapsed": false
   },
   "outputs": [
    {
     "name": "stdout",
     "output_type": "stream",
     "text": [
      "      Iter       Train Loss   Remaining Time \n",
      "         1         253.7518            0.00s\n"
     ]
    },
    {
     "data": {
      "text/plain": [
       "GradientBoostingRegressor(alpha=0.9, init=None, learning_rate=0.01, loss='ls',\n",
       "             max_depth=4, max_features=None, max_leaf_nodes=None,\n",
       "             min_samples_leaf=1, min_samples_split=1,\n",
       "             min_weight_fraction_leaf=0.0, n_estimators=1, presort='auto',\n",
       "             random_state=None, subsample=1.0, verbose=True,\n",
       "             warm_start=False)"
      ]
     },
     "execution_count": 147,
     "metadata": {},
     "output_type": "execute_result"
    }
   ],
   "source": [
    "# Least Squares (LS) regression\n",
    "\n",
    "# Fit regression model\n",
    "params = {'n_estimators':1, 'max_depth': 4, 'min_samples_split': 1, 'verbose': True,\n",
    "          'learning_rate': 0.01, 'loss': 'ls'}\n",
    "model_ls = ensemble.GradientBoostingRegressor(**params)\n",
    "\n",
    "model_ls.fit(feature_numpy_training, target_numpy_training)\n"
   ]
  },
  {
   "cell_type": "code",
   "execution_count": 148,
   "metadata": {
    "collapsed": false
   },
   "outputs": [
    {
     "name": "stdout",
     "output_type": "stream",
     "text": [
      "PROGRESS: Creating a validation set from 5 percent of training data. This may take a while.\n",
      "          You can set ``validation_set=None`` to disable validation tracking.\n",
      "\n"
     ]
    },
    {
     "data": {
      "text/html": [
       "<pre>Boosted trees regression:</pre>"
      ],
      "text/plain": [
       "Boosted trees regression:"
      ]
     },
     "metadata": {},
     "output_type": "display_data"
    },
    {
     "data": {
      "text/html": [
       "<pre>--------------------------------------------------------</pre>"
      ],
      "text/plain": [
       "--------------------------------------------------------"
      ]
     },
     "metadata": {},
     "output_type": "display_data"
    },
    {
     "data": {
      "text/html": [
       "<pre>Number of examples          : 167179</pre>"
      ],
      "text/plain": [
       "Number of examples          : 167179"
      ]
     },
     "metadata": {},
     "output_type": "display_data"
    },
    {
     "data": {
      "text/html": [
       "<pre>Number of features          : 42</pre>"
      ],
      "text/plain": [
       "Number of features          : 42"
      ]
     },
     "metadata": {},
     "output_type": "display_data"
    },
    {
     "data": {
      "text/html": [
       "<pre>Number of unpacked features : 42</pre>"
      ],
      "text/plain": [
       "Number of unpacked features : 42"
      ]
     },
     "metadata": {},
     "output_type": "display_data"
    },
    {
     "data": {
      "text/html": [
       "<pre>+-----------+--------------+--------------------+---------------+----------------------+-----------------+</pre>"
      ],
      "text/plain": [
       "+-----------+--------------+--------------------+---------------+----------------------+-----------------+"
      ]
     },
     "metadata": {},
     "output_type": "display_data"
    },
    {
     "data": {
      "text/html": [
       "<pre>| Iteration | Elapsed Time | Training-max_error | Training-rmse | Validation-max_error | Validation-rmse |</pre>"
      ],
      "text/plain": [
       "| Iteration | Elapsed Time | Training-max_error | Training-rmse | Validation-max_error | Validation-rmse |"
      ]
     },
     "metadata": {},
     "output_type": "display_data"
    },
    {
     "data": {
      "text/html": [
       "<pre>+-----------+--------------+--------------------+---------------+----------------------+-----------------+</pre>"
      ],
      "text/plain": [
       "+-----------+--------------+--------------------+---------------+----------------------+-----------------+"
      ]
     },
     "metadata": {},
     "output_type": "display_data"
    },
    {
     "data": {
      "text/html": [
       "<pre>| 1         | 0.416023     | 1212.000000        | 13.882741     | 656.875000           | 15.856310       |</pre>"
      ],
      "text/plain": [
       "| 1         | 0.416023     | 1212.000000        | 13.882741     | 656.875000           | 15.856310       |"
      ]
     },
     "metadata": {},
     "output_type": "display_data"
    },
    {
     "data": {
      "text/html": [
       "<pre>| 2         | 0.766043     | 1030.199951        | 12.427952     | 646.993774           | 15.529250       |</pre>"
      ],
      "text/plain": [
       "| 2         | 0.766043     | 1030.199951        | 12.427952     | 646.993774           | 15.529250       |"
      ]
     },
     "metadata": {},
     "output_type": "display_data"
    },
    {
     "data": {
      "text/html": [
       "<pre>| 3         | 1.197068     | 875.669983         | 11.413645     | 638.594666           | 15.692381       |</pre>"
      ],
      "text/plain": [
       "| 3         | 1.197068     | 875.669983         | 11.413645     | 638.594666           | 15.692381       |"
      ]
     },
     "metadata": {},
     "output_type": "display_data"
    },
    {
     "data": {
      "text/html": [
       "<pre>| 4         | 1.555089     | 744.319458         | 10.653316     | 663.421143           | 15.394116       |</pre>"
      ],
      "text/plain": [
       "| 4         | 1.555089     | 744.319458         | 10.653316     | 663.421143           | 15.394116       |"
      ]
     },
     "metadata": {},
     "output_type": "display_data"
    },
    {
     "data": {
      "text/html": [
       "<pre>| 5         | 1.895108     | 632.671509         | 10.281853     | 675.866455           | 15.055778       |</pre>"
      ],
      "text/plain": [
       "| 5         | 1.895108     | 632.671509         | 10.281853     | 675.866455           | 15.055778       |"
      ]
     },
     "metadata": {},
     "output_type": "display_data"
    },
    {
     "data": {
      "text/html": [
       "<pre>| 6         | 2.245128     | 537.770752         | 9.750177      | 661.379944           | 14.736498       |</pre>"
      ],
      "text/plain": [
       "| 6         | 2.245128     | 537.770752         | 9.750177      | 661.379944           | 14.736498       |"
      ]
     },
     "metadata": {},
     "output_type": "display_data"
    },
    {
     "data": {
      "text/html": [
       "<pre>| 10        | 3.607206     | 280.719604         | 9.014530      | 700.240723           | 14.640576       |</pre>"
      ],
      "text/plain": [
       "| 10        | 3.607206     | 280.719604         | 9.014530      | 700.240723           | 14.640576       |"
      ]
     },
     "metadata": {},
     "output_type": "display_data"
    },
    {
     "data": {
      "text/html": [
       "<pre>| 11        | 4.012229     | 245.042160         | 8.899724      | 711.036133           | 14.690099       |</pre>"
      ],
      "text/plain": [
       "| 11        | 4.012229     | 245.042160         | 8.899724      | 711.036133           | 14.690099       |"
      ]
     },
     "metadata": {},
     "output_type": "display_data"
    },
    {
     "data": {
      "text/html": [
       "<pre>| 15        | 5.308303     | 235.333115         | 8.428134      | 703.725037           | 14.530197       |</pre>"
      ],
      "text/plain": [
       "| 15        | 5.308303     | 235.333115         | 8.428134      | 703.725037           | 14.530197       |"
      ]
     },
     "metadata": {},
     "output_type": "display_data"
    },
    {
     "data": {
      "text/html": [
       "<pre>| 20        | 6.973399     | 207.879395         | 7.920265      | 701.109924           | 14.550878       |</pre>"
      ],
      "text/plain": [
       "| 20        | 6.973399     | 207.879395         | 7.920265      | 701.109924           | 14.550878       |"
      ]
     },
     "metadata": {},
     "output_type": "display_data"
    },
    {
     "data": {
      "text/html": [
       "<pre>| 25        | 8.598491     | 207.882095         | 7.814602      | 701.649841           | 14.597251       |</pre>"
      ],
      "text/plain": [
       "| 25        | 8.598491     | 207.882095         | 7.814602      | 701.649841           | 14.597251       |"
      ]
     },
     "metadata": {},
     "output_type": "display_data"
    },
    {
     "data": {
      "text/html": [
       "<pre>| 30        | 10.381593    | 182.547333         | 7.467055      | 699.520874           | 14.648053       |</pre>"
      ],
      "text/plain": [
       "| 30        | 10.381593    | 182.547333         | 7.467055      | 699.520874           | 14.648053       |"
      ]
     },
     "metadata": {},
     "output_type": "display_data"
    },
    {
     "data": {
      "text/html": [
       "<pre>| 35        | 12.223699    | 176.693100         | 7.343943      | 698.452515           | 14.671829       |</pre>"
      ],
      "text/plain": [
       "| 35        | 12.223699    | 176.693100         | 7.343943      | 698.452515           | 14.671829       |"
      ]
     },
     "metadata": {},
     "output_type": "display_data"
    },
    {
     "data": {
      "text/html": [
       "<pre>| 40        | 13.965798    | 163.698837         | 7.099767      | 697.922607           | 14.721774       |</pre>"
      ],
      "text/plain": [
       "| 40        | 13.965798    | 163.698837         | 7.099767      | 697.922607           | 14.721774       |"
      ]
     },
     "metadata": {},
     "output_type": "display_data"
    },
    {
     "data": {
      "text/html": [
       "<pre>| 45        | 15.840906    | 163.714249         | 6.834358      | 694.292908           | 14.676397       |</pre>"
      ],
      "text/plain": [
       "| 45        | 15.840906    | 163.714249         | 6.834358      | 694.292908           | 14.676397       |"
      ]
     },
     "metadata": {},
     "output_type": "display_data"
    },
    {
     "data": {
      "text/html": [
       "<pre>| 50        | 17.642009    | 163.862457         | 6.711306      | 694.614563           | 14.722047       |</pre>"
      ],
      "text/plain": [
       "| 50        | 17.642009    | 163.862457         | 6.711306      | 694.614563           | 14.722047       |"
      ]
     },
     "metadata": {},
     "output_type": "display_data"
    },
    {
     "data": {
      "text/html": [
       "<pre>| 51        | 18.004029    | 163.861725         | 6.703388      | 694.613831           | 14.722618       |</pre>"
      ],
      "text/plain": [
       "| 51        | 18.004029    | 163.861725         | 6.703388      | 694.613831           | 14.722618       |"
      ]
     },
     "metadata": {},
     "output_type": "display_data"
    },
    {
     "data": {
      "text/html": [
       "<pre>| 55        | 19.504115    | 163.863525         | 6.658699      | 694.568604           | 14.723683       |</pre>"
      ],
      "text/plain": [
       "| 55        | 19.504115    | 163.863525         | 6.658699      | 694.568604           | 14.723683       |"
      ]
     },
     "metadata": {},
     "output_type": "display_data"
    },
    {
     "data": {
      "text/html": [
       "<pre>| 60        | 21.335220    | 163.866577         | 6.526709      | 693.445862           | 14.690817       |</pre>"
      ],
      "text/plain": [
       "| 60        | 21.335220    | 163.866577         | 6.526709      | 693.445862           | 14.690817       |"
      ]
     },
     "metadata": {},
     "output_type": "display_data"
    },
    {
     "data": {
      "text/html": [
       "<pre>| 65        | 23.069319    | 163.863510         | 6.474729      | 693.769897           | 14.701099       |</pre>"
      ],
      "text/plain": [
       "| 65        | 23.069319    | 163.863510         | 6.474729      | 693.769897           | 14.701099       |"
      ]
     },
     "metadata": {},
     "output_type": "display_data"
    },
    {
     "data": {
      "text/html": [
       "<pre>| 70        | 24.675411    | 163.885590         | 6.362222      | 693.170288           | 14.673892       |</pre>"
      ],
      "text/plain": [
       "| 70        | 24.675411    | 163.885590         | 6.362222      | 693.170288           | 14.673892       |"
      ]
     },
     "metadata": {},
     "output_type": "display_data"
    },
    {
     "data": {
      "text/html": [
       "<pre>| 75        | 26.288503    | 163.887985         | 6.245883      | 693.172668           | 14.675029       |</pre>"
      ],
      "text/plain": [
       "| 75        | 26.288503    | 163.887985         | 6.245883      | 693.172668           | 14.675029       |"
      ]
     },
     "metadata": {},
     "output_type": "display_data"
    },
    {
     "data": {
      "text/html": [
       "<pre>| 80        | 27.938598    | 163.945923         | 6.165951      | 693.999756           | 14.647583       |</pre>"
      ],
      "text/plain": [
       "| 80        | 27.938598    | 163.945923         | 6.165951      | 693.999756           | 14.647583       |"
      ]
     },
     "metadata": {},
     "output_type": "display_data"
    },
    {
     "data": {
      "text/html": [
       "<pre>| 85        | 29.595692    | 163.959885         | 6.080530      | 699.243652           | 14.685535       |</pre>"
      ],
      "text/plain": [
       "| 85        | 29.595692    | 163.959885         | 6.080530      | 699.243652           | 14.685535       |"
      ]
     },
     "metadata": {},
     "output_type": "display_data"
    },
    {
     "data": {
      "text/html": [
       "<pre>| 90        | 31.245787    | 164.007660         | 6.033166      | 699.198242           | 14.677829       |</pre>"
      ],
      "text/plain": [
       "| 90        | 31.245787    | 164.007660         | 6.033166      | 699.198242           | 14.677829       |"
      ]
     },
     "metadata": {},
     "output_type": "display_data"
    },
    {
     "data": {
      "text/html": [
       "<pre>| 95        | 33.222900    | 163.905319         | 5.977470      | 699.095886           | 14.676167       |</pre>"
      ],
      "text/plain": [
       "| 95        | 33.222900    | 163.905319         | 5.977470      | 699.095886           | 14.676167       |"
      ]
     },
     "metadata": {},
     "output_type": "display_data"
    },
    {
     "data": {
      "text/html": [
       "<pre>| 100       | 35.047004    | 163.908539         | 5.934249      | 699.099121           | 14.692945       |</pre>"
      ],
      "text/plain": [
       "| 100       | 35.047004    | 163.908539         | 5.934249      | 699.099121           | 14.692945       |"
      ]
     },
     "metadata": {},
     "output_type": "display_data"
    },
    {
     "data": {
      "text/html": [
       "<pre>+-----------+--------------+--------------------+---------------+----------------------+-----------------+</pre>"
      ],
      "text/plain": [
       "+-----------+--------------+--------------------+---------------+----------------------+-----------------+"
      ]
     },
     "metadata": {},
     "output_type": "display_data"
    }
   ],
   "source": [
    "# Graphlab model\n",
    "model_gl = graphlab.boosted_trees_regression.create(data_training_training, features=features, target='gap_delta', \n",
    "                                                    max_iterations = 100,\n",
    "                                                    max_depth = 9, random_seed = 1)"
   ]
  },
  {
   "cell_type": "code",
   "execution_count": 149,
   "metadata": {
    "collapsed": true
   },
   "outputs": [],
   "source": [
    "# Least Absolute Deviation (LAD) regression\n",
    "# Guotu features\n",
    "\n",
    "\n",
    "features_guotu = ['start_district_id', 'time_slot_id', 'gap_t(j-1)', 'gap_t(j-2)', 'gap_t(j-3)', \n",
    "                  'order_t(j-1)', 'order_t(j-2)', 'order_t(j-3)', \n",
    "                  'weather_t(j)', 'weather_t(j-1)', 'weather_t(j-2)', 'weather_t(j-3)', \n",
    "                  'temperature_t(j)', 'temperature_t(j-1)','temperature_t(j-2)','temperature_t(j-3)', \n",
    "                  'pm_t(j)','pm_t(j-1)','pm_t(j-2)','pm_t(j-3)', 'tj_1_j', 'tj_2_j','tj_3_j','tj_4_j',\n",
    "                  'tj_1_j_1', 'tj_2_j_1','tj_3_j_1','tj_4_j_1', 'tj_1_j_2', 'tj_2_j_2','tj_3_j_2','tj_4_j_2',\n",
    "                  'tj_1_j_3', 'tj_2_j_3','tj_3_j_3','tj_4_j_3','day_of_week']\n"
   ]
  },
  {
   "cell_type": "markdown",
   "metadata": {},
   "source": [
    "### Model validation and evaluation"
   ]
  },
  {
   "cell_type": "markdown",
   "metadata": {},
   "source": [
    "* LAD model"
   ]
  },
  {
   "cell_type": "code",
   "execution_count": 164,
   "metadata": {
    "collapsed": false
   },
   "outputs": [
    {
     "data": {
      "text/plain": [
       "19421"
      ]
     },
     "execution_count": 164,
     "metadata": {},
     "output_type": "execute_result"
    }
   ],
   "source": [
    "len(data_training_validation['gap_t(j-1)'])"
   ]
  },
  {
   "cell_type": "code",
   "execution_count": 165,
   "metadata": {
    "collapsed": false
   },
   "outputs": [
    {
     "data": {
      "text/plain": [
       "19421"
      ]
     },
     "execution_count": 165,
     "metadata": {},
     "output_type": "execute_result"
    }
   ],
   "source": [
    "len(model_lad.predict(feature_numpy_validation))"
   ]
  },
  {
   "cell_type": "code",
   "execution_count": 166,
   "metadata": {
    "collapsed": false
   },
   "outputs": [],
   "source": [
    "\n",
    "validation_prediction_lad = (model_lad.predict(feature_numpy_validation) + data_training_validation['gap_t(j-1)'].to_numpy().astype(float)).tolist()\n",
    "#print validation_prediction[0:100]\n"
   ]
  },
  {
   "cell_type": "code",
   "execution_count": 167,
   "metadata": {
    "collapsed": true
   },
   "outputs": [],
   "source": [
    "validation_target = (target_numpy_validation + data_training_validation['gap_t(j-1)'].to_numpy().astype(float)).tolist()\n",
    "#print validation_target[0:100]"
   ]
  },
  {
   "cell_type": "code",
   "execution_count": 168,
   "metadata": {
    "collapsed": false
   },
   "outputs": [],
   "source": [
    "model_comparison = graphlab.SFrame()\n",
    "model_comparison['target_value'] = validation_target\n",
    "model_comparison['model_lad_unmodified'] = validation_prediction_lad"
   ]
  },
  {
   "cell_type": "code",
   "execution_count": 169,
   "metadata": {
    "collapsed": false
   },
   "outputs": [],
   "source": [
    "# prediction_modification\n",
    "validation_prediction_lad_modified = prediction_modification(validation_prediction_lad)\n",
    "#print validation_prediction_modified[0:100]"
   ]
  },
  {
   "cell_type": "code",
   "execution_count": null,
   "metadata": {
    "collapsed": false
   },
   "outputs": [],
   "source": []
  },
  {
   "cell_type": "code",
   "execution_count": null,
   "metadata": {
    "collapsed": false
   },
   "outputs": [],
   "source": []
  },
  {
   "cell_type": "code",
   "execution_count": 170,
   "metadata": {
    "collapsed": false
   },
   "outputs": [],
   "source": [
    "(sum, count, mape_lad) = mape(validation_target,validation_prediction_lad_modified)"
   ]
  },
  {
   "cell_type": "code",
   "execution_count": null,
   "metadata": {
    "collapsed": false
   },
   "outputs": [],
   "source": []
  },
  {
   "cell_type": "code",
   "execution_count": 171,
   "metadata": {
    "collapsed": false
   },
   "outputs": [
    {
     "name": "stdout",
     "output_type": "stream",
     "text": [
      "mape_lad = 0.587063\n"
     ]
    }
   ],
   "source": [
    "print \"mape_lad = %f\" %mape_lad"
   ]
  },
  {
   "cell_type": "code",
   "execution_count": 172,
   "metadata": {
    "collapsed": false
   },
   "outputs": [],
   "source": [
    "rmse_lad = np.sqrt(mean_squared_error(validation_target,validation_prediction_lad_modified))"
   ]
  },
  {
   "cell_type": "code",
   "execution_count": 173,
   "metadata": {
    "collapsed": false
   },
   "outputs": [
    {
     "name": "stdout",
     "output_type": "stream",
     "text": [
      "rmse_lad = 14.671418\n"
     ]
    }
   ],
   "source": [
    "print \"rmse_lad = %f\" %rmse_lad"
   ]
  },
  {
   "cell_type": "code",
   "execution_count": 174,
   "metadata": {
    "collapsed": true
   },
   "outputs": [],
   "source": [
    "model_comparison['model_lad_modified'] = validation_prediction_lad_modified"
   ]
  },
  {
   "cell_type": "markdown",
   "metadata": {},
   "source": [
    "* LS model"
   ]
  },
  {
   "cell_type": "code",
   "execution_count": 175,
   "metadata": {
    "collapsed": true
   },
   "outputs": [],
   "source": [
    "validation_prediction_ls = model_ls.predict(feature_numpy_validation).tolist()"
   ]
  },
  {
   "cell_type": "code",
   "execution_count": 176,
   "metadata": {
    "collapsed": true
   },
   "outputs": [],
   "source": [
    "model_comparison['model_ls_unmodified'] = validation_prediction_ls"
   ]
  },
  {
   "cell_type": "code",
   "execution_count": 177,
   "metadata": {
    "collapsed": true
   },
   "outputs": [],
   "source": [
    "validation_prediction_ls_modified = prediction_modification(validation_prediction_ls)"
   ]
  },
  {
   "cell_type": "code",
   "execution_count": 178,
   "metadata": {
    "collapsed": true
   },
   "outputs": [],
   "source": [
    "(sum, count, mape_ls) = mape(validation_target,validation_prediction_ls_modified)"
   ]
  },
  {
   "cell_type": "code",
   "execution_count": 179,
   "metadata": {
    "collapsed": false
   },
   "outputs": [
    {
     "name": "stdout",
     "output_type": "stream",
     "text": [
      "mape_ls = 0.522662\n"
     ]
    }
   ],
   "source": [
    "print \"mape_ls = %f\" %mape_ls"
   ]
  },
  {
   "cell_type": "code",
   "execution_count": 180,
   "metadata": {
    "collapsed": true
   },
   "outputs": [],
   "source": [
    "rmse_ls = np.sqrt(mean_squared_error(validation_target,validation_prediction_ls_modified))"
   ]
  },
  {
   "cell_type": "code",
   "execution_count": 181,
   "metadata": {
    "collapsed": false
   },
   "outputs": [
    {
     "name": "stdout",
     "output_type": "stream",
     "text": [
      "rmse_ls = 42.010155\n"
     ]
    }
   ],
   "source": [
    "print \"rmse_ls = %f\" %rmse_ls"
   ]
  },
  {
   "cell_type": "code",
   "execution_count": 182,
   "metadata": {
    "collapsed": true
   },
   "outputs": [],
   "source": [
    "\n",
    "model_comparison['model_ls_modified'] = validation_prediction_ls_modified"
   ]
  },
  {
   "cell_type": "markdown",
   "metadata": {},
   "source": [
    "* Graphlab model"
   ]
  },
  {
   "cell_type": "code",
   "execution_count": 211,
   "metadata": {
    "collapsed": false
   },
   "outputs": [],
   "source": [
    "validation_prediction_gl = list(model_gl.predict(data_training_validation) + data_training_validation['gap_t(j-1)'])"
   ]
  },
  {
   "cell_type": "code",
   "execution_count": 212,
   "metadata": {
    "collapsed": true
   },
   "outputs": [],
   "source": [
    "model_comparison['model_gl_unmodified'] = validation_prediction_gl"
   ]
  },
  {
   "cell_type": "code",
   "execution_count": 213,
   "metadata": {
    "collapsed": false
   },
   "outputs": [],
   "source": [
    "validation_prediction_gl_modified = prediction_modification(validation_prediction_gl)"
   ]
  },
  {
   "cell_type": "code",
   "execution_count": 214,
   "metadata": {
    "collapsed": true
   },
   "outputs": [],
   "source": [
    "(sum, count, mape_gl) = mape(validation_target,validation_prediction_gl_modified)"
   ]
  },
  {
   "cell_type": "code",
   "execution_count": 215,
   "metadata": {
    "collapsed": false
   },
   "outputs": [
    {
     "name": "stdout",
     "output_type": "stream",
     "text": [
      "mape_gl = 0.573883\n"
     ]
    }
   ],
   "source": [
    "print \"mape_gl = %f\" %mape_gl"
   ]
  },
  {
   "cell_type": "code",
   "execution_count": 216,
   "metadata": {
    "collapsed": true
   },
   "outputs": [],
   "source": [
    "rmse_gl = np.sqrt(mean_squared_error(validation_target,validation_prediction_gl_modified))"
   ]
  },
  {
   "cell_type": "code",
   "execution_count": 217,
   "metadata": {
    "collapsed": false
   },
   "outputs": [
    {
     "name": "stdout",
     "output_type": "stream",
     "text": [
      "rmse_gl = 11.899280\n"
     ]
    }
   ],
   "source": [
    "print \"rmse_gl = %f\" %rmse_gl"
   ]
  },
  {
   "cell_type": "code",
   "execution_count": 218,
   "metadata": {
    "collapsed": true
   },
   "outputs": [],
   "source": [
    "\n",
    "model_comparison['model_gl_modified'] = validation_prediction_gl_modified"
   ]
  },
  {
   "cell_type": "markdown",
   "metadata": {},
   "source": [
    "* Export data"
   ]
  },
  {
   "cell_type": "code",
   "execution_count": 219,
   "metadata": {
    "collapsed": false
   },
   "outputs": [],
   "source": [
    "model_comparison.export_csv(\"model_comparison.csv\")"
   ]
  },
  {
   "cell_type": "code",
   "execution_count": 220,
   "metadata": {
    "collapsed": false
   },
   "outputs": [],
   "source": [
    "#model_comparison"
   ]
  },
  {
   "cell_type": "code",
   "execution_count": 221,
   "metadata": {
    "collapsed": true
   },
   "outputs": [],
   "source": [
    "################################################################################"
   ]
  },
  {
   "cell_type": "markdown",
   "metadata": {},
   "source": [
    "### New boosting: integrate Graphlab rmse model and Scikit lad model\n",
    "* Low rmse is used to fit big gap numbers\n",
    "* Low lad is used to fit most of the numbers (here small gap numbers)\n",
    "* Ask machine to learn how to choose different models"
   ]
  },
  {
   "cell_type": "code",
   "execution_count": 222,
   "metadata": {
    "collapsed": true
   },
   "outputs": [],
   "source": [
    "data_boosting = graphlab.SFrame()\n",
    "data_boosting = data_training_validation['start_district_id', 'time_slot_id', \n",
    "                                         'gap_t(j)', 'gap_t(j-1)', 'gap_t(j-2)', 'gap_t(j-3)', 'day_of_week']\n",
    "data_boosting['gl_ls_predicted'] = validation_prediction_gl_modified\n",
    "data_boosting['scikit_lad_predicted'] = validation_prediction_lad_modified\n",
    "features_boosting = ['gl_ls_predicted', 'scikit_lad_predicted']\n",
    "\n"
   ]
  },
  {
   "cell_type": "code",
   "execution_count": 223,
   "metadata": {
    "collapsed": false
   },
   "outputs": [
    {
     "name": "stdout",
     "output_type": "stream",
     "text": [
      "      Iter       Train Loss   Remaining Time \n",
      "         1           3.2243            1.09s\n",
      "         2           3.2157            1.08s\n",
      "         3           3.2071            1.10s\n",
      "         4           3.1986            1.10s\n",
      "         5           3.1901            1.08s\n",
      "         6           3.1818            1.10s\n",
      "         7           3.1735            1.05s\n",
      "         8           3.1577            1.06s\n",
      "         9           3.1420            1.04s\n",
      "        10           3.1264            1.04s\n",
      "        20           2.9778            0.94s\n",
      "        30           2.8410            0.83s\n",
      "        40           2.6882            0.66s\n",
      "        50           2.5617            0.56s\n",
      "        60           2.4350            0.45s\n",
      "        70           2.2879            0.32s\n",
      "        80           2.1646            0.21s\n",
      "        90           2.0320            0.10s\n",
      "       100           1.9170            0.00s\n"
     ]
    },
    {
     "data": {
      "text/plain": [
       "GradientBoostingRegressor(alpha=0.5, init=None, learning_rate=0.01,\n",
       "             loss='quantile', max_depth=4, max_features=None,\n",
       "             max_leaf_nodes=None, min_samples_leaf=1, min_samples_split=1,\n",
       "             min_weight_fraction_leaf=0.0, n_estimators=100,\n",
       "             presort='auto', random_state=None, subsample=1.0,\n",
       "             verbose=True, warm_start=False)"
      ]
     },
     "execution_count": 223,
     "metadata": {},
     "output_type": "execute_result"
    }
   ],
   "source": [
    "params = {'n_estimators':100, 'max_depth': 4, 'min_samples_split': 1, 'verbose': True,\n",
    "          'learning_rate': 0.01, 'loss': 'quantile', 'alpha': 0.5}\n",
    "model_boosting = ensemble.GradientBoostingRegressor(**params)\n",
    "\n",
    "feature_numpy_boosting = data_boosting[features_boosting].to_numpy().astype(float)\n",
    "target_numpy_boosting = data_boosting['gap_t(j)'].to_numpy().astype(float)\n",
    "\n",
    "model_boosting.fit(feature_numpy_boosting, target_numpy_boosting)"
   ]
  },
  {
   "cell_type": "code",
   "execution_count": null,
   "metadata": {
    "collapsed": true
   },
   "outputs": [],
   "source": []
  },
  {
   "cell_type": "code",
   "execution_count": 224,
   "metadata": {
    "collapsed": false
   },
   "outputs": [
    {
     "data": {
      "text/plain": [
       "\"\\nmodel_boosting = graphlab.boosted_trees_regression.create(data_boosting, features = features_boosting, target='gap_t(j)', \\n                                                          max_iterations = 100,\\n                                                          max_depth = 9, random_seed = 1)\\n\""
      ]
     },
     "execution_count": 224,
     "metadata": {},
     "output_type": "execute_result"
    }
   ],
   "source": [
    "'''\n",
    "model_boosting = graphlab.boosted_trees_regression.create(data_boosting, features = features_boosting, target='gap_t(j)', \n",
    "                                                          max_iterations = 100,\n",
    "                                                          max_depth = 9, random_seed = 1)\n",
    "'''"
   ]
  },
  {
   "cell_type": "code",
   "execution_count": null,
   "metadata": {
    "collapsed": true
   },
   "outputs": [],
   "source": []
  },
  {
   "cell_type": "code",
   "execution_count": 225,
   "metadata": {
    "collapsed": true
   },
   "outputs": [],
   "source": [
    "validation_prediction_boosting = model_boosting.predict(feature_numpy_boosting).tolist()\n",
    "#validation_prediction_boosting = list(model_boosting.predict(data_training_validation))"
   ]
  },
  {
   "cell_type": "code",
   "execution_count": 226,
   "metadata": {
    "collapsed": true
   },
   "outputs": [],
   "source": [
    "validation_prediction_boosting_modified = prediction_modification(validation_prediction_boosting)"
   ]
  },
  {
   "cell_type": "code",
   "execution_count": 227,
   "metadata": {
    "collapsed": true
   },
   "outputs": [],
   "source": [
    "(sum, count, mape_boosting) = mape(validation_target,validation_prediction_boosting_modified)"
   ]
  },
  {
   "cell_type": "code",
   "execution_count": 228,
   "metadata": {
    "collapsed": true
   },
   "outputs": [],
   "source": [
    "rmse_boosting = np.sqrt(mean_squared_error(validation_target,validation_prediction_boosting_modified))"
   ]
  },
  {
   "cell_type": "code",
   "execution_count": 229,
   "metadata": {
    "collapsed": false
   },
   "outputs": [
    {
     "name": "stdout",
     "output_type": "stream",
     "text": [
      "mape_boosting = 0.424782\n",
      "rmse_boosting = 32.632881\n"
     ]
    }
   ],
   "source": [
    "print \"mape_boosting = %f\" %mape_boosting\n",
    "print \"rmse_boosting = %f\" %rmse_boosting"
   ]
  },
  {
   "cell_type": "code",
   "execution_count": 230,
   "metadata": {
    "collapsed": false
   },
   "outputs": [
    {
     "data": {
      "text/html": [
       "<div style=\"max-height:1000px;max-width:1500px;overflow:auto;\"><table frame=\"box\" rules=\"cols\">\n",
       "    <tr>\n",
       "        <th style=\"padding-left: 1em; padding-right: 1em; text-align: center\">gap_t(j)</th>\n",
       "        <th style=\"padding-left: 1em; padding-right: 1em; text-align: center\">gl_ls_predicted</th>\n",
       "        <th style=\"padding-left: 1em; padding-right: 1em; text-align: center\">scikit_lad_predicted</th>\n",
       "        <th style=\"padding-left: 1em; padding-right: 1em; text-align: center\">prediction_boosting</th>\n",
       "    </tr>\n",
       "    <tr>\n",
       "        <td style=\"padding-left: 1em; padding-right: 1em; text-align: center; vertical-align: top\">5</td>\n",
       "        <td style=\"padding-left: 1em; padding-right: 1em; text-align: center; vertical-align: top\">8.47780823708</td>\n",
       "        <td style=\"padding-left: 1em; padding-right: 1em; text-align: center; vertical-align: top\">9.09144865451</td>\n",
       "        <td style=\"padding-left: 1em; padding-right: 1em; text-align: center; vertical-align: top\">5.06766903545</td>\n",
       "    </tr>\n",
       "    <tr>\n",
       "        <td style=\"padding-left: 1em; padding-right: 1em; text-align: center; vertical-align: top\">2</td>\n",
       "        <td style=\"padding-left: 1em; padding-right: 1em; text-align: center; vertical-align: top\">5.33435690403</td>\n",
       "        <td style=\"padding-left: 1em; padding-right: 1em; text-align: center; vertical-align: top\">5.73950876422</td>\n",
       "        <td style=\"padding-left: 1em; padding-right: 1em; text-align: center; vertical-align: top\">3.31784365065</td>\n",
       "    </tr>\n",
       "    <tr>\n",
       "        <td style=\"padding-left: 1em; padding-right: 1em; text-align: center; vertical-align: top\">3</td>\n",
       "        <td style=\"padding-left: 1em; padding-right: 1em; text-align: center; vertical-align: top\">4.15773952007</td>\n",
       "        <td style=\"padding-left: 1em; padding-right: 1em; text-align: center; vertical-align: top\">2.99199503186</td>\n",
       "        <td style=\"padding-left: 1em; padding-right: 1em; text-align: center; vertical-align: top\">2.43592442315</td>\n",
       "    </tr>\n",
       "    <tr>\n",
       "        <td style=\"padding-left: 1em; padding-right: 1em; text-align: center; vertical-align: top\">20</td>\n",
       "        <td style=\"padding-left: 1em; padding-right: 1em; text-align: center; vertical-align: top\">7.40858078003</td>\n",
       "        <td style=\"padding-left: 1em; padding-right: 1em; text-align: center; vertical-align: top\">9.81417738877</td>\n",
       "        <td style=\"padding-left: 1em; padding-right: 1em; text-align: center; vertical-align: top\">5.04943948116</td>\n",
       "    </tr>\n",
       "    <tr>\n",
       "        <td style=\"padding-left: 1em; padding-right: 1em; text-align: center; vertical-align: top\">1</td>\n",
       "        <td style=\"padding-left: 1em; padding-right: 1em; text-align: center; vertical-align: top\">3.44815015793</td>\n",
       "        <td style=\"padding-left: 1em; padding-right: 1em; text-align: center; vertical-align: top\">2.17741270416</td>\n",
       "        <td style=\"padding-left: 1em; padding-right: 1em; text-align: center; vertical-align: top\">2.17332931596</td>\n",
       "    </tr>\n",
       "    <tr>\n",
       "        <td style=\"padding-left: 1em; padding-right: 1em; text-align: center; vertical-align: top\">3</td>\n",
       "        <td style=\"padding-left: 1em; padding-right: 1em; text-align: center; vertical-align: top\">2.21392524242</td>\n",
       "        <td style=\"padding-left: 1em; padding-right: 1em; text-align: center; vertical-align: top\">1.18768249833</td>\n",
       "        <td style=\"padding-left: 1em; padding-right: 1em; text-align: center; vertical-align: top\">1.27164704609</td>\n",
       "    </tr>\n",
       "    <tr>\n",
       "        <td style=\"padding-left: 1em; padding-right: 1em; text-align: center; vertical-align: top\">213</td>\n",
       "        <td style=\"padding-left: 1em; padding-right: 1em; text-align: center; vertical-align: top\">229.524843216</td>\n",
       "        <td style=\"padding-left: 1em; padding-right: 1em; text-align: center; vertical-align: top\">214.158436573</td>\n",
       "        <td style=\"padding-left: 1em; padding-right: 1em; text-align: center; vertical-align: top\">104.453338011</td>\n",
       "    </tr>\n",
       "    <tr>\n",
       "        <td style=\"padding-left: 1em; padding-right: 1em; text-align: center; vertical-align: top\">2</td>\n",
       "        <td style=\"padding-left: 1em; padding-right: 1em; text-align: center; vertical-align: top\">8.46961545944</td>\n",
       "        <td style=\"padding-left: 1em; padding-right: 1em; text-align: center; vertical-align: top\">4.866583871</td>\n",
       "        <td style=\"padding-left: 1em; padding-right: 1em; text-align: center; vertical-align: top\">4.59229819978</td>\n",
       "    </tr>\n",
       "    <tr>\n",
       "        <td style=\"padding-left: 1em; padding-right: 1em; text-align: center; vertical-align: top\">5</td>\n",
       "        <td style=\"padding-left: 1em; padding-right: 1em; text-align: center; vertical-align: top\">5.52556502819</td>\n",
       "        <td style=\"padding-left: 1em; padding-right: 1em; text-align: center; vertical-align: top\">4.03724018328</td>\n",
       "        <td style=\"padding-left: 1em; padding-right: 1em; text-align: center; vertical-align: top\">3.79238464621</td>\n",
       "    </tr>\n",
       "    <tr>\n",
       "        <td style=\"padding-left: 1em; padding-right: 1em; text-align: center; vertical-align: top\">6</td>\n",
       "        <td style=\"padding-left: 1em; padding-right: 1em; text-align: center; vertical-align: top\">7.74049800634</td>\n",
       "        <td style=\"padding-left: 1em; padding-right: 1em; text-align: center; vertical-align: top\">6.73946929963</td>\n",
       "        <td style=\"padding-left: 1em; padding-right: 1em; text-align: center; vertical-align: top\">4.99606156597</td>\n",
       "    </tr>\n",
       "</table>\n",
       "[19421 rows x 4 columns]<br/>Note: Only the head of the SFrame is printed.<br/>You can use print_rows(num_rows=m, num_columns=n) to print more rows and columns.\n",
       "</div>"
      ],
      "text/plain": [
       "Columns:\n",
       "\tgap_t(j)\tint\n",
       "\tgl_ls_predicted\tfloat\n",
       "\tscikit_lad_predicted\tfloat\n",
       "\tprediction_boosting\tfloat\n",
       "\n",
       "Rows: 19421\n",
       "\n",
       "Data:\n",
       "+----------+-----------------+----------------------+---------------------+\n",
       "| gap_t(j) | gl_ls_predicted | scikit_lad_predicted | prediction_boosting |\n",
       "+----------+-----------------+----------------------+---------------------+\n",
       "|    5     |  8.47780823708  |    9.09144865451     |    5.06766903545    |\n",
       "|    2     |  5.33435690403  |    5.73950876422     |    3.31784365065    |\n",
       "|    3     |  4.15773952007  |    2.99199503186     |    2.43592442315    |\n",
       "|    20    |  7.40858078003  |    9.81417738877     |    5.04943948116    |\n",
       "|    1     |  3.44815015793  |    2.17741270416     |    2.17332931596    |\n",
       "|    3     |  2.21392524242  |    1.18768249833     |    1.27164704609    |\n",
       "|   213    |  229.524843216  |    214.158436573     |    104.453338011    |\n",
       "|    2     |  8.46961545944  |     4.866583871      |    4.59229819978    |\n",
       "|    5     |  5.52556502819  |    4.03724018328     |    3.79238464621    |\n",
       "|    6     |  7.74049800634  |    6.73946929963     |    4.99606156597    |\n",
       "+----------+-----------------+----------------------+---------------------+\n",
       "[19421 rows x 4 columns]\n",
       "Note: Only the head of the SFrame is printed.\n",
       "You can use print_rows(num_rows=m, num_columns=n) to print more rows and columns."
      ]
     },
     "execution_count": 230,
     "metadata": {},
     "output_type": "execute_result"
    }
   ],
   "source": [
    "data_boosting['prediction_boosting'] = validation_prediction_boosting\n",
    "data_boosting['gap_t(j)','gl_ls_predicted','scikit_lad_predicted','prediction_boosting']"
   ]
  },
  {
   "cell_type": "markdown",
   "metadata": {},
   "source": [
    "### Conditional Combination"
   ]
  },
  {
   "cell_type": "code",
   "execution_count": 232,
   "metadata": {
    "collapsed": false
   },
   "outputs": [
    {
     "name": "stdout",
     "output_type": "stream",
     "text": [
      "+----------+-----------------+----------------------+---------------------+\n",
      "| gap_t(j) | gl_ls_predicted | scikit_lad_predicted | prediction_boosting |\n",
      "+----------+-----------------+----------------------+---------------------+\n",
      "|    5     |  8.47780823708  |    9.09144865451     |    5.06766903545    |\n",
      "|    2     |  5.33435690403  |    5.73950876422     |    3.31784365065    |\n",
      "|    3     |  4.15773952007  |    2.99199503186     |    2.43592442315    |\n",
      "|    20    |  7.40858078003  |    9.81417738877     |    5.04943948116    |\n",
      "|    1     |  3.44815015793  |    2.17741270416     |    2.17332931596    |\n",
      "|    3     |  2.21392524242  |    1.18768249833     |    1.27164704609    |\n",
      "|   213    |  229.524843216  |    214.158436573     |    104.453338011    |\n",
      "|    2     |  8.46961545944  |     4.866583871      |    4.59229819978    |\n",
      "|    5     |  5.52556502819  |    4.03724018328     |    3.79238464621    |\n",
      "|    6     |  7.74049800634  |    6.73946929963     |    4.99606156597    |\n",
      "|    7     |  4.84199798107  |    3.30671821562     |    3.10932169028    |\n",
      "|    22    |   14.520188868  |    14.2762800974     |    8.12716961515    |\n",
      "|    2     |   14.785969913  |    13.5689642632     |    8.12716961515    |\n",
      "|    6     |  5.18347883224  |     3.9225276049     |    3.10932169028    |\n",
      "|    6     |  4.57070398331  |    2.52015786429     |    2.79295338532    |\n",
      "|    3     |  6.05107474327  |    4.95828141816     |    3.80478964191    |\n",
      "|    12    |  7.90131533146  |    5.79278545449     |    4.59229819978    |\n",
      "|    6     |  10.2812707424  |    10.8290607546     |    7.07198674596    |\n",
      "|    6     |  6.70759141445  |    6.00670575691     |    4.11227281062    |\n",
      "|    7     |   8.2646343708  |    9.03723378019     |    5.06766903545    |\n",
      "|    7     |   9.9337464571  |    9.90362345658     |    7.07198674596    |\n",
      "|    5     |  3.83699685335  |    3.84521166566     |    2.22491461878    |\n",
      "|    0     |       1.0       |         1.0          |         1.0         |\n",
      "|    0     |       1.0       |     1.0008459478     |         1.0         |\n",
      "|    0     |       1.0       |         1.0          |         1.0         |\n",
      "|    0     |       1.0       |         1.0          |         1.0         |\n",
      "|    0     |       1.0       |        1.9402        |         1.0         |\n",
      "|    0     |       1.0       |         1.0          |         1.0         |\n",
      "|    0     |  1.17458385229  |         1.0          |         1.0         |\n",
      "|    1     |       1.0       |         1.0          |         1.0         |\n",
      "|    3     |       1.0       |         1.0          |         1.0         |\n",
      "|    2     |  1.47680878639  |    1.96918726684     |         1.0         |\n",
      "|    0     |       1.0       |         1.0          |         1.0         |\n",
      "|    2     |       1.0       |         1.0          |         1.0         |\n",
      "|    0     |  2.08103251457  |    1.16515940008     |    1.34434077943    |\n",
      "|    4     |       1.0       |         1.0          |         1.0         |\n",
      "|    1     |       1.0       |         1.0          |         1.0         |\n",
      "|    0     |       1.0       |         1.0          |         1.0         |\n",
      "|    1     |       1.0       |         1.0          |         1.0         |\n",
      "|    0     |       1.0       |         1.0          |         1.0         |\n",
      "|    1     |       1.0       |         1.0          |         1.0         |\n",
      "|    0     |       1.0       |     1.0006479378     |         1.0         |\n",
      "|    0     |       1.0       |         1.0          |         1.0         |\n",
      "|    0     |       1.0       |         1.0          |         1.0         |\n",
      "|    4     |  7.34058117867  |    8.97375781452     |    5.04943948116    |\n",
      "|    0     |  1.45447987318  |         1.0          |         1.0         |\n",
      "|    2     |  2.07669234276  |    2.96375781452     |         1.0         |\n",
      "|    0     |  1.26610660553  |         1.0          |         1.0         |\n",
      "|    15    |   2.6986027956  |    3.00271685891     |    1.87318110517    |\n",
      "|    3     |  3.82301127911  |        4.9702        |    2.10192582534    |\n",
      "|    0     |  2.05519461632  |    2.01271685891     |         1.0         |\n",
      "|    0     |       1.0       |         1.0          |         1.0         |\n",
      "|    0     |       1.0       |         1.0          |         1.0         |\n",
      "|    0     |  1.16276836395  |         1.0          |         1.0         |\n",
      "|    1     |       1.0       |         1.0          |         1.0         |\n",
      "|    0     |       1.0       |         1.0          |         1.0         |\n",
      "|    1     |       1.0       |    1.08034200375     |         1.0         |\n",
      "|    0     |       1.0       |         1.0          |         1.0         |\n",
      "|    2     |  2.16718959808  |    1.17665778808     |    1.34434077943    |\n",
      "|    0     |  1.73324978352  |    1.34530441822     |         1.0         |\n",
      "|    1     |       1.0       |         1.0          |         1.0         |\n",
      "|    2     |  1.66315102577  |    2.08034200375     |         1.0         |\n",
      "|    6     |  23.8065028191  |    23.2865713754     |    13.4623371213    |\n",
      "|    7     |  2.18385004997  |    1.19636857987     |    1.34434077943    |\n",
      "|    18    |   6.387601614   |    4.98666316636     |    3.80478964191    |\n",
      "|    49    |  64.5424580574  |     66.482229608     |     38.082630238    |\n",
      "|    47    |  44.9362793565  |    44.4531760723     |    28.6024220023    |\n",
      "|    50    |  43.7706108093  |    47.5021303971     |    27.4436569319    |\n",
      "|    3     |  4.26654303074  |    3.80498477542     |    2.40409774851    |\n",
      "|    3     |  4.33700788021  |    3.02278198935     |    2.60695525489    |\n",
      "|    2     |  4.07060992718  |    3.13490668967     |    2.37605847399    |\n",
      "|    1     |       1.0       |    1.82016517686     |         1.0         |\n",
      "|    0     |       1.0       |         1.0          |         1.0         |\n",
      "|    0     |       1.0       |         1.0          |         1.0         |\n",
      "|    0     |       1.0       |         1.0          |         1.0         |\n",
      "|    0     |       1.0       |         1.0          |         1.0         |\n",
      "|    0     |       1.0       |         1.0          |         1.0         |\n",
      "|    0     |       1.0       |         1.0          |         1.0         |\n",
      "|    0     |       1.0       |         1.0          |         1.0         |\n",
      "|    0     |       1.0       |         1.0          |         1.0         |\n",
      "|    11    |  4.03142678738  |    4.03271685891     |    2.25741206389    |\n",
      "|    4     |  2.19305470586  |         1.98         |         1.0         |\n",
      "|    8     |  1.32599014044  |         1.0          |         1.0         |\n",
      "|    3     |       1.0       |         1.0          |         1.0         |\n",
      "|    0     |  1.47773575783  |         1.0          |         1.0         |\n",
      "|    7     |  3.33928060532  |    5.96375781452     |    2.09752448367    |\n",
      "|    1     |       1.0       |         1.0          |         1.0         |\n",
      "|    0     |       1.0       |         1.0          |         1.0         |\n",
      "|    0     |       1.0       |         1.0          |         1.0         |\n",
      "|    0     |       1.0       |         1.0          |         1.0         |\n",
      "|    0     |  1.03642010689  |         1.0          |         1.0         |\n",
      "|    0     |  1.61094868183  |      1.98029701      |         1.0         |\n",
      "|    14    |  9.52118426561  |    8.99140737785     |    6.28500029202    |\n",
      "|    21    |  15.9824830294  |     16.935201801     |    10.3036669635    |\n",
      "|    27    |  20.6467016339  |    19.8966244845     |    11.5315416113    |\n",
      "|    18    |  17.9411119223  |    18.8966244845     |    10.3036669635    |\n",
      "|    7     |  4.69608187675  |    6.97696733066     |    3.14938347866    |\n",
      "|    0     |  1.41247552633  |         1.0          |         1.0         |\n",
      "|    0     |       1.0       |         1.0          |         1.0         |\n",
      "|    1     |       1.0       |         1.0          |         1.0         |\n",
      "+----------+-----------------+----------------------+---------------------+\n",
      "[19421 rows x 4 columns]\n",
      "\n",
      "\n"
     ]
    }
   ],
   "source": [
    "data_boosting['gap_t(j)','gl_ls_predicted','scikit_lad_predicted','prediction_boosting'].print_rows(num_rows=100)"
   ]
  },
  {
   "cell_type": "code",
   "execution_count": 231,
   "metadata": {
    "collapsed": false
   },
   "outputs": [
    {
     "name": "stdout",
     "output_type": "stream",
     "text": [
      "0.570259125157\n",
      "0.567298727425\n",
      "0.565697333198\n",
      "0.566166674844\n",
      "0.568487390033\n",
      "0.568749753305\n",
      "0.570549214444\n",
      "0.569713403601\n",
      "0.570640275905\n",
      "0.570489051228\n",
      "0.570413912739\n",
      "0.568531330152\n",
      "0.567569017628\n",
      "0.568041407927\n",
      "0.567866493822\n",
      "0.565561355237\n",
      "0.565018214249\n",
      "0.566323210447\n",
      "0.566608338985\n",
      "0.56814673299\n",
      "0.567927496561\n",
      "0.568074661623\n",
      "0.56829985447\n",
      "0.568432038244\n",
      "0.568420245469\n",
      "0.570034839604\n",
      "0.570186912503\n",
      "0.571003556117\n",
      "0.571384006716\n",
      "0.571656534604\n",
      "0.571866086603\n",
      "0.57240090654\n",
      "0.573570847033\n",
      "0.573611927866\n",
      "0.574113183452\n",
      "0.574535545975\n",
      "0.574790989261\n",
      "0.57485442174\n",
      "0.574949780653\n",
      "0.575046138813\n",
      "0.575157133471\n",
      "0.57540221111\n",
      "0.57539431799\n",
      "0.575629223064\n",
      "0.575607530628\n",
      "0.57571374491\n",
      "0.575718388395\n",
      "0.575742923591\n",
      "0.575709311349\n",
      "0.575672925493\n",
      "0.575787469576\n",
      "0.575739472862\n",
      "0.575738551285\n",
      "0.575945192897\n",
      "0.57597491309\n",
      "0.575956897745\n",
      "0.575999685151\n",
      "0.575985846425\n",
      "0.576097158998\n",
      "0.576112264835\n",
      "0.576076462607\n",
      "0.576561991985\n",
      "0.5763307541\n",
      "0.576417534778\n",
      "0.57648419792\n",
      "0.577021170855\n",
      "0.576764365974\n",
      "0.576711959568\n",
      "0.577120765856\n",
      "0.57720257247\n",
      "0.577326006308\n",
      "0.577263838121\n",
      "0.577269733044\n",
      "0.577739495455\n",
      "0.577728340169\n",
      "0.577775385573\n",
      "0.57777432949\n",
      "0.577863851174\n",
      "0.57788639652\n",
      "0.577888731153\n",
      "0.577935937143\n",
      "0.577955216816\n",
      "0.577971985458\n",
      "0.577946054031\n",
      "0.578082057274\n",
      "0.577970699409\n",
      "0.577957413427\n",
      "0.578344985846\n",
      "0.57891767399\n",
      "0.578948032328\n",
      "0.579065739795\n",
      "0.579135345862\n",
      "0.579044353211\n",
      "0.579200140538\n",
      "0.579177820141\n",
      "0.57917457887\n",
      "0.579186595276\n",
      "0.579186153448\n",
      "0.579221266435\n",
      "0.579180822517\n",
      "0.579180822517\n",
      "0.57917923744\n",
      "0.579172302049\n",
      "0.579202318693\n",
      "0.579627523985\n",
      "0.579624203834\n",
      "0.579654821408\n",
      "0.579890264445\n",
      "0.579920946163\n",
      "0.580042847575\n",
      "0.580091982545\n",
      "0.580131362939\n",
      "0.580228153352\n",
      "0.581077288205\n",
      "0.581055092037\n",
      "0.581064106772\n",
      "0.580915258305\n",
      "0.580958210842\n",
      "0.580990874094\n",
      "0.580998516074\n",
      "0.58104256989\n",
      "0.581036400762\n",
      "0.580940971815\n",
      "0.580936691106\n",
      "0.580928979406\n",
      "0.581023729402\n",
      "0.581025668116\n",
      "0.581116564117\n",
      "0.581085610842\n",
      "0.581132013412\n",
      "0.581093096722\n",
      "0.58114324711\n",
      "0.581149276858\n",
      "0.581150393395\n",
      "0.581148044388\n",
      "0.581145281751\n",
      "0.581479465413\n",
      "0.581467491494\n",
      "0.581413283626\n",
      "0.581488330015\n",
      "0.581482610048\n",
      "0.581496228718\n",
      "0.581695738276\n",
      "0.581732598595\n",
      "0.581692979014\n",
      "0.581683618714\n",
      "0.581683618714\n",
      "0.581696257637\n",
      "0.581702075627\n",
      "0.581722407774\n",
      "0.581716406211\n",
      "0.581795885574\n",
      "0.58179148163\n",
      "0.58179148163\n",
      "0.581794144484\n",
      "0.58179865182\n",
      "0.581793904191\n",
      "0.581828081449\n",
      "0.581894387457\n",
      "0.581894387457\n",
      "0.5818726995\n",
      "0.581975310826\n",
      "0.581980168925\n",
      "0.581980168925\n",
      "0.581974583642\n",
      "0.581983638562\n",
      "0.582012224515\n",
      "0.582002925281\n",
      "0.581962590633\n",
      "0.581983976468\n",
      "0.582055731517\n",
      "0.582055731517\n",
      "0.582084296761\n",
      "0.582084296761\n",
      "0.582150230628\n",
      "0.582150230628\n",
      "0.582139871495\n",
      "0.582139871495\n",
      "0.582139871495\n",
      "0.582127316222\n",
      "0.582214925093\n",
      "0.582286339845\n",
      "0.582286339845\n",
      "0.582308344383\n",
      "0.582283590647\n",
      "0.582349229332\n",
      "0.582343969059\n",
      "0.582344214676\n",
      "0.582344214676\n",
      "0.582344214676\n",
      "0.582337660651\n",
      "0.58237499084\n",
      "0.58237499084\n",
      "0.582413189189\n",
      "0.582413189189\n",
      "0.582418280807\n",
      "0.582394445235\n",
      "0.582357857438\n",
      "0.582425194795\n",
      "0.582420102991\n",
      "0.582429792665\n",
      "0.582429792665\n",
      "0.582409523926\n",
      "0.583726045397\n",
      "0.583741730747\n",
      "0.584274023884\n",
      "0.584283589031\n",
      "0.584358457177\n",
      "0.584394277366\n",
      "0.585069748076\n",
      "0.585069748076\n",
      "0.585072250978\n",
      "0.585096827691\n",
      "0.585086367186\n",
      "0.585079268617\n",
      "0.585079268617\n",
      "0.585079268617\n",
      "0.585498994576\n",
      "0.585498994576\n",
      "0.585513485556\n",
      "0.585513485556\n",
      "0.585513485556\n",
      "0.585535379865\n",
      "0.585535379865\n",
      "0.58554099424\n",
      "0.58554099424\n",
      "0.58554099424\n",
      "0.58554099424\n",
      "0.585553149878\n",
      "0.585553149878\n",
      "0.585558887577\n",
      "0.585528026285\n",
      "0.585528026285\n",
      "0.585528026285\n",
      "0.585528026285\n",
      "0.585528026285\n",
      "0.585528026285\n",
      "0.585534364114\n",
      "0.585534364114\n",
      "0.585539276302\n",
      "0.585539276302\n",
      "0.585539276302\n",
      "0.585539276302\n",
      "0.585544464867\n",
      "0.585544464867\n",
      "0.585600191042\n",
      "0.58560056046\n",
      "0.58560056046\n",
      "0.58560056046\n",
      "0.585601836088\n",
      "0.585597063592\n",
      "0.585611968312\n",
      "0.585611968312\n",
      "0.585606036561\n",
      "0.585659669242\n",
      "0.585659669242\n",
      "0.585659669242\n",
      "0.585659669242\n",
      "0.585659669242\n",
      "0.585660478754\n",
      "0.585660478754\n",
      "0.585691145739\n",
      "0.585691145739\n",
      "0.585717282454\n",
      "0.585717282454\n",
      "0.585701081066\n",
      "0.585701081066\n",
      "0.58571637799\n",
      "0.58571637799\n",
      "0.585952196147\n",
      "0.585952196147\n",
      "0.585952196147\n",
      "0.585952196147\n",
      "0.585970114524\n",
      "0.585970114524\n",
      "0.586091500471\n",
      "0.586105862191\n",
      "0.586105862191\n",
      "0.586108931007\n",
      "0.58611447694\n",
      "0.58611447694\n",
      "0.58611447694\n",
      "0.58611447694\n",
      "0.58615849086\n",
      "0.58615849086\n",
      "0.586143449307\n",
      "0.586165305342\n",
      "0.586165305342\n",
      "0.586165305342\n",
      "0.586165305342\n",
      "0.586165305342\n",
      "0.586165305342\n",
      "0.586165305342\n",
      "0.586220499475\n",
      "0.586220499475\n",
      "0.586220499475\n",
      "0.586220499475\n",
      "0.586220499475\n",
      "0.586220499475\n",
      "0.586220499475\n",
      "0.586340711069\n",
      "0.586340711069\n",
      "0.586340711069\n",
      "0.586340711069\n",
      "0.586406260329\n",
      "0.586406260329\n",
      "0.586407604594\n",
      "0.586441583204\n",
      "0.586441583204\n",
      "0.58646022641\n",
      "0.58646022641\n",
      "0.58646022641\n",
      "0.58646022641\n",
      "0.58646022641\n",
      "0.58646263503\n",
      "0.58646263503\n",
      "0.586467943332\n",
      "0.586467943332\n",
      "0.586491337612\n",
      "0.586491337612\n",
      "0.586491337612\n",
      "0.586482682353\n",
      "0.586482682353\n",
      "0.586482682353\n",
      "0.586486580356\n",
      "0.586503242933\n",
      "0.586503242933\n",
      "0.586503242933\n",
      "0.586503242933\n",
      "0.586503242933\n",
      "0.586503242933\n",
      "0.586503242933\n",
      "0.586499135035\n",
      "0.586499135035\n",
      "0.586499135035\n",
      "0.586496677319\n",
      "0.586496677319\n",
      "0.586496677319\n",
      "0.586496677319\n",
      "0.586496677319\n",
      "0.586496677319\n",
      "0.586496677319\n",
      "0.58649979925\n",
      "0.58649979925\n",
      "0.586491983529\n",
      "0.586455279599\n",
      "0.586455279599\n",
      "0.586455279599\n",
      "0.586455279599\n",
      "0.586455279599\n",
      "0.586455279599\n",
      "0.586455279599\n",
      "0.586455279599\n",
      "0.586439685091\n",
      "0.586439685091\n",
      "0.586439685091\n",
      "0.586439685091\n",
      "0.586454741177\n",
      "0.586454741177\n",
      "0.586454741177\n",
      "0.586454741177\n",
      "0.586454741177\n",
      "0.586454741177\n",
      "0.586454741177\n",
      "0.586492389585\n",
      "0.586492389585\n",
      "0.586492389585\n",
      "0.586492389585\n",
      "0.586598296862\n",
      "0.586758196754\n",
      "0.586758196754\n",
      "0.586758196754\n",
      "0.586753100429\n",
      "0.586753100429\n",
      "0.586767443653\n",
      "0.586767443653\n",
      "0.586767443653\n",
      "0.586771564095\n",
      "0.586792693307\n",
      "0.586792693307\n",
      "0.586792693307\n",
      "0.586792693307\n",
      "0.586792693307\n",
      "0.586792693307\n",
      "0.586792693307\n",
      "0.586792693307\n",
      "0.586792693307\n",
      "0.586804246406\n",
      "0.586799901178\n",
      "0.586799901178\n",
      "0.586799901178\n",
      "0.586799901178\n",
      "0.586799901178\n",
      "0.586796142657\n",
      "0.586796142657\n",
      "0.586796142657\n",
      "0.586796142657\n",
      "0.586796142657\n",
      "0.586796142657\n",
      "0.586796142657\n",
      "0.586796142657\n",
      "0.586814335561\n",
      "0.586813605471\n",
      "0.586813605471\n",
      "0.586813605471\n",
      "0.586813605471\n",
      "0.586813605471\n",
      "0.586813605471\n",
      "0.586813605471\n",
      "0.586813605471\n",
      "0.586813605471\n",
      "0.586813605471\n",
      "0.586813605471\n",
      "0.586813605471\n",
      "0.586813605471\n",
      "0.586813605471\n",
      "0.586813605471\n",
      "0.586813605471\n",
      "0.586813605471\n",
      "0.586813605471\n",
      "0.586832075293\n",
      "0.586832075293\n",
      "0.586832075293\n",
      "0.586832075293\n",
      "0.586832075293\n",
      "0.586832075293\n",
      "0.586832075293\n",
      "0.586832075293\n",
      "0.586861609919\n",
      "0.586861609919\n",
      "0.586861609919\n",
      "0.586860254759\n",
      "0.586860254759\n",
      "0.586893115715\n",
      "0.586886887647\n",
      "0.586886887647\n",
      "0.586908618645\n",
      "0.586908618645\n",
      "0.586908618645\n",
      "0.586978326917\n",
      "0.586978326917\n",
      "0.586978326917\n",
      "0.586978326917\n",
      "0.586978326917\n",
      "0.586978326917\n",
      "0.586978326917\n",
      "0.586978326917\n",
      "0.586978326917\n",
      "0.586986093108\n",
      "0.586986093108\n",
      "0.586986093108\n",
      "0.586986093108\n",
      "0.586986093108\n",
      "0.586986093108\n",
      "0.587039489395\n",
      "0.587039489395\n",
      "0.587114771508\n",
      "0.587114771508\n",
      "0.587114771508\n",
      "0.587114771508\n",
      "0.587114771508\n",
      "0.587114771508\n",
      "0.58710705986\n",
      "0.58710705986\n",
      "0.58710705986\n",
      "0.58710705986\n",
      "0.587066137293\n",
      "0.587066137293\n",
      "0.587066137293\n",
      "0.587066137293\n",
      "0.587066137293\n",
      "0.587066137293\n",
      "0.587066137293\n",
      "0.587066137293\n",
      "0.587066137293\n",
      "0.587066137293\n",
      "0.587066137293\n",
      "0.587066137293\n",
      "0.587052207274\n",
      "0.587052207274\n",
      "0.587052207274\n",
      "0.587052207274\n",
      "0.587052207274\n",
      "0.58703739776\n",
      "0.58703739776\n",
      "0.587046335355\n",
      "0.587046335355\n",
      "0.587046335355\n",
      "0.587046335355\n",
      "0.587046335355\n",
      "0.587046335355\n",
      "0.587046335355\n",
      "0.587046335355\n",
      "0.587046335355\n",
      "0.587046335355\n",
      "0.587046335355\n",
      "0.587046335355\n",
      "0.587046335355\n",
      "0.587046335355\n",
      "0.587046335355\n",
      "0.587046335355\n",
      "0.587046335355\n",
      "0.587046335355\n",
      "0.587056532414\n",
      "0.587056532414\n",
      "0.587056532414\n",
      "0.587056532414\n",
      "0.587063626754\n",
      "0.587063626754\n",
      "0.587063626754\n",
      "0.587063626754\n",
      "0.587063626754\n",
      "0.587063626754\n",
      "0.587063626754\n",
      "0.587063626754\n",
      "0.587063626754\n",
      "0.587063626754\n",
      "0.587063626754\n",
      "0.587063626754\n",
      "0.587063626754\n",
      "0.587063626754\n",
      "0.587063626754\n",
      "0.587063626754\n",
      "0.587063626754\n",
      "0.587063626754\n",
      "0.587063626754\n",
      "0.587063626754\n",
      "0.587063626754\n",
      "0.587063626754\n",
      "0.587063626754\n",
      "0.587070949527\n",
      "0.587070949527\n",
      "0.587070949527\n",
      "0.587070949527\n",
      "0.587070949527\n",
      "0.587070949527\n",
      "0.587070949527\n",
      "0.587070949527\n",
      "0.587070949527\n",
      "0.587070949527\n",
      "0.587070949527\n",
      "0.587070949527\n",
      "0.587070949527\n",
      "0.587070949527\n",
      "0.587070949527\n",
      "0.587070949527\n",
      "0.587070949527\n",
      "0.587070949527\n",
      "0.587070949527\n",
      "0.587070949527\n",
      "0.587070949527\n",
      "0.587070949527\n",
      "0.587070949527\n",
      "0.587070949527\n",
      "0.587070949527\n",
      "0.587070949527\n",
      "0.587070949527\n",
      "0.587070949527\n",
      "0.587070949527\n",
      "0.587070949527\n",
      "0.587070949527\n",
      "0.587070949527\n",
      "0.587070949527\n",
      "0.587070949527\n",
      "0.587070949527\n",
      "0.587070949527\n",
      "0.587035666162\n",
      "0.587035666162\n",
      "0.587035666162\n",
      "0.587035666162\n",
      "0.587035666162\n",
      "0.587035666162\n",
      "0.587035666162\n",
      "0.587035666162\n",
      "0.587035666162\n",
      "0.587035666162\n",
      "0.587035666162\n",
      "0.587035666162\n",
      "0.587035666162\n",
      "0.587035666162\n",
      "0.587035666162\n",
      "0.587035666162\n",
      "0.587035666162\n",
      "0.587035666162\n",
      "0.587035666162\n",
      "0.587035666162\n",
      "0.587035666162\n",
      "0.587035666162\n",
      "0.587035666162\n",
      "0.587035666162\n",
      "0.587035666162\n",
      "0.587035666162\n",
      "0.587035666162\n",
      "0.587035666162\n",
      "0.587041000206\n",
      "0.587041000206\n",
      "0.587041000206\n",
      "0.587041000206\n",
      "0.587041000206\n",
      "0.587041000206\n",
      "0.587041000206\n",
      "0.587041000206\n",
      "0.587041000206\n",
      "0.587041000206\n",
      "0.587041000206\n",
      "0.587041000206\n",
      "0.587041000206\n",
      "0.587029792124\n",
      "0.587029792124\n",
      "0.587029792124\n",
      "0.587029792124\n",
      "0.587029792124\n",
      "0.587029792124\n",
      "0.587029792124\n",
      "0.587029792124\n",
      "0.587029792124\n",
      "0.587029792124\n",
      "0.587029792124\n",
      "0.587029792124\n",
      "0.586994553488\n",
      "0.586994553488\n",
      "0.586994553488\n",
      "0.586994553488\n",
      "0.586994553488\n",
      "0.586994553488\n",
      "0.586994553488\n",
      "0.586994553488\n",
      "0.586994553488\n",
      "0.586994553488\n",
      "0.586994553488\n",
      "0.586994553488\n",
      "0.586994553488\n",
      "0.586994553488\n",
      "0.586994553488\n",
      "0.586994553488\n",
      "0.586994553488\n",
      "0.586994553488\n",
      "0.586994553488\n",
      "0.586994553488\n",
      "0.586994553488\n",
      "0.586994553488\n",
      "0.586994553488\n",
      "0.586994553488\n",
      "0.586994553488\n",
      "0.586994553488\n",
      "0.586994553488\n",
      "0.586994553488\n",
      "0.586994553488\n",
      "0.586994553488\n",
      "0.586994553488\n",
      "0.586994553488\n",
      "0.586994553488\n",
      "0.586986397888\n",
      "0.586986397888\n",
      "0.586986397888\n",
      "0.586986397888\n",
      "0.586986397888\n",
      "0.586986397888\n",
      "0.586986397888\n",
      "0.586986397888\n",
      "0.586986397888\n",
      "0.586986397888\n",
      "0.586986397888\n",
      "0.586986397888\n",
      "0.586986397888\n",
      "0.586986397888\n",
      "0.586986397888\n",
      "0.586986397888\n",
      "0.587014576761\n",
      "0.587014576761\n",
      "0.587014576761\n",
      "0.587014576761\n",
      "0.587014576761\n",
      "0.587014576761\n",
      "0.587014576761\n",
      "0.587014576761\n",
      "0.587014576761\n",
      "0.587014576761\n",
      "0.587014576761\n",
      "0.587014576761\n",
      "0.587014576761\n",
      "0.587014576761\n",
      "0.587014576761\n",
      "0.587014576761\n",
      "0.587014576761\n",
      "0.587014576761\n",
      "0.587014576761\n",
      "0.587014576761\n",
      "0.587014576761\n",
      "0.587014576761\n",
      "0.587014576761\n",
      "0.587014576761\n",
      "0.587014576761\n",
      "0.587014576761\n",
      "0.587014576761\n",
      "0.587014576761\n",
      "0.587014576761\n",
      "0.587014576761\n",
      "0.587014576761\n",
      "0.587014576761\n",
      "0.587014576761\n",
      "0.587014576761\n",
      "0.587014576761\n",
      "0.587014576761\n",
      "0.587014576761\n",
      "0.587014576761\n",
      "0.587014576761\n",
      "0.587014576761\n",
      "0.587014576761\n",
      "0.587014576761\n",
      "0.587014576761\n",
      "0.587014576761\n",
      "0.587014576761\n",
      "0.587014576761\n",
      "0.587014576761\n",
      "0.587014576761\n",
      "0.587014576761\n",
      "0.587014576761\n",
      "0.587014576761\n",
      "0.587014576761\n",
      "0.587014576761\n",
      "0.587014576761\n",
      "0.587014576761\n",
      "0.587009528796\n",
      "0.587009528796\n",
      "0.587013357277\n",
      "0.587013357277\n",
      "0.587013357277\n",
      "0.587013357277\n",
      "0.587013357277\n",
      "0.587013357277\n",
      "0.587013357277\n",
      "0.587013357277\n",
      "0.587013357277\n",
      "0.587013357277\n",
      "0.587013357277\n",
      "0.587013357277\n",
      "0.587013357277\n",
      "0.587013357277\n",
      "0.587013357277\n",
      "0.587013357277\n",
      "0.587013357277\n",
      "0.587013357277\n",
      "0.587013357277\n",
      "0.587013357277\n",
      "0.587013357277\n",
      "0.587013357277\n",
      "0.587013357277\n",
      "0.587013357277\n",
      "0.587013357277\n",
      "0.587001848954\n",
      "0.587001848954\n",
      "0.587001848954\n",
      "0.587001848954\n",
      "0.587005406385\n",
      "0.587005406385\n",
      "0.587005406385\n",
      "0.587005406385\n",
      "0.587005406385\n",
      "0.587005406385\n",
      "0.587005406385\n",
      "0.587005406385\n",
      "0.587005406385\n",
      "0.587005406385\n",
      "0.587005406385\n",
      "0.587005406385\n",
      "0.587005406385\n",
      "0.587005406385\n",
      "0.587005406385\n",
      "0.587005406385\n",
      "0.587005406385\n",
      "0.587005406385\n",
      "0.587005406385\n",
      "0.587005406385\n",
      "0.587005406385\n",
      "0.587005406385\n",
      "0.587005406385\n",
      "0.587005406385\n",
      "0.587005406385\n",
      "0.587005406385\n",
      "0.587005406385\n",
      "0.587005406385\n",
      "0.587005406385\n",
      "0.587005406385\n",
      "0.587005406385\n",
      "0.587005406385\n",
      "0.587005406385\n",
      "0.587005406385\n",
      "0.587005406385\n",
      "0.587005406385\n",
      "0.587005406385\n",
      "0.587005406385\n",
      "0.587005406385\n",
      "0.587005406385\n",
      "0.587005406385\n",
      "0.587005406385\n",
      "0.587005406385\n",
      "0.587005406385\n",
      "0.587005406385\n",
      "0.587005406385\n",
      "0.587005406385\n",
      "0.587005406385\n",
      "0.587005406385\n",
      "0.586997005903\n",
      "0.586997005903\n",
      "0.586997005903\n",
      "0.586997005903\n",
      "0.586997005903\n",
      "0.586997005903\n",
      "0.586997005903\n",
      "0.586997005903\n",
      "0.586997005903\n",
      "0.586997005903\n",
      "0.586997005903\n",
      "0.586997005903\n",
      "0.586997005903\n",
      "0.586997005903\n",
      "0.586997005903\n",
      "0.586997005903\n",
      "0.586997005903\n",
      "0.586997005903\n",
      "0.586997005903\n",
      "0.586997005903\n",
      "0.586997005903\n",
      "0.586997005903\n",
      "0.586997005903\n",
      "0.586997005903\n",
      "0.586997005903\n",
      "0.586997005903\n",
      "0.586997005903\n",
      "0.586997005903\n",
      "0.586997005903\n",
      "0.586997005903\n",
      "0.586997005903\n",
      "0.586997005903\n",
      "0.586997005903\n",
      "0.586997005903\n",
      "0.586997005903\n",
      "0.586997005903\n",
      "0.586997005903\n",
      "0.586997005903\n",
      "0.586997005903\n",
      "0.586997005903\n",
      "0.586997005903\n",
      "0.586997005903\n",
      "0.586997005903\n",
      "0.586997005903\n",
      "0.586997005903\n",
      "0.586997005903\n",
      "0.586997005903\n",
      "0.586997005903\n",
      "0.586997005903\n",
      "0.586997005903\n",
      "0.586997005903\n",
      "0.586997005903\n",
      "0.586997005903\n",
      "0.586997005903\n",
      "0.586997005903\n",
      "0.586997005903\n",
      "0.586997005903\n",
      "0.586997005903\n",
      "0.586997005903\n",
      "0.586997005903\n",
      "0.586997005903\n",
      "0.586997005903\n",
      "0.586997005903\n",
      "0.586997005903\n",
      "0.586997005903\n",
      "0.586997005903\n",
      "0.586997005903\n",
      "0.586997005903\n",
      "0.586997005903\n",
      "0.586997005903\n",
      "0.586997005903\n",
      "0.586997005903\n",
      "0.586997005903\n",
      "0.586997005903\n",
      "0.586997005903\n",
      "0.586997005903\n",
      "0.586997005903\n",
      "0.586997005903\n",
      "0.586997005903\n",
      "0.586997005903\n",
      "0.586997005903\n",
      "0.586997005903\n",
      "0.586997005903\n",
      "0.586997005903\n",
      "0.586997005903\n",
      "0.586997005903\n",
      "0.586997005903\n",
      "0.586997005903\n",
      "0.586997005903\n",
      "0.586997005903\n",
      "0.586997005903\n",
      "0.586997005903\n",
      "0.586997005903\n",
      "0.586997005903\n",
      "0.586997005903\n",
      "0.586997005903\n",
      "0.586997005903\n",
      "0.586997005903\n",
      "0.586997005903\n",
      "0.586990364481\n",
      "0.586990364481\n",
      "0.586990364481\n",
      "0.586990364481\n",
      "0.586990364481\n",
      "0.586990364481\n",
      "0.586990364481\n",
      "0.586990364481\n",
      "0.586990364481\n",
      "0.586990364481\n",
      "0.586990364481\n",
      "0.586990364481\n",
      "0.586990364481\n",
      "0.586990364481\n",
      "0.586990364481\n",
      "0.586990364481\n",
      "0.587018554543\n",
      "0.587018554543\n",
      "0.587018554543\n",
      "0.587018554543\n",
      "0.587018554543\n",
      "0.587018554543\n",
      "0.587018554543\n",
      "0.587018554543\n",
      "0.587018554543\n",
      "0.587018554543\n",
      "0.587018554543\n",
      "0.587018554543\n",
      "0.587018554543\n",
      "0.587018554543\n",
      "0.587018554543\n",
      "0.587018554543\n",
      "0.587018554543\n",
      "0.587018554543\n",
      "0.587018554543\n",
      "0.587018554543\n",
      "0.587018554543\n",
      "0.587018554543\n",
      "0.587018554543\n",
      "0.587018554543\n",
      "0.587018554543\n",
      "0.587018554543\n",
      "0.587018554543\n",
      "0.587031344968\n",
      "0.587031344968\n",
      "0.587031344968\n",
      "0.587031344968\n",
      "0.587031344968\n",
      "0.587031344968\n",
      "0.587031344968\n",
      "0.587031344968\n",
      "0.587031344968\n",
      "0.587047055381\n",
      "0.587047055381\n",
      "0.587047055381\n",
      "0.587047055381\n",
      "0.587047055381\n",
      "0.587047055381\n",
      "0.587047055381\n",
      "0.587047055381\n",
      "0.587047055381\n",
      "0.587047055381\n",
      "0.587047055381\n",
      "0.587047055381\n",
      "0.587047055381\n",
      "0.587047055381\n",
      "0.587047055381\n",
      "0.587047055381\n",
      "0.587047055381\n",
      "0.587041688911\n",
      "0.587041688911\n",
      "0.587041688911\n",
      "0.587041688911\n",
      "0.587041688911\n",
      "0.587041688911\n",
      "0.587041688911\n",
      "0.587041688911\n",
      "0.587041688911\n",
      "0.587041688911\n",
      "0.587041688911\n",
      "0.587041688911\n",
      "0.587041688911\n",
      "0.587041688911\n",
      "0.587041688911\n",
      "0.587041688911\n",
      "0.587041688911\n",
      "0.587041688911\n",
      "0.587041688911\n",
      "0.587041688911\n",
      "0.587041688911\n",
      "0.587041688911\n",
      "0.587041688911\n",
      "0.587041688911\n",
      "0.587041688911\n",
      "0.587041688911\n",
      "0.587041688911\n",
      "0.587041688911\n",
      "0.587041688911\n",
      "0.587041688911\n",
      "0.587041688911\n",
      "0.587041688911\n",
      "0.587041688911\n",
      "0.587041688911\n",
      "0.587041688911\n",
      "0.587041688911\n",
      "0.587041688911\n",
      "0.587041688911\n",
      "0.587041688911\n",
      "0.587041688911\n",
      "0.587041688911\n",
      "0.587041688911\n",
      "0.587041688911\n",
      "0.587041688911\n",
      "0.587041688911\n",
      "0.587041688911\n",
      "0.587041688911\n",
      "0.587041688911\n",
      "0.587041688911\n",
      "0.587041688911\n",
      "0.587041688911\n",
      "0.587041688911\n",
      "0.587041688911\n",
      "0.587041688911\n",
      "0.587041688911\n",
      "0.587041688911\n",
      "0.587041688911\n",
      "0.587041688911\n",
      "0.587041688911\n",
      "0.587041688911\n",
      "0.587041688911\n",
      "0.587041688911\n",
      "0.587041688911\n",
      "0.587041688911\n",
      "0.587041688911\n",
      "0.587041688911\n",
      "0.587041688911\n",
      "0.587041688911\n",
      "0.587041688911\n",
      "0.587041688911\n",
      "0.587041688911\n",
      "0.587041688911\n",
      "0.587041688911\n",
      "0.587041688911\n",
      "0.587041688911\n",
      "0.587041688911\n",
      "0.587041688911\n",
      "0.587041688911\n",
      "0.587041688911\n",
      "0.587041688911\n",
      "0.587041688911\n",
      "0.587041688911\n",
      "0.587041688911\n",
      "0.587041688911\n",
      "0.587045094843\n",
      "0.587045094843\n",
      "0.587045094843\n",
      "0.587045094843\n",
      "0.587045094843\n",
      "0.587045094843\n",
      "0.587045094843\n",
      "0.587045094843\n",
      "0.587045094843\n",
      "0.587048437895\n",
      "0.587048437895\n",
      "0.587048437895\n",
      "0.587048437895\n",
      "0.587048437895\n",
      "0.587048437895\n",
      "0.587048437895\n",
      "0.587048437895\n",
      "0.587048437895\n",
      "0.587048437895\n",
      "0.587048437895\n",
      "0.587048437895\n",
      "0.587048437895\n",
      "0.587048437895\n",
      "0.587048437895\n",
      "0.587048437895\n",
      "0.587048437895\n",
      "0.587048437895\n",
      "0.587048437895\n",
      "0.587048437895\n",
      "0.587048437895\n",
      "0.587048437895\n",
      "0.587048437895\n",
      "0.587048437895\n",
      "0.587048437895\n",
      "0.587048437895\n",
      "0.587048437895\n",
      "0.587048437895\n",
      "0.587048437895\n",
      "0.587048437895\n",
      "0.587048437895\n",
      "0.587048437895\n",
      "0.587048437895\n",
      "0.587048437895\n",
      "0.587048437895\n",
      "0.587048437895\n",
      "0.587048437895\n",
      "0.587048437895\n",
      "0.587048437895\n",
      "0.587048437895\n",
      "0.587048437895\n",
      "0.587048437895\n",
      "0.587048437895\n",
      "0.587048437895\n",
      "0.587048437895\n",
      "0.587048437895\n",
      "0.587048437895\n",
      "0.587048437895\n",
      "0.587048437895\n",
      "0.587048437895\n",
      "0.587048437895\n",
      "0.587048437895\n",
      "0.587048437895\n",
      "0.587048437895\n",
      "0.587048437895\n",
      "0.587048437895\n",
      "0.587048437895\n",
      "0.587048437895\n",
      "0.587048437895\n",
      "0.587048437895\n",
      "0.587048437895\n",
      "0.587048437895\n",
      "0.587048437895\n",
      "0.587048437895\n",
      "0.587048437895\n",
      "0.587048437895\n",
      "0.587048437895\n",
      "0.587048437895\n",
      "0.587048437895\n",
      "0.587048437895\n",
      "0.587048437895\n",
      "0.587048437895\n",
      "0.587048437895\n",
      "0.587048437895\n",
      "0.587048437895\n",
      "0.587048437895\n",
      "0.587048437895\n",
      "0.587048437895\n",
      "0.587048437895\n",
      "0.587048437895\n",
      "0.587048437895\n",
      "0.587048437895\n",
      "0.587048437895\n",
      "0.587048437895\n",
      "0.587048437895\n",
      "0.587048437895\n",
      "0.587048437895\n",
      "0.587048437895\n",
      "0.587048437895\n",
      "0.587048437895\n",
      "0.587048437895\n",
      "0.587048437895\n",
      "0.587048437895\n",
      "0.587048437895\n",
      "0.587048437895\n",
      "0.587048437895\n",
      "0.587048437895\n",
      "0.587048437895\n",
      "0.587048437895\n",
      "0.587048437895\n",
      "0.587048437895\n",
      "0.587048437895\n",
      "0.587048437895\n",
      "0.587048437895\n",
      "0.587048437895\n",
      "0.587048437895\n",
      "0.587048437895\n",
      "0.587048437895\n",
      "0.587048437895\n",
      "0.587048437895\n",
      "0.587048437895\n",
      "0.587048437895\n",
      "0.587048437895\n",
      "0.587048437895\n",
      "0.587048437895\n",
      "0.587048437895\n",
      "0.587048437895\n",
      "0.587048437895\n",
      "0.587048437895\n",
      "0.587048437895\n",
      "0.587048437895\n",
      "0.587048437895\n",
      "0.587048437895\n",
      "0.587048437895\n",
      "0.587048437895\n",
      "0.587048437895\n",
      "0.587048437895\n",
      "0.587048437895\n",
      "0.587048437895\n",
      "0.587048437895\n",
      "0.587048437895\n",
      "0.587048437895\n",
      "0.587048437895\n",
      "0.587048437895\n",
      "0.587048437895\n",
      "0.587048437895\n",
      "0.587048437895\n",
      "0.587048437895\n",
      "0.587048437895\n",
      "0.587048437895\n",
      "0.587048437895\n",
      "0.587048437895\n",
      "0.587048437895\n",
      "0.587048437895\n",
      "0.587048437895\n",
      "0.587048437895\n",
      "0.587048437895\n",
      "0.587048437895\n",
      "0.587048437895\n",
      "0.587048437895\n",
      "0.587048437895\n",
      "0.587048437895\n",
      "0.587048437895\n",
      "0.587048437895\n",
      "0.587048437895\n",
      "0.587048437895\n",
      "0.587048437895\n",
      "0.587048437895\n",
      "0.587048437895\n",
      "0.587048437895\n",
      "0.587048437895\n",
      "0.587048437895\n",
      "0.587048437895\n",
      "0.587048437895\n",
      "0.587048437895\n",
      "0.587048437895\n",
      "0.587048437895\n",
      "0.587048437895\n",
      "0.587048437895\n",
      "0.587048437895\n",
      "0.587048437895\n",
      "0.587048437895\n",
      "0.587048437895\n",
      "0.587048437895\n",
      "0.587048437895\n",
      "0.587048437895\n",
      "0.587048437895\n",
      "0.587048437895\n",
      "0.587048437895\n",
      "0.587048437895\n",
      "0.587048437895\n",
      "0.587048437895\n",
      "0.587048437895\n",
      "0.587048437895\n",
      "0.587048437895\n",
      "0.587048437895\n",
      "0.587048437895\n",
      "0.587048437895\n",
      "0.587048437895\n",
      "0.587048437895\n",
      "0.587048437895\n",
      "0.587048437895\n",
      "0.587048437895\n",
      "0.587048437895\n",
      "0.587048437895\n",
      "0.587048437895\n",
      "0.587048437895\n",
      "0.587048437895\n",
      "0.587048437895\n",
      "0.587048437895\n",
      "0.587048437895\n",
      "0.587048437895\n",
      "0.587048437895\n",
      "0.587048437895\n",
      "0.587048437895\n",
      "0.587048437895\n",
      "0.587048437895\n",
      "0.587048437895\n",
      "0.587048437895\n",
      "0.587048437895\n",
      "0.587048437895\n",
      "0.587048437895\n",
      "0.587048437895\n",
      "0.587048437895\n",
      "0.587048437895\n",
      "0.587048437895\n",
      "0.587048437895\n",
      "0.587048437895\n",
      "0.587048437895\n",
      "0.587048437895\n",
      "0.587048437895\n",
      "0.587048437895\n",
      "0.587048437895\n",
      "0.587048437895\n",
      "0.587048437895\n",
      "0.587048437895\n",
      "0.587048437895\n",
      "0.587048437895\n",
      "0.587048437895\n",
      "0.587048437895\n",
      "0.587048437895\n",
      "0.587048437895\n",
      "0.587048437895\n",
      "0.587048437895\n",
      "0.587048437895\n",
      "0.587048437895\n",
      "0.587048437895\n",
      "0.587048437895\n",
      "0.587048437895\n",
      "0.587048437895\n",
      "0.587048437895\n",
      "0.587048437895\n",
      "0.587048437895\n",
      "0.587048437895\n",
      "0.587048437895\n",
      "0.587048437895\n",
      "0.587048437895\n",
      "0.587048437895\n",
      "0.587048437895\n",
      "0.587048437895\n",
      "0.587048437895\n",
      "0.587048437895\n",
      "0.587048437895\n",
      "0.587048437895\n",
      "0.587048437895\n",
      "0.587048437895\n",
      "0.587048437895\n",
      "0.587048437895\n",
      "0.587048437895\n",
      "0.587048437895\n",
      "0.587048437895\n",
      "0.587048437895\n",
      "0.587048437895\n",
      "0.587048437895\n",
      "0.587048437895\n",
      "0.587048437895\n",
      "0.587048437895\n",
      "0.587048437895\n",
      "0.587048437895\n",
      "0.587048437895\n",
      "0.587048437895\n",
      "0.587048437895\n",
      "0.587048437895\n",
      "0.587048437895\n",
      "0.587048437895\n",
      "0.587048437895\n",
      "0.587048437895\n",
      "0.587048437895\n",
      "0.587048437895\n",
      "0.587048437895\n",
      "0.587048437895\n",
      "0.587048437895\n",
      "0.587048437895\n",
      "0.587048437895\n",
      "0.587048437895\n",
      "0.587048437895\n",
      "0.587048437895\n",
      "0.587048437895\n",
      "0.587048437895\n",
      "0.587048437895\n",
      "0.587048437895\n",
      "0.587048437895\n",
      "0.587048437895\n",
      "0.587048437895\n",
      "0.587048437895\n",
      "0.587048437895\n",
      "0.587048437895\n",
      "0.587048437895\n",
      "0.587048437895\n",
      "0.587048437895\n",
      "0.587048437895\n",
      "0.587048437895\n",
      "0.587048437895\n",
      "0.587048437895\n",
      "0.587048437895\n",
      "0.587048437895\n",
      "0.587048437895\n",
      "0.587048437895\n",
      "0.587048437895\n",
      "0.587048437895\n",
      "0.587048437895\n",
      "0.587048437895\n",
      "0.587048437895\n",
      "0.587048437895\n",
      "0.587048437895\n",
      "0.587048437895\n",
      "0.587048437895\n",
      "0.587048437895\n",
      "0.587048437895\n",
      "0.587048437895\n",
      "0.587048437895\n",
      "0.587048437895\n",
      "0.587048437895\n",
      "0.587048437895\n",
      "0.587048437895\n",
      "0.587048437895\n",
      "0.587048437895\n",
      "0.587048437895\n",
      "0.587048437895\n",
      "0.587048437895\n",
      "0.587048437895\n",
      "0.587048437895\n",
      "0.587048437895\n",
      "0.587048437895\n",
      "0.587048437895\n",
      "0.587048437895\n",
      "0.587048437895\n",
      "0.587048437895\n",
      "0.587048437895\n",
      "0.587048437895\n",
      "0.587048437895\n",
      "0.587048437895\n",
      "0.587048437895\n",
      "0.587048437895\n",
      "0.587048437895\n",
      "0.587048437895\n",
      "0.587048437895\n",
      "0.587048437895\n",
      "0.587048437895\n",
      "0.587048437895\n",
      "0.587048437895\n",
      "0.587048437895\n",
      "0.587048437895\n",
      "0.587048437895\n",
      "0.587048437895\n",
      "0.587048437895\n",
      "0.587048437895\n",
      "0.587048437895\n",
      "0.587048437895\n",
      "0.587048437895\n",
      "0.587048437895\n",
      "0.587048437895\n",
      "0.587048437895\n",
      "0.587048437895\n",
      "0.587048437895\n",
      "0.587048437895\n",
      "0.587048437895\n",
      "0.587048437895\n",
      "0.587048437895\n",
      "0.587048437895\n",
      "0.587048437895\n",
      "0.587048437895\n",
      "0.587048437895\n",
      "0.587048437895\n",
      "0.587048437895\n",
      "0.587048437895\n",
      "0.587048437895\n",
      "0.587048437895\n",
      "0.587048437895\n",
      "0.587048437895\n",
      "0.587048437895\n",
      "0.587048437895\n",
      "0.587048437895\n",
      "0.587048437895\n",
      "0.587048437895\n",
      "0.587048437895\n",
      "0.587048437895\n",
      "0.587048437895\n",
      "0.587048437895\n",
      "0.587048437895\n",
      "0.587048437895\n",
      "0.587048437895\n",
      "0.587048437895\n",
      "0.587048437895\n",
      "0.587048437895\n",
      "0.587048437895\n",
      "0.587048437895\n",
      "0.587048437895\n",
      "0.587048437895\n",
      "0.587048437895\n",
      "0.587048437895\n",
      "0.587048437895\n",
      "0.587048437895\n",
      "0.587048437895\n",
      "0.587048437895\n",
      "0.587048437895\n",
      "0.587048437895\n",
      "0.587048437895\n",
      "0.587048437895\n",
      "0.587048437895\n",
      "0.587048437895\n",
      "0.587048437895\n",
      "0.587048437895\n",
      "0.587048437895\n",
      "0.587048437895\n",
      "0.587048437895\n",
      "0.587048437895\n",
      "0.587048437895\n",
      "0.587048437895\n",
      "0.587048437895\n",
      "0.587048437895\n",
      "0.587048437895\n",
      "0.587048437895\n",
      "0.587048437895\n",
      "0.587048437895\n",
      "0.587048437895\n",
      "0.587048437895\n",
      "0.587048437895\n",
      "0.587048437895\n",
      "0.587048437895\n",
      "0.587048437895\n",
      "0.587048437895\n",
      "0.587048437895\n",
      "0.587048437895\n",
      "0.587048437895\n",
      "0.587048437895\n",
      "0.587048437895\n",
      "0.587048437895\n",
      "0.587048437895\n",
      "0.587048437895\n",
      "0.587048437895\n",
      "0.587048437895\n",
      "0.587048437895\n",
      "0.587048437895\n",
      "0.587048437895\n",
      "0.587048437895\n",
      "0.587048437895\n",
      "0.587048437895\n",
      "0.587048437895\n",
      "0.587048437895\n",
      "0.587048437895\n",
      "0.587048437895\n",
      "0.587048437895\n",
      "0.587048437895\n",
      "0.587048437895\n",
      "0.587048437895\n",
      "0.587048437895\n",
      "0.587048437895\n",
      "0.587048437895\n",
      "0.587048437895\n",
      "0.587048437895\n",
      "0.587048437895\n",
      "0.587048437895\n",
      "0.587048437895\n",
      "0.587048437895\n",
      "0.587048437895\n",
      "0.587048437895\n",
      "0.587048437895\n",
      "0.587048437895\n",
      "0.587048437895\n",
      "0.587048437895\n",
      "0.587048437895\n",
      "0.587048437895\n",
      "0.587048437895\n",
      "0.587048437895\n",
      "0.587048437895\n",
      "0.587048437895\n",
      "0.587048437895\n",
      "0.587048437895\n",
      "0.587048437895\n",
      "0.587048437895\n",
      "0.587048437895\n",
      "0.587048437895\n",
      "0.587048437895\n",
      "0.587048437895\n",
      "0.587048437895\n",
      "0.587048437895\n",
      "0.587048437895\n",
      "0.587048437895\n",
      "0.587048437895\n",
      "0.587048437895\n",
      "0.587048437895\n",
      "0.587048437895\n",
      "0.587048437895\n",
      "0.587048437895\n",
      "0.587048437895\n",
      "0.587048437895\n",
      "0.587048437895\n",
      "0.587048437895\n",
      "0.587048437895\n",
      "0.587048437895\n",
      "0.587048437895\n",
      "0.587048437895\n",
      "0.587048437895\n",
      "0.587048437895\n",
      "0.587048437895\n",
      "0.587048437895\n",
      "0.587048437895\n",
      "0.587048437895\n",
      "0.587048437895\n",
      "0.587048437895\n",
      "0.587048437895\n",
      "0.587048437895\n",
      "0.587048437895\n",
      "0.587048437895\n",
      "0.587048437895\n",
      "0.587048437895\n",
      "0.587048437895\n",
      "0.587048437895\n",
      "0.587048437895\n",
      "0.587048437895\n",
      "0.587048437895\n",
      "0.587048437895\n",
      "0.587048437895\n",
      "0.587048437895\n",
      "0.587048437895\n",
      "0.587048437895\n",
      "0.587048437895\n",
      "0.587048437895\n",
      "0.587048437895\n",
      "0.587048437895\n",
      "0.587048437895\n",
      "0.587048437895\n",
      "0.587048437895\n",
      "0.587048437895\n",
      "0.587048437895\n",
      "0.587048437895\n",
      "0.587048437895\n",
      "0.587048437895\n",
      "0.587048437895\n",
      "0.587048437895\n",
      "0.587048437895\n",
      "0.587048437895\n",
      "0.587048437895\n",
      "0.587048437895\n",
      "0.587048437895\n",
      "0.587048437895\n",
      "0.587048437895\n",
      "0.587048437895\n",
      "0.587048437895\n",
      "0.587048437895\n",
      "0.587048437895\n",
      "0.587048437895\n",
      "0.587048437895\n",
      "0.587048437895\n",
      "0.587048437895\n",
      "0.587048437895\n",
      "0.587048437895\n",
      "0.587048437895\n",
      "0.587048437895\n",
      "0.587048437895\n",
      "0.587048437895\n",
      "0.587048437895\n",
      "0.587048437895\n",
      "0.587048437895\n",
      "0.587048437895\n",
      "0.587048437895\n",
      "0.587048437895\n",
      "0.587048437895\n",
      "0.587048437895\n",
      "0.587048437895\n",
      "0.587048437895\n",
      "0.587048437895\n",
      "0.587048437895\n",
      "0.587048437895\n",
      "0.587048437895\n",
      "0.587048437895\n",
      "0.587048437895\n",
      "0.587048437895\n",
      "0.587048437895\n",
      "0.587048437895\n",
      "0.587048437895\n",
      "0.587048437895\n",
      "0.587048437895\n",
      "0.587048437895\n",
      "0.587048437895\n",
      "0.587048437895\n",
      "0.587048437895\n",
      "0.587048437895\n",
      "0.587048437895\n",
      "0.587048437895\n",
      "0.587048437895\n",
      "0.587048437895\n",
      "0.587048437895\n",
      "0.587048437895\n",
      "0.587048437895\n",
      "0.587048437895\n",
      "0.587048437895\n",
      "0.587048437895\n",
      "0.587048437895\n",
      "0.587048437895\n",
      "0.587048437895\n",
      "0.587048437895\n",
      "0.587048437895\n",
      "0.587048437895\n",
      "0.587048437895\n",
      "0.587048437895\n",
      "0.587048437895\n",
      "0.587048437895\n",
      "0.587048437895\n",
      "0.587048437895\n",
      "0.587048437895\n",
      "0.587048437895\n",
      "0.587048437895\n",
      "0.587048437895\n",
      "0.587048437895\n",
      "0.587048437895\n",
      "0.587048437895\n",
      "0.587048437895\n",
      "0.587048437895\n",
      "0.587048437895\n",
      "0.587048437895\n",
      "0.587048437895\n",
      "0.587048437895\n",
      "0.587048437895\n",
      "0.587048437895\n",
      "0.587048437895\n",
      "0.587048437895\n",
      "0.587048437895\n",
      "0.587048437895\n",
      "0.587048437895\n",
      "0.587048437895\n",
      "0.587048437895\n",
      "0.587048437895\n",
      "0.587048437895\n",
      "0.587048437895\n",
      "0.587048437895\n",
      "0.587048437895\n",
      "0.587048437895\n",
      "0.587048437895\n",
      "0.587048437895\n",
      "0.587048437895\n",
      "0.587048437895\n",
      "0.587048437895\n",
      "0.587048437895\n",
      "0.587048437895\n",
      "0.587048437895\n",
      "0.587048437895\n",
      "0.587048437895\n",
      "0.587048437895\n",
      "0.587048437895\n",
      "0.587048437895\n",
      "0.587048437895\n",
      "0.587048437895\n",
      "0.587048437895\n",
      "0.587048437895\n",
      "0.587048437895\n",
      "0.587048437895\n",
      "0.587048437895\n",
      "0.587048437895\n",
      "0.587048437895\n",
      "0.587048437895\n",
      "0.587048437895\n",
      "0.587048437895\n",
      "0.587048437895\n",
      "0.587048437895\n",
      "0.587048437895\n",
      "0.587048437895\n",
      "0.587048437895\n",
      "0.587048437895\n",
      "0.587048437895\n",
      "0.587048437895\n",
      "0.587048437895\n",
      "0.587048437895\n",
      "0.587048437895\n",
      "0.587048437895\n",
      "0.587048437895\n",
      "0.587048437895\n",
      "0.587048437895\n",
      "0.587048437895\n",
      "0.587048437895\n",
      "0.587048437895\n",
      "0.587048437895\n",
      "0.587048437895\n",
      "0.587048437895\n",
      "0.587048437895\n",
      "0.587048437895\n",
      "0.587048437895\n",
      "0.587048437895\n",
      "0.587048437895\n",
      "0.587048437895\n",
      "0.587048437895\n",
      "0.587048437895\n",
      "0.587048437895\n",
      "0.587048437895\n",
      "0.587048437895\n",
      "0.587048437895\n",
      "0.587048437895\n",
      "0.587048437895\n",
      "0.587048437895\n",
      "0.587048437895\n",
      "0.587048437895\n",
      "0.587048437895\n",
      "0.587048437895\n",
      "0.587048437895\n",
      "0.587048437895\n",
      "0.587048437895\n",
      "0.587048437895\n",
      "0.587048437895\n",
      "0.587048437895\n",
      "0.587048437895\n",
      "0.587048437895\n",
      "0.587048437895\n",
      "0.587048437895\n",
      "0.587048437895\n",
      "0.587048437895\n",
      "0.587048437895\n",
      "0.587048437895\n",
      "0.587048437895\n",
      "0.587048437895\n",
      "0.587048437895\n",
      "0.587048437895\n",
      "0.587048437895\n",
      "0.587048437895\n",
      "0.587048437895\n",
      "0.587048437895\n",
      "0.587048437895\n",
      "0.587048437895\n",
      "0.587048437895\n",
      "0.587048437895\n",
      "0.587048437895\n",
      "0.587048437895\n",
      "0.587048437895\n",
      "0.587048437895\n",
      "0.587048437895\n",
      "0.587048437895\n",
      "0.587048437895\n",
      "0.587048437895\n",
      "0.587048437895\n",
      "0.587048437895\n",
      "0.587048437895\n",
      "0.587048437895\n",
      "0.587048437895\n",
      "0.587048437895\n",
      "0.587048437895\n",
      "0.587048437895\n",
      "0.587048437895\n",
      "0.587048437895\n",
      "0.587048437895\n",
      "0.587048437895\n",
      "0.587048437895\n",
      "0.587048437895\n",
      "0.587048437895\n",
      "0.587048437895\n",
      "0.587048437895\n",
      "0.587048437895\n",
      "0.587048437895\n",
      "0.587048437895\n",
      "0.587048437895\n",
      "0.587048437895\n",
      "0.587048437895\n",
      "0.587048437895\n",
      "0.587048437895\n",
      "0.587048437895\n",
      "0.587048437895\n",
      "0.587048437895\n",
      "0.587048437895\n",
      "0.587048437895\n",
      "0.587048437895\n",
      "0.587048437895\n",
      "0.587048437895\n",
      "0.587048437895\n",
      "0.587048437895\n",
      "0.587048437895\n",
      "0.587048437895\n",
      "0.587048437895\n",
      "0.587048437895\n",
      "0.587048437895\n",
      "0.587048437895\n",
      "0.587048437895\n",
      "0.587048437895\n",
      "0.587048437895\n",
      "0.587048437895\n",
      "0.587048437895\n",
      "0.587048437895\n",
      "0.587048437895\n",
      "0.587048437895\n",
      "0.587048437895\n",
      "0.587048437895\n",
      "0.587048437895\n",
      "0.587048437895\n",
      "0.587048437895\n",
      "0.587048437895\n",
      "0.587048437895\n",
      "0.587048437895\n",
      "0.587048437895\n",
      "0.587048437895\n",
      "0.587048437895\n",
      "0.587048437895\n",
      "0.587048437895\n",
      "0.587048437895\n",
      "0.587048437895\n",
      "0.587048437895\n",
      "0.587048437895\n",
      "0.587048437895\n",
      "0.587048437895\n",
      "0.587048437895\n",
      "0.587048437895\n",
      "0.587048437895\n",
      "0.587048437895\n",
      "0.587048437895\n",
      "0.587048437895\n",
      "0.587048437895\n",
      "0.587048437895\n",
      "0.587048437895\n",
      "0.587048437895\n",
      "0.587048437895\n",
      "0.587048437895\n",
      "0.587048437895\n",
      "0.587048437895\n",
      "0.587048437895\n",
      "0.587048437895\n",
      "0.587048437895\n",
      "0.587048437895\n",
      "0.587048437895\n",
      "0.587048437895\n",
      "0.587048437895\n",
      "0.587048437895"
     ]
    },
    {
     "ename": "ValueError",
     "evalue": "I/O operation on closed file",
     "output_type": "error",
     "traceback": [
      "\u001b[1;31m---------------------------------------------------------------------------\u001b[0m",
      "\u001b[1;31mValueError\u001b[0m                                Traceback (most recent call last)",
      "\u001b[1;32m<ipython-input-231-7838f120794f>\u001b[0m in \u001b[0;36m<module>\u001b[1;34m()\u001b[0m\n\u001b[0;32m      8\u001b[0m             \u001b[0mprediction_conditional_combination\u001b[0m\u001b[1;33m.\u001b[0m\u001b[0mappend\u001b[0m\u001b[1;33m(\u001b[0m\u001b[0mvalidation_prediction_gl_modified\u001b[0m\u001b[1;33m[\u001b[0m\u001b[0mj\u001b[0m\u001b[1;33m]\u001b[0m\u001b[1;33m)\u001b[0m\u001b[1;33m\u001b[0m\u001b[0m\n\u001b[0;32m      9\u001b[0m     \u001b[1;33m(\u001b[0m\u001b[0msum\u001b[0m\u001b[1;33m,\u001b[0m \u001b[0mcount\u001b[0m\u001b[1;33m,\u001b[0m \u001b[0mmape_conditional_combination\u001b[0m\u001b[1;33m)\u001b[0m \u001b[1;33m=\u001b[0m \u001b[0mmape\u001b[0m\u001b[1;33m(\u001b[0m\u001b[0mvalidation_target\u001b[0m\u001b[1;33m,\u001b[0m \u001b[0mprediction_conditional_combination\u001b[0m\u001b[1;33m)\u001b[0m\u001b[1;33m\u001b[0m\u001b[0m\n\u001b[1;32m---> 10\u001b[1;33m     \u001b[1;32mprint\u001b[0m \u001b[0mmape_conditional_combination\u001b[0m\u001b[1;33m\u001b[0m\u001b[0m\n\u001b[0m",
      "\u001b[1;32mC:\\Anaconda2\\envs\\dato-env\\lib\\site-packages\\ipykernel\\iostream.pyc\u001b[0m in \u001b[0;36mwrite\u001b[1;34m(self, string)\u001b[0m\n\u001b[0;32m    315\u001b[0m \u001b[1;33m\u001b[0m\u001b[0m\n\u001b[0;32m    316\u001b[0m             \u001b[0mis_child\u001b[0m \u001b[1;33m=\u001b[0m \u001b[1;33m(\u001b[0m\u001b[1;32mnot\u001b[0m \u001b[0mself\u001b[0m\u001b[1;33m.\u001b[0m\u001b[0m_is_master_process\u001b[0m\u001b[1;33m(\u001b[0m\u001b[1;33m)\u001b[0m\u001b[1;33m)\u001b[0m\u001b[1;33m\u001b[0m\u001b[0m\n\u001b[1;32m--> 317\u001b[1;33m             \u001b[0mself\u001b[0m\u001b[1;33m.\u001b[0m\u001b[0m_buffer\u001b[0m\u001b[1;33m.\u001b[0m\u001b[0mwrite\u001b[0m\u001b[1;33m(\u001b[0m\u001b[0mstring\u001b[0m\u001b[1;33m)\u001b[0m\u001b[1;33m\u001b[0m\u001b[0m\n\u001b[0m\u001b[0;32m    318\u001b[0m             \u001b[1;32mif\u001b[0m \u001b[0mis_child\u001b[0m\u001b[1;33m:\u001b[0m\u001b[1;33m\u001b[0m\u001b[0m\n\u001b[0;32m    319\u001b[0m                 \u001b[1;31m# newlines imply flush in subprocesses\u001b[0m\u001b[1;33m\u001b[0m\u001b[1;33m\u001b[0m\u001b[0m\n",
      "\u001b[1;31mValueError\u001b[0m: I/O operation on closed file"
     ]
    }
   ],
   "source": [
    "# search for threhold\n",
    "for i in range(1, int(max(validation_prediction_lad_modified)) + 1):\n",
    "    prediction_conditional_combination = []\n",
    "    for j in range(len(validation_prediction_lad_modified)):\n",
    "        if validation_prediction_lad_modified[j] <= i:\n",
    "            prediction_conditional_combination.append(validation_prediction_lad_modified[j])\n",
    "        else:\n",
    "            prediction_conditional_combination.append(validation_prediction_gl_modified[j])\n",
    "    (sum, count, mape_conditional_combination) = mape(validation_target, prediction_conditional_combination)\n",
    "    print mape_conditional_combination"
   ]
  },
  {
   "cell_type": "code",
   "execution_count": null,
   "metadata": {
    "collapsed": false
   },
   "outputs": [],
   "source": [
    "# search for threhold\n",
    "mape_smallest = 1\n",
    "i_corresponding = 1\n",
    "for i in range(1, int(max(validation_prediction_gl_modified)) + 1):\n",
    "    prediction_conditional_combination = []\n",
    "    for j in range(len(validation_prediction_gl_modified)):\n",
    "        if validation_prediction_gl_modified[j] >= i:\n",
    "            prediction_conditional_combination.append(validation_prediction_gl_modified[j])\n",
    "        else:\n",
    "            prediction_conditional_combination.append(validation_prediction_lad_modified[j])\n",
    "    (sum, count, mape_conditional_combination) = mape(validation_target, prediction_conditional_combination)\n",
    "    if mape_conditional_combination < mape_smallest:\n",
    "        mape_smallest = mape_conditional_combination\n",
    "        i_corresponding = i\n",
    "print mape_smallest\n",
    "print i_corresponding\n",
    "\n",
    "prediction_conditional_combination = []\n",
    "for j in range(len(validation_prediction_gl_modified)):\n",
    "    if validation_prediction_gl_modified[j] >= i_corresponding:\n",
    "        prediction_conditional_combination.append(validation_prediction_gl_modified[j])\n",
    "    else:\n",
    "        prediction_conditional_combination.append(validation_prediction_lad_modified[j])\n",
    "    \n",
    "data_boosting['prediction_conditional_combination'] = prediction_conditional_combination"
   ]
  },
  {
   "cell_type": "code",
   "execution_count": null,
   "metadata": {
    "collapsed": false
   },
   "outputs": [],
   "source": [
    "data_boosting['gap_t(j)','gl_ls_predicted','scikit_lad_predicted','prediction_boosting', 'prediction_conditional_combination']\\\n",
    ".export_csv(\"model_comparison_2.csv\")"
   ]
  },
  {
   "cell_type": "markdown",
   "metadata": {
    "collapsed": false
   },
   "source": [
    "### Model prediction"
   ]
  },
  {
   "cell_type": "code",
   "execution_count": null,
   "metadata": {
    "collapsed": false
   },
   "outputs": [],
   "source": [
    "prediction_items = []\n",
    "fhand = open(\"read_me_1.txt\")\n",
    "for line in fhand:\n",
    "    line_splitted = line.strip().split('-')\n",
    "    prediction_items.append(((line_splitted[0] + '-' + line_splitted[1] + '-' + line_splitted[2]), line_splitted[3]))\n",
    "fhand.close()\n",
    "#prediction_items"
   ]
  },
  {
   "cell_type": "code",
   "execution_count": null,
   "metadata": {
    "collapsed": false
   },
   "outputs": [],
   "source": [
    "data_test_set_1_filtered = graphlab.SFrame()\n",
    "for (date, time_slot_id) in prediction_items:\n",
    "    data_test_set_1_filtered = data_test_set_1_filtered.append(\n",
    "    data_test_set_1[(data_test_set_1['date'] == date) & (data_test_set_1['time_slot_id'] == int(time_slot_id))])"
   ]
  },
  {
   "cell_type": "code",
   "execution_count": null,
   "metadata": {
    "collapsed": true
   },
   "outputs": [],
   "source": [
    "feature_numpy_test = data_test_set_1_filtered[features].to_numpy()"
   ]
  },
  {
   "cell_type": "code",
   "execution_count": null,
   "metadata": {
    "collapsed": false
   },
   "outputs": [],
   "source": [
    "test_prediction = model.predict(feature_numpy_test).tolist()"
   ]
  },
  {
   "cell_type": "code",
   "execution_count": null,
   "metadata": {
    "collapsed": false
   },
   "outputs": [],
   "source": [
    "test_prediction_modified = prediction_modification(test_prediction)\n",
    "\n",
    "# test_prediction_modified[0:100]"
   ]
  },
  {
   "cell_type": "code",
   "execution_count": null,
   "metadata": {
    "collapsed": true
   },
   "outputs": [],
   "source": [
    "data_test_set_1_filtered['prediction'] = test_prediction_modified"
   ]
  },
  {
   "cell_type": "code",
   "execution_count": null,
   "metadata": {
    "collapsed": false
   },
   "outputs": [],
   "source": [
    "#data_test_set_1_filtered"
   ]
  },
  {
   "cell_type": "markdown",
   "metadata": {},
   "source": [
    "### Make submission file"
   ]
  },
  {
   "cell_type": "code",
   "execution_count": null,
   "metadata": {
    "collapsed": true
   },
   "outputs": [],
   "source": [
    "def make_submission(result, filename='submission.txt'):\n",
    "    output_file = open(filename,'w')\n",
    "    for row in data_test_set_1_filtered:\n",
    "        output_file.write(str(row['start_district_id']) + ',' + row['date'] + '-' \\\n",
    "                          + str(row['time_slot_id']) + ',' + str(row['prediction']) + '\\n')\n",
    "    output_file.close()"
   ]
  },
  {
   "cell_type": "code",
   "execution_count": null,
   "metadata": {
    "collapsed": false
   },
   "outputs": [],
   "source": [
    "make_submission(data_test_set_1_filtered)"
   ]
  }
 ],
 "metadata": {
  "kernelspec": {
   "display_name": "Python 2",
   "language": "python",
   "name": "python2"
  },
  "language_info": {
   "codemirror_mode": {
    "name": "ipython",
    "version": 2
   },
   "file_extension": ".py",
   "mimetype": "text/x-python",
   "name": "python",
   "nbconvert_exporter": "python",
   "pygments_lexer": "ipython2",
   "version": "2.7.11"
  }
 },
 "nbformat": 4,
 "nbformat_minor": 0
}
