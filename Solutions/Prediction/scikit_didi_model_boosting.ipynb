{
 "cells": [
  {
   "cell_type": "markdown",
   "metadata": {},
   "source": [
    "* This sript is based on the script on 20160603\n",
    "* The purpose of this script today is to study the combination of different models"
   ]
  },
  {
   "cell_type": "code",
   "execution_count": 1,
   "metadata": {
    "collapsed": false
   },
   "outputs": [],
   "source": [
    "import numpy as np\n",
    "import matplotlib.pyplot as plt\n",
    "\n",
    "import graphlab\n",
    "import datetime\n",
    "import math\n",
    "\n",
    "from sklearn.ensemble import GradientBoostingRegressor\n",
    "from sklearn import ensemble\n",
    "from sklearn import datasets\n",
    "from sklearn.utils import shuffle\n",
    "from sklearn.metrics import mean_squared_error\n",
    "from sklearn.metrics import mean_absolute_error\n",
    "\n",
    "%matplotlib inline\n",
    "\n",
    "np.random.seed(1)"
   ]
  },
  {
   "cell_type": "markdown",
   "metadata": {},
   "source": [
    "### Define functions"
   ]
  },
  {
   "cell_type": "code",
   "execution_count": 2,
   "metadata": {
    "collapsed": false
   },
   "outputs": [],
   "source": [
    "# datetime.date format: year, month, day\n",
    "def date_to_day(date):\n",
    "    date_list = date.strip().split('-')\n",
    "    return datetime.date(int(date_list[0]),int(date_list[1]),int(date_list[2])).weekday() + 1"
   ]
  },
  {
   "cell_type": "code",
   "execution_count": 3,
   "metadata": {
    "collapsed": true
   },
   "outputs": [],
   "source": [
    "# define MAPE evaluation function\n",
    "def mape(result, result_predicted):\n",
    "    count = 0\n",
    "    sum = 0\n",
    "    for (item_1, item_2) in zip(result, result_predicted):\n",
    "        if item_1 > 0:\n",
    "            count = count + 1\n",
    "            sum = sum + math.fabs((item_1 - item_2)/item_1)\n",
    "    return (sum, count, sum/count)"
   ]
  },
  {
   "cell_type": "code",
   "execution_count": 4,
   "metadata": {
    "collapsed": false
   },
   "outputs": [],
   "source": [
    "# define post_prediction_modification to predicted data\n",
    "# set all the predicted gap that is less than 1 to 1\n",
    "def prediction_modification(prediction):\n",
    "    vect = prediction\n",
    "    for i in range(len(vect)):\n",
    "        if vect[i] < 1.0:\n",
    "            vect[i] = 1.0\n",
    "    return vect"
   ]
  },
  {
   "cell_type": "markdown",
   "metadata": {},
   "source": [
    "### Load data"
   ]
  },
  {
   "cell_type": "code",
   "execution_count": 5,
   "metadata": {
    "collapsed": false
   },
   "outputs": [
    {
     "name": "stderr",
     "output_type": "stream",
     "text": [
      "[INFO] graphlab.cython.cy_server: GraphLab Create v2.1 started. Logging: C:\\Users\\Marine\\AppData\\Local\\Temp\\graphlab_server_1478495358.log.0\n"
     ]
    },
    {
     "name": "stdout",
     "output_type": "stream",
     "text": [
      "This non-commercial license of GraphLab Create for academic use is assigned to lei.mao@duke.edu and will expire on November 21, 2016.\n"
     ]
    },
    {
     "data": {
      "text/html": [
       "<pre>Finished parsing file D:\\Machine Learning\\Di-Tech_Challenge\\GitHub_Backup\\Di-Tech_Algorithm_Challenge_2016\\Solutions\\Prediction\\data-all_training.csv</pre>"
      ],
      "text/plain": [
       "Finished parsing file D:\\Machine Learning\\Di-Tech_Challenge\\GitHub_Backup\\Di-Tech_Algorithm_Challenge_2016\\Solutions\\Prediction\\data-all_training.csv"
      ]
     },
     "metadata": {},
     "output_type": "display_data"
    },
    {
     "data": {
      "text/html": [
       "<pre>Parsing completed. Parsed 199584 lines in 1.15207 secs.</pre>"
      ],
      "text/plain": [
       "Parsing completed. Parsed 199584 lines in 1.15207 secs."
      ]
     },
     "metadata": {},
     "output_type": "display_data"
    },
    {
     "data": {
      "text/html": [
       "<pre>Finished parsing file D:\\Machine Learning\\Di-Tech_Challenge\\GitHub_Backup\\Di-Tech_Algorithm_Challenge_2016\\Solutions\\Prediction\\data-all_test_set_1.csv</pre>"
      ],
      "text/plain": [
       "Finished parsing file D:\\Machine Learning\\Di-Tech_Challenge\\GitHub_Backup\\Di-Tech_Algorithm_Challenge_2016\\Solutions\\Prediction\\data-all_test_set_1.csv"
      ]
     },
     "metadata": {},
     "output_type": "display_data"
    },
    {
     "data": {
      "text/html": [
       "<pre>Parsing completed. Parsed 47520 lines in 0.249014 secs.</pre>"
      ],
      "text/plain": [
       "Parsing completed. Parsed 47520 lines in 0.249014 secs."
      ]
     },
     "metadata": {},
     "output_type": "display_data"
    }
   ],
   "source": [
    "# SFrame.read_csv function to read csv files\n",
    "data_training = graphlab.SFrame.read_csv(\"data-all_training.csv\", \\\n",
    "                                        column_type_hints=[str,str,long,long,long,long,long,float,long,long,long,long,\\\n",
    "                                                           float,float,float,float,float,str,str,str,str,long,long,\\\n",
    "                                                           long,long,float,long,long,long,long,float,long,long,long,long,\\\n",
    "                                                           long,long,long,long,long,long,long,long,long,long,long,long])\n",
    "data_test_set_1 = graphlab.SFrame.read_csv(\"data-all_test_set_1.csv\", \\\n",
    "                                          column_type_hints=[str,str,long,long,long,long,long,float,long,long,long,long,\\\n",
    "                                                           float,float,float,float,float,str,str,str,str,long,long,\\\n",
    "                                                           long,long,float,long,long,long,long,float,long,long,long,long,\\\n",
    "                                                           long,long,long,long,long,long,long,long,long,long,long,long])"
   ]
  },
  {
   "cell_type": "code",
   "execution_count": 6,
   "metadata": {
    "collapsed": true
   },
   "outputs": [],
   "source": [
    "data_training['day_of_week'] = data_training['date'].apply(lambda x: str(date_to_day(x)))\n",
    "data_test_set_1['day_of_week'] = data_test_set_1['date'].apply(lambda x: str(date_to_day(x)))\n",
    "\n",
    "data_training['gap_delta'] = data_training['gap_t(j)'] - data_training['gap_t(j-1)']\n",
    "data_training['gap_delta_1'] = data_training['gap_t(j-1)'] - data_training['gap_t(j-2)']\n",
    "data_training['gap_delta_2'] = data_training['gap_t(j-2)'] - data_training['gap_t(j-3)']\n",
    "data_training['gap_delta_3'] = data_training['gap_t(j-1)'] - data_training['gap_t(j-3)']\n",
    "\n",
    "\n",
    "data_test_set_1['gap_delta_1'] = data_test_set_1['gap_t(j-1)'] - data_test_set_1['gap_t(j-2)']\n",
    "data_test_set_1['gap_delta_2'] = data_test_set_1['gap_t(j-2)'] - data_test_set_1['gap_t(j-3)']\n",
    "data_test_set_1['gap_delta_3'] = data_test_set_1['gap_t(j-1)'] - data_test_set_1['gap_t(j-3)']\n",
    "\n",
    "\n",
    "data_training['log_gap_t(j)'] = data_training['gap_t(j)'].apply(lambda x: math.log10(x+1.0))\n",
    "data_training['log_gap_t(j-1)'] = data_training['gap_t(j-1)'].apply(lambda x: math.log10(x+1.0))\n",
    "data_training['log_gap_t(j-2)'] = data_training['gap_t(j-2)'].apply(lambda x: math.log10(x+1.0))\n",
    "data_training['log_gap_t(j-3)'] = data_training['gap_t(j-3)'].apply(lambda x: math.log10(x+1.0))\n",
    "\n",
    "\n",
    "data_test_set_1['log_gap_t(j-1)'] = data_test_set_1['gap_t(j-1)'].apply(lambda x: math.log10(x+1.0))\n",
    "data_test_set_1['log_gap_t(j-2)'] = data_test_set_1['gap_t(j-2)'].apply(lambda x: math.log10(x+1.0))\n",
    "data_test_set_1['log_gap_t(j-3)'] = data_test_set_1['gap_t(j-3)'].apply(lambda x: math.log10(x+1.0))\n",
    "\n",
    "\n",
    "# delete data at time_slot_id 1, 2 and 3\n",
    "data_training = data_training[(data_training['time_slot_id'] > 3)]"
   ]
  },
  {
   "cell_type": "code",
   "execution_count": 7,
   "metadata": {
    "collapsed": true
   },
   "outputs": [],
   "source": [
    "data_training_training, data_training_validation = data_training.random_split(.9, seed=1)"
   ]
  },
  {
   "cell_type": "code",
   "execution_count": 8,
   "metadata": {
    "collapsed": true
   },
   "outputs": [],
   "source": [
    "features = ['start_district_id', 'time_slot_id', 'gap_t(j-1)', 'gap_t(j-2)', 'gap_t(j-3)', 'gap_averaged',\n",
    "            'gap_delta_1','gap_delta_2','gap_delta_3',\n",
    "            'log_gap_t(j-1)','log_gap_t(j-2)','log_gap_t(j-3)',\n",
    "            'order_t(j-1)', 'order_t(j-2)', 'order_t(j-3)', 'order_averaged', 'price_avg_t(j-1)', 'price_avg_t(j-2)',\n",
    "            'price_avg_t(j-3)', 'weather_t(j)', 'weather_t(j-1)', 'weather_t(j-2)', 'weather_t(j-3)', \n",
    "            'pm_t(j)','pm_t(j-1)','pm_t(j-2)','pm_t(j-3)','pm_avg', 'tj_1_j', 'tj_2_j','tj_3_j','tj_4_j',\n",
    "            'tj_1_j_1', 'tj_2_j_1','tj_3_j_1','tj_4_j_1', 'tj_1_j_2', 'tj_2_j_2','tj_3_j_2','tj_4_j_2',\n",
    "            'tj_1_j_3', 'tj_2_j_3','tj_3_j_3','tj_4_j_3','day_of_week']"
   ]
  },
  {
   "cell_type": "code",
   "execution_count": 9,
   "metadata": {
    "collapsed": true
   },
   "outputs": [],
   "source": [
    "features = ['start_district_id', 'time_slot_id',\n",
    "            'log_gap_t(j-1)','log_gap_t(j-2)','log_gap_t(j-3)',\n",
    "            'order_t(j-1)', 'order_t(j-2)', 'order_t(j-3)', 'order_averaged', 'price_avg_t(j-1)', 'price_avg_t(j-2)',\n",
    "            'price_avg_t(j-3)', 'weather_t(j)', 'weather_t(j-1)', 'weather_t(j-2)', 'weather_t(j-3)', \n",
    "            'pm_t(j)','pm_t(j-1)','pm_t(j-2)','pm_t(j-3)','pm_avg', 'tj_1_j', 'tj_2_j','tj_3_j','tj_4_j',\n",
    "            'tj_1_j_1', 'tj_2_j_1','tj_3_j_1','tj_4_j_1', 'tj_1_j_2', 'tj_2_j_2','tj_3_j_2','tj_4_j_2',\n",
    "            'tj_1_j_3', 'tj_2_j_3','tj_3_j_3','tj_4_j_3','day_of_week']"
   ]
  },
  {
   "cell_type": "code",
   "execution_count": 10,
   "metadata": {
    "collapsed": false
   },
   "outputs": [],
   "source": [
    "feature_numpy_training = data_training_training[features].to_numpy().astype(float)"
   ]
  },
  {
   "cell_type": "code",
   "execution_count": 11,
   "metadata": {
    "collapsed": false
   },
   "outputs": [],
   "source": [
    "#feature_numpy_training"
   ]
  },
  {
   "cell_type": "code",
   "execution_count": 12,
   "metadata": {
    "collapsed": true
   },
   "outputs": [],
   "source": [
    "target_numpy_training = data_training_training['log_gap_t(j)'].to_numpy().astype(float)"
   ]
  },
  {
   "cell_type": "code",
   "execution_count": 13,
   "metadata": {
    "collapsed": true
   },
   "outputs": [],
   "source": [
    "feature_numpy_validation = data_training_validation[features].to_numpy().astype(float)"
   ]
  },
  {
   "cell_type": "code",
   "execution_count": 14,
   "metadata": {
    "collapsed": true
   },
   "outputs": [],
   "source": [
    "target_numpy_validation = data_training_validation['log_gap_t(j)'].to_numpy().astype(float)"
   ]
  },
  {
   "cell_type": "markdown",
   "metadata": {
    "collapsed": true
   },
   "source": [
    "### Explore hyperparameters"
   ]
  },
  {
   "cell_type": "code",
   "execution_count": 15,
   "metadata": {
    "collapsed": false
   },
   "outputs": [
    {
     "data": {
      "text/plain": [
       "'\\n# define parameters to search\\n\\nn_estimators = [5,10,20,30,40,50,60,70,80,90,100,150,200,300,400,500]\\nmax_depth = [2,3,4,5,6,7,8]\\nmin_samples_split = [1,2,3,4]\\n\\nn_estimators = [5,10]\\nmax_depth = [2,3]\\nmin_samples_split = [1,2]\\n'"
      ]
     },
     "execution_count": 15,
     "metadata": {},
     "output_type": "execute_result"
    }
   ],
   "source": [
    "'''\n",
    "# define parameters to search\n",
    "\n",
    "n_estimators = [5,10,20,30,40,50,60,70,80,90,100,150,200,300,400,500]\n",
    "max_depth = [2,3,4,5,6,7,8]\n",
    "min_samples_split = [1,2,3,4]\n",
    "\n",
    "n_estimators = [5,10]\n",
    "max_depth = [2,3]\n",
    "min_samples_split = [1,2]\n",
    "'''"
   ]
  },
  {
   "cell_type": "code",
   "execution_count": 16,
   "metadata": {
    "collapsed": false
   },
   "outputs": [
    {
     "data": {
      "text/plain": [
       "'\\noutput_file = open(\"hyperparamters_test_result\",\\'w\\')\\noutput_file.write(\"n_estimators,max_depth,min_samples_split,mae,rmse\\n\")\\noutput_file.close()\\n\\nfor i in range(len(n_estimators)):\\n    for j in range(len(max_depth)):\\n        for k in range(len(min_samples_split)):\\n            print i, j, k\\n            params = {\\'n_estimators\\':n_estimators[i], \\'max_depth\\': max_depth[j], \\'min_samples_split\\': min_samples_split[k], \\n                      \\'verbose\\': False, \\'learning_rate\\': 0.01, \\'loss\\': \\'quantile\\', \\'alpha\\': 0.5}\\n            model = ensemble.GradientBoostingRegressor(**params)\\n            model.fit(feature_numpy_training, target_numpy_training)\\n            validation_prediction = model.predict(feature_numpy_validation).tolist()\\n            validation_target = target_numpy_validation.tolist()\\n            (sum, count, mae) = mape(validation_target,validation_prediction)\\n            rmse = np.sqrt(mean_squared_error(validation_target,validation_prediction))\\n            output_file = open(\"hyperparamters_test_result\",\\'a\\')\\n            output_file.write(str(n_estimators[i]) + \\',\\' + str(max_depth[j]) + \\',\\' + str(min_samples_split[k]) +                               \\',\\' + str(mae) + \\',\\' + str(rmse) + \\'\\n\\')\\n            output_file.close()\\n            \\n '"
      ]
     },
     "execution_count": 16,
     "metadata": {},
     "output_type": "execute_result"
    }
   ],
   "source": [
    "'''\n",
    "output_file = open(\"hyperparamters_test_result\",'w')\n",
    "output_file.write(\"n_estimators,max_depth,min_samples_split,mae,rmse\\n\")\n",
    "output_file.close()\n",
    "\n",
    "for i in range(len(n_estimators)):\n",
    "    for j in range(len(max_depth)):\n",
    "        for k in range(len(min_samples_split)):\n",
    "            print i, j, k\n",
    "            params = {'n_estimators':n_estimators[i], 'max_depth': max_depth[j], 'min_samples_split': min_samples_split[k], \n",
    "                      'verbose': False, 'learning_rate': 0.01, 'loss': 'quantile', 'alpha': 0.5}\n",
    "            model = ensemble.GradientBoostingRegressor(**params)\n",
    "            model.fit(feature_numpy_training, target_numpy_training)\n",
    "            validation_prediction = model.predict(feature_numpy_validation).tolist()\n",
    "            validation_target = target_numpy_validation.tolist()\n",
    "            (sum, count, mae) = mape(validation_target,validation_prediction)\n",
    "            rmse = np.sqrt(mean_squared_error(validation_target,validation_prediction))\n",
    "            output_file = open(\"hyperparamters_test_result\",'a')\n",
    "            output_file.write(str(n_estimators[i]) + ',' + str(max_depth[j]) + ',' + str(min_samples_split[k]) + \\\n",
    "                              ',' + str(mae) + ',' + str(rmse) + '\\n')\n",
    "            output_file.close()\n",
    "            \n",
    " '''           "
   ]
  },
  {
   "cell_type": "markdown",
   "metadata": {},
   "source": [
    "### Train the model"
   ]
  },
  {
   "cell_type": "code",
   "execution_count": 17,
   "metadata": {
    "collapsed": false
   },
   "outputs": [
    {
     "name": "stdout",
     "output_type": "stream",
     "text": [
      "      Iter       Train Loss   Remaining Time \n",
      "         1           0.0329            2.29m\n",
      "         2           0.0331            2.31m\n",
      "         3           0.0331            2.33m\n",
      "         4           0.0331            2.32m\n",
      "         5           0.0331            2.30m\n",
      "         6           0.0331            2.27m\n",
      "         7           0.0331            2.24m\n",
      "         8           0.0331            2.21m\n",
      "         9           0.0332            2.18m\n",
      "        10           0.0332            2.15m\n",
      "        20           0.0333            1.92m\n",
      "        30           0.0330            1.67m\n",
      "        40           0.0324            1.43m\n",
      "        50           0.0320            1.19m\n",
      "        60           0.0313           56.74s\n",
      "        70           0.0307           42.30s\n",
      "        80           0.0301           28.05s\n",
      "        90           0.0296           14.01s\n",
      "       100           0.0290            0.00s\n"
     ]
    },
    {
     "data": {
      "text/plain": [
       "GradientBoostingRegressor(alpha=0.5, init=None, learning_rate=0.01,\n",
       "             loss='quantile', max_depth=4, max_features=None,\n",
       "             max_leaf_nodes=None, min_samples_leaf=1, min_samples_split=1,\n",
       "             min_weight_fraction_leaf=0.0, n_estimators=100,\n",
       "             presort='auto', random_state=None, subsample=1.0,\n",
       "             verbose=True, warm_start=False)"
      ]
     },
     "execution_count": 17,
     "metadata": {},
     "output_type": "execute_result"
    }
   ],
   "source": [
    "# Least Absolute Deviation (LAD) regression\n",
    "\n",
    "# Fit regression model\n",
    "params = {'n_estimators':100, 'max_depth': 4, 'min_samples_split': 1, 'verbose': True,\n",
    "          'learning_rate': 0.01, 'loss': 'quantile', 'alpha': 0.5}\n",
    "model_lad = ensemble.GradientBoostingRegressor(**params)\n",
    "\n",
    "model_lad.fit(feature_numpy_training, target_numpy_training)\n"
   ]
  },
  {
   "cell_type": "code",
   "execution_count": 18,
   "metadata": {
    "collapsed": false
   },
   "outputs": [
    {
     "name": "stdout",
     "output_type": "stream",
     "text": [
      "      Iter       Train Loss   Remaining Time \n",
      "         1           0.2414            0.00s\n"
     ]
    },
    {
     "data": {
      "text/plain": [
       "GradientBoostingRegressor(alpha=0.9, init=None, learning_rate=0.01, loss='ls',\n",
       "             max_depth=4, max_features=None, max_leaf_nodes=None,\n",
       "             min_samples_leaf=1, min_samples_split=1,\n",
       "             min_weight_fraction_leaf=0.0, n_estimators=1, presort='auto',\n",
       "             random_state=None, subsample=1.0, verbose=True,\n",
       "             warm_start=False)"
      ]
     },
     "execution_count": 18,
     "metadata": {},
     "output_type": "execute_result"
    }
   ],
   "source": [
    "# Least Squares (LS) regression\n",
    "\n",
    "# Fit regression model\n",
    "params = {'n_estimators':1, 'max_depth': 4, 'min_samples_split': 1, 'verbose': True,\n",
    "          'learning_rate': 0.01, 'loss': 'ls'}\n",
    "model_ls = ensemble.GradientBoostingRegressor(**params)\n",
    "\n",
    "model_ls.fit(feature_numpy_training, target_numpy_training)\n"
   ]
  },
  {
   "cell_type": "code",
   "execution_count": 19,
   "metadata": {
    "collapsed": false
   },
   "outputs": [
    {
     "name": "stdout",
     "output_type": "stream",
     "text": [
      "PROGRESS: Creating a validation set from 5 percent of training data. This may take a while.\n",
      "          You can set ``validation_set=None`` to disable validation tracking.\n",
      "\n"
     ]
    },
    {
     "data": {
      "text/html": [
       "<pre>Boosted trees regression:</pre>"
      ],
      "text/plain": [
       "Boosted trees regression:"
      ]
     },
     "metadata": {},
     "output_type": "display_data"
    },
    {
     "data": {
      "text/html": [
       "<pre>--------------------------------------------------------</pre>"
      ],
      "text/plain": [
       "--------------------------------------------------------"
      ]
     },
     "metadata": {},
     "output_type": "display_data"
    },
    {
     "data": {
      "text/html": [
       "<pre>Number of examples          : 167052</pre>"
      ],
      "text/plain": [
       "Number of examples          : 167052"
      ]
     },
     "metadata": {},
     "output_type": "display_data"
    },
    {
     "data": {
      "text/html": [
       "<pre>Number of features          : 38</pre>"
      ],
      "text/plain": [
       "Number of features          : 38"
      ]
     },
     "metadata": {},
     "output_type": "display_data"
    },
    {
     "data": {
      "text/html": [
       "<pre>Number of unpacked features : 38</pre>"
      ],
      "text/plain": [
       "Number of unpacked features : 38"
      ]
     },
     "metadata": {},
     "output_type": "display_data"
    },
    {
     "data": {
      "text/html": [
       "<pre>+-----------+--------------+--------------------+----------------------+---------------+-----------------+</pre>"
      ],
      "text/plain": [
       "+-----------+--------------+--------------------+----------------------+---------------+-----------------+"
      ]
     },
     "metadata": {},
     "output_type": "display_data"
    },
    {
     "data": {
      "text/html": [
       "<pre>| Iteration | Elapsed Time | Training-max_error | Validation-max_error | Training-rmse | Validation-rmse |</pre>"
      ],
      "text/plain": [
       "| Iteration | Elapsed Time | Training-max_error | Validation-max_error | Training-rmse | Validation-rmse |"
      ]
     },
     "metadata": {},
     "output_type": "display_data"
    },
    {
     "data": {
      "text/html": [
       "<pre>+-----------+--------------+--------------------+----------------------+---------------+-----------------+</pre>"
      ],
      "text/plain": [
       "+-----------+--------------+--------------------+----------------------+---------------+-----------------+"
      ]
     },
     "metadata": {},
     "output_type": "display_data"
    },
    {
     "data": {
      "text/html": [
       "<pre>| 1         | 0.815046     | 2.393590           | 2.350573             | 0.394567      | 0.401522        |</pre>"
      ],
      "text/plain": [
       "| 1         | 0.815046     | 2.393590           | 2.350573             | 0.394567      | 0.401522        |"
      ]
     },
     "metadata": {},
     "output_type": "display_data"
    },
    {
     "data": {
      "text/html": [
       "<pre>| 2         | 1.483084     | 1.877056           | 1.834038             | 0.320176      | 0.326698        |</pre>"
      ],
      "text/plain": [
       "| 2         | 1.483084     | 1.877056           | 1.834038             | 0.320176      | 0.326698        |"
      ]
     },
     "metadata": {},
     "output_type": "display_data"
    },
    {
     "data": {
      "text/html": [
       "<pre>| 3         | 2.154123     | 1.490175           | 1.483465             | 0.275108      | 0.282223        |</pre>"
      ],
      "text/plain": [
       "| 3         | 2.154123     | 1.490175           | 1.483465             | 0.275108      | 0.282223        |"
      ]
     },
     "metadata": {},
     "output_type": "display_data"
    },
    {
     "data": {
      "text/html": [
       "<pre>| 4         | 2.769158     | 1.448617           | 1.264365             | 0.249117      | 0.256917        |</pre>"
      ],
      "text/plain": [
       "| 4         | 2.769158     | 1.448617           | 1.264365             | 0.249117      | 0.256917        |"
      ]
     },
     "metadata": {},
     "output_type": "display_data"
    },
    {
     "data": {
      "text/html": [
       "<pre>| 5         | 3.386193     | 1.468274           | 1.262166             | 0.234415      | 0.243114        |</pre>"
      ],
      "text/plain": [
       "| 5         | 3.386193     | 1.468274           | 1.262166             | 0.234415      | 0.243114        |"
      ]
     },
     "metadata": {},
     "output_type": "display_data"
    },
    {
     "data": {
      "text/html": [
       "<pre>| 6         | 4.007229     | 1.362150           | 1.203371             | 0.225999      | 0.235363        |</pre>"
      ],
      "text/plain": [
       "| 6         | 4.007229     | 1.362150           | 1.203371             | 0.225999      | 0.235363        |"
      ]
     },
     "metadata": {},
     "output_type": "display_data"
    },
    {
     "data": {
      "text/html": [
       "<pre>| 10        | 6.141351     | 1.409527           | 1.049503             | 0.213564      | 0.226744        |</pre>"
      ],
      "text/plain": [
       "| 10        | 6.141351     | 1.409527           | 1.049503             | 0.213564      | 0.226744        |"
      ]
     },
     "metadata": {},
     "output_type": "display_data"
    },
    {
     "data": {
      "text/html": [
       "<pre>| 11        | 6.635379     | 1.413116           | 1.051904             | 0.212476      | 0.226390        |</pre>"
      ],
      "text/plain": [
       "| 11        | 6.635379     | 1.413116           | 1.051904             | 0.212476      | 0.226390        |"
      ]
     },
     "metadata": {},
     "output_type": "display_data"
    },
    {
     "data": {
      "text/html": [
       "<pre>| 15        | 8.571490     | 1.409300           | 1.073383             | 0.208825      | 0.225264        |</pre>"
      ],
      "text/plain": [
       "| 15        | 8.571490     | 1.409300           | 1.073383             | 0.208825      | 0.225264        |"
      ]
     },
     "metadata": {},
     "output_type": "display_data"
    },
    {
     "data": {
      "text/html": [
       "<pre>| 20        | 10.842620    | 1.410561           | 1.072579             | 0.206552      | 0.225018        |</pre>"
      ],
      "text/plain": [
       "| 20        | 10.842620    | 1.410561           | 1.072579             | 0.206552      | 0.225018        |"
      ]
     },
     "metadata": {},
     "output_type": "display_data"
    },
    {
     "data": {
      "text/html": [
       "<pre>| 25        | 13.091748    | 1.403336           | 1.055520             | 0.204703      | 0.224948        |</pre>"
      ],
      "text/plain": [
       "| 25        | 13.091748    | 1.403336           | 1.055520             | 0.204703      | 0.224948        |"
      ]
     },
     "metadata": {},
     "output_type": "display_data"
    },
    {
     "data": {
      "text/html": [
       "<pre>| 30        | 15.190868    | 1.403295           | 1.056057             | 0.203754      | 0.225018        |</pre>"
      ],
      "text/plain": [
       "| 30        | 15.190868    | 1.403295           | 1.056057             | 0.203754      | 0.225018        |"
      ]
     },
     "metadata": {},
     "output_type": "display_data"
    },
    {
     "data": {
      "text/html": [
       "<pre>| 35        | 17.260987    | 1.403120           | 1.056232             | 0.202735      | 0.225134        |</pre>"
      ],
      "text/plain": [
       "| 35        | 17.260987    | 1.403120           | 1.056232             | 0.202735      | 0.225134        |"
      ]
     },
     "metadata": {},
     "output_type": "display_data"
    },
    {
     "data": {
      "text/html": [
       "<pre>| 40        | 19.281102    | 1.402723           | 1.054963             | 0.202108      | 0.225274        |</pre>"
      ],
      "text/plain": [
       "| 40        | 19.281102    | 1.402723           | 1.054963             | 0.202108      | 0.225274        |"
      ]
     },
     "metadata": {},
     "output_type": "display_data"
    },
    {
     "data": {
      "text/html": [
       "<pre>| 45        | 21.392223    | 1.401696           | 1.046332             | 0.201008      | 0.225098        |</pre>"
      ],
      "text/plain": [
       "| 45        | 21.392223    | 1.401696           | 1.046332             | 0.201008      | 0.225098        |"
      ]
     },
     "metadata": {},
     "output_type": "display_data"
    },
    {
     "data": {
      "text/html": [
       "<pre>| 50        | 23.461341    | 1.401607           | 1.047059             | 0.199852      | 0.225144        |</pre>"
      ],
      "text/plain": [
       "| 50        | 23.461341    | 1.401607           | 1.047059             | 0.199852      | 0.225144        |"
      ]
     },
     "metadata": {},
     "output_type": "display_data"
    },
    {
     "data": {
      "text/html": [
       "<pre>| 51        | 23.869365    | 1.401559           | 1.047011             | 0.199756      | 0.225118        |</pre>"
      ],
      "text/plain": [
       "| 51        | 23.869365    | 1.401559           | 1.047011             | 0.199756      | 0.225118        |"
      ]
     },
     "metadata": {},
     "output_type": "display_data"
    },
    {
     "data": {
      "text/html": [
       "<pre>| 55        | 25.547461    | 1.407668           | 1.047132             | 0.199276      | 0.225132        |</pre>"
      ],
      "text/plain": [
       "| 55        | 25.547461    | 1.407668           | 1.047132             | 0.199276      | 0.225132        |"
      ]
     },
     "metadata": {},
     "output_type": "display_data"
    },
    {
     "data": {
      "text/html": [
       "<pre>| 60        | 27.582577    | 1.407662           | 1.047125             | 0.198901      | 0.225178        |</pre>"
      ],
      "text/plain": [
       "| 60        | 27.582577    | 1.407662           | 1.047125             | 0.198901      | 0.225178        |"
      ]
     },
     "metadata": {},
     "output_type": "display_data"
    },
    {
     "data": {
      "text/html": [
       "<pre>| 65        | 29.677697    | 1.407642           | 1.062246             | 0.198538      | 0.225284        |</pre>"
      ],
      "text/plain": [
       "| 65        | 29.677697    | 1.407642           | 1.062246             | 0.198538      | 0.225284        |"
      ]
     },
     "metadata": {},
     "output_type": "display_data"
    },
    {
     "data": {
      "text/html": [
       "<pre>| 70        | 31.516802    | 1.407547           | 1.029983             | 0.197587      | 0.225159        |</pre>"
      ],
      "text/plain": [
       "| 70        | 31.516802    | 1.407547           | 1.029983             | 0.197587      | 0.225159        |"
      ]
     },
     "metadata": {},
     "output_type": "display_data"
    },
    {
     "data": {
      "text/html": [
       "<pre>| 75        | 33.302904    | 1.405803           | 1.029996             | 0.197055      | 0.225214        |</pre>"
      ],
      "text/plain": [
       "| 75        | 33.302904    | 1.405803           | 1.029996             | 0.197055      | 0.225214        |"
      ]
     },
     "metadata": {},
     "output_type": "display_data"
    },
    {
     "data": {
      "text/html": [
       "<pre>| 80        | 35.540032    | 1.405886           | 1.030079             | 0.196526      | 0.225327        |</pre>"
      ],
      "text/plain": [
       "| 80        | 35.540032    | 1.405886           | 1.030079             | 0.196526      | 0.225327        |"
      ]
     },
     "metadata": {},
     "output_type": "display_data"
    },
    {
     "data": {
      "text/html": [
       "<pre>| 85        | 37.689155    | 1.405628           | 1.030981             | 0.195261      | 0.225246        |</pre>"
      ],
      "text/plain": [
       "| 85        | 37.689155    | 1.405628           | 1.030981             | 0.195261      | 0.225246        |"
      ]
     },
     "metadata": {},
     "output_type": "display_data"
    },
    {
     "data": {
      "text/html": [
       "<pre>| 90        | 39.447256    | 1.405394           | 1.032120             | 0.194300      | 0.225158        |</pre>"
      ],
      "text/plain": [
       "| 90        | 39.447256    | 1.405394           | 1.032120             | 0.194300      | 0.225158        |"
      ]
     },
     "metadata": {},
     "output_type": "display_data"
    },
    {
     "data": {
      "text/html": [
       "<pre>| 95        | 41.238358    | 1.405813           | 1.032080             | 0.193673      | 0.225279        |</pre>"
      ],
      "text/plain": [
       "| 95        | 41.238358    | 1.405813           | 1.032080             | 0.193673      | 0.225279        |"
      ]
     },
     "metadata": {},
     "output_type": "display_data"
    },
    {
     "data": {
      "text/html": [
       "<pre>| 100       | 42.952456    | 1.348052           | 1.035034             | 0.193046      | 0.225345        |</pre>"
      ],
      "text/plain": [
       "| 100       | 42.952456    | 1.348052           | 1.035034             | 0.193046      | 0.225345        |"
      ]
     },
     "metadata": {},
     "output_type": "display_data"
    },
    {
     "data": {
      "text/html": [
       "<pre>+-----------+--------------+--------------------+----------------------+---------------+-----------------+</pre>"
      ],
      "text/plain": [
       "+-----------+--------------+--------------------+----------------------+---------------+-----------------+"
      ]
     },
     "metadata": {},
     "output_type": "display_data"
    }
   ],
   "source": [
    "# Graphlab model\n",
    "model_gl = graphlab.boosted_trees_regression.create(data_training_training, features=features, target='log_gap_t(j)', \n",
    "                                                    max_iterations = 100,\n",
    "                                                    max_depth = 9, random_seed = 1)"
   ]
  },
  {
   "cell_type": "code",
   "execution_count": 20,
   "metadata": {
    "collapsed": false
   },
   "outputs": [
    {
     "name": "stdout",
     "output_type": "stream",
     "text": [
      "      Iter       Train Loss   Remaining Time \n",
      "         1           0.0039            2.18m\n",
      "         2           0.0057            2.12m\n",
      "         3           0.0076            2.10m\n",
      "         4           0.0096            2.08m\n",
      "         5           0.0114            2.06m\n",
      "         6           0.0131            2.04m\n",
      "         7           0.0149            2.01m\n",
      "         8           0.0167            1.99m\n",
      "         9           0.0185            1.97m\n",
      "        10           0.0202            2.00m\n",
      "        20           0.0368            1.78m\n",
      "        30           0.0518            1.54m\n",
      "        40           0.0651            1.31m\n",
      "        50           0.0770            1.09m\n",
      "        60           0.0878           52.03s\n",
      "        70           0.0973           38.95s\n",
      "        80           0.1067           26.00s\n",
      "        90           0.1160           13.01s\n",
      "       100           0.1243            0.00s\n"
     ]
    },
    {
     "data": {
      "text/plain": [
       "GradientBoostingRegressor(alpha=0.5, init=None, learning_rate=0.01,\n",
       "             loss='quantile', max_depth=4, max_features=None,\n",
       "             max_leaf_nodes=None, min_samples_leaf=1, min_samples_split=1,\n",
       "             min_weight_fraction_leaf=0.0, n_estimators=100,\n",
       "             presort='auto', random_state=None, subsample=1.0,\n",
       "             verbose=True, warm_start=False)"
      ]
     },
     "execution_count": 20,
     "metadata": {},
     "output_type": "execute_result"
    }
   ],
   "source": [
    "# predict gap_delta to predict gap\n",
    "gap_delta_numpy_training = data_training_training['gap_delta'].to_numpy().astype(float)\n",
    "gap_delta_numpy_validation = data_training_validation['gap_delta'].to_numpy().astype(float)\n",
    "\n",
    "\n",
    "# Least Absolute Deviation (LAD) regression\n",
    "\n",
    "# Fit regression model\n",
    "params = {'n_estimators':100, 'max_depth': 4, 'min_samples_split': 1, 'verbose': True,\n",
    "          'learning_rate': 0.01, 'loss': 'quantile', 'alpha': 0.5}\n",
    "model_delta_lad = ensemble.GradientBoostingRegressor(**params)\n",
    "\n",
    "model_delta_lad.fit(feature_numpy_training, gap_delta_numpy_training)"
   ]
  },
  {
   "cell_type": "markdown",
   "metadata": {},
   "source": [
    "### Model validation and evaluation"
   ]
  },
  {
   "cell_type": "markdown",
   "metadata": {},
   "source": [
    "* LAD model"
   ]
  },
  {
   "cell_type": "code",
   "execution_count": 21,
   "metadata": {
    "collapsed": false
   },
   "outputs": [],
   "source": [
    "\n",
    "validation_prediction_lad_temp = model_lad.predict(feature_numpy_validation).tolist()\n",
    "validation_prediction_lad = [math.pow(10,i) - 1.0 for i in validation_prediction_lad_temp]\n",
    "#print validation_prediction[0:100]\n"
   ]
  },
  {
   "cell_type": "code",
   "execution_count": 22,
   "metadata": {
    "collapsed": true
   },
   "outputs": [],
   "source": [
    "validation_target = list(data_training_validation['gap_t(j)'])\n",
    "#print validation_target[0:100]"
   ]
  },
  {
   "cell_type": "code",
   "execution_count": 23,
   "metadata": {
    "collapsed": false
   },
   "outputs": [],
   "source": [
    "model_comparison = graphlab.SFrame()\n",
    "model_comparison['target_value'] = validation_target\n",
    "model_comparison['model_lad_unmodified'] = validation_prediction_lad"
   ]
  },
  {
   "cell_type": "code",
   "execution_count": 24,
   "metadata": {
    "collapsed": false
   },
   "outputs": [],
   "source": [
    "# prediction_modification\n",
    "validation_prediction_lad_modified = prediction_modification(validation_prediction_lad)\n",
    "#print validation_prediction_modified[0:100]"
   ]
  },
  {
   "cell_type": "code",
   "execution_count": null,
   "metadata": {
    "collapsed": false
   },
   "outputs": [],
   "source": []
  },
  {
   "cell_type": "code",
   "execution_count": null,
   "metadata": {
    "collapsed": false
   },
   "outputs": [],
   "source": []
  },
  {
   "cell_type": "code",
   "execution_count": 25,
   "metadata": {
    "collapsed": false
   },
   "outputs": [],
   "source": [
    "(sum, count, mape_lad) = mape(validation_target,validation_prediction_lad_modified)"
   ]
  },
  {
   "cell_type": "code",
   "execution_count": null,
   "metadata": {
    "collapsed": false
   },
   "outputs": [],
   "source": []
  },
  {
   "cell_type": "code",
   "execution_count": 26,
   "metadata": {
    "collapsed": false
   },
   "outputs": [
    {
     "name": "stdout",
     "output_type": "stream",
     "text": [
      "mape_lad = 0.436144\n"
     ]
    }
   ],
   "source": [
    "print \"mape_lad = %f\" %mape_lad"
   ]
  },
  {
   "cell_type": "code",
   "execution_count": 27,
   "metadata": {
    "collapsed": false
   },
   "outputs": [],
   "source": [
    "rmse_lad = np.sqrt(mean_squared_error(validation_target,validation_prediction_lad_modified))"
   ]
  },
  {
   "cell_type": "code",
   "execution_count": 28,
   "metadata": {
    "collapsed": false
   },
   "outputs": [
    {
     "name": "stdout",
     "output_type": "stream",
     "text": [
      "rmse_lad = 36.753885\n"
     ]
    }
   ],
   "source": [
    "print \"rmse_lad = %f\" %rmse_lad"
   ]
  },
  {
   "cell_type": "code",
   "execution_count": 29,
   "metadata": {
    "collapsed": true
   },
   "outputs": [],
   "source": [
    "model_comparison['model_lad_modified'] = validation_prediction_lad_modified"
   ]
  },
  {
   "cell_type": "markdown",
   "metadata": {},
   "source": [
    "* LS model"
   ]
  },
  {
   "cell_type": "code",
   "execution_count": 30,
   "metadata": {
    "collapsed": true
   },
   "outputs": [],
   "source": [
    "validation_prediction_ls = model_ls.predict(feature_numpy_validation).tolist()"
   ]
  },
  {
   "cell_type": "code",
   "execution_count": 31,
   "metadata": {
    "collapsed": true
   },
   "outputs": [],
   "source": [
    "#model_comparison['model_ls_unmodified'] = validation_prediction_ls"
   ]
  },
  {
   "cell_type": "code",
   "execution_count": 32,
   "metadata": {
    "collapsed": true
   },
   "outputs": [],
   "source": [
    "validation_prediction_ls_modified = prediction_modification(validation_prediction_ls)"
   ]
  },
  {
   "cell_type": "code",
   "execution_count": 33,
   "metadata": {
    "collapsed": true
   },
   "outputs": [],
   "source": [
    "(sum, count, mape_ls) = mape(validation_target,validation_prediction_ls_modified)"
   ]
  },
  {
   "cell_type": "code",
   "execution_count": 34,
   "metadata": {
    "collapsed": false
   },
   "outputs": [
    {
     "name": "stdout",
     "output_type": "stream",
     "text": [
      "mape_ls = 0.511959\n"
     ]
    }
   ],
   "source": [
    "print \"mape_ls = %f\" %mape_ls"
   ]
  },
  {
   "cell_type": "code",
   "execution_count": 35,
   "metadata": {
    "collapsed": true
   },
   "outputs": [],
   "source": [
    "rmse_ls = np.sqrt(mean_squared_error(validation_target,validation_prediction_ls_modified))"
   ]
  },
  {
   "cell_type": "code",
   "execution_count": 36,
   "metadata": {
    "collapsed": false
   },
   "outputs": [
    {
     "name": "stdout",
     "output_type": "stream",
     "text": [
      "rmse_ls = 38.614115\n"
     ]
    }
   ],
   "source": [
    "print \"rmse_ls = %f\" %rmse_ls"
   ]
  },
  {
   "cell_type": "code",
   "execution_count": 37,
   "metadata": {
    "collapsed": true
   },
   "outputs": [],
   "source": [
    "\n",
    "#model_comparison['model_ls_modified'] = validation_prediction_ls_modified"
   ]
  },
  {
   "cell_type": "markdown",
   "metadata": {},
   "source": [
    "* Graphlab model"
   ]
  },
  {
   "cell_type": "code",
   "execution_count": 38,
   "metadata": {
    "collapsed": false
   },
   "outputs": [],
   "source": [
    "validation_prediction_gl_temp = list(model_gl.predict(data_training_validation))\n",
    "\n",
    "validation_prediction_gl = [math.pow(10,i) - 1.0 for i in validation_prediction_gl_temp]\n"
   ]
  },
  {
   "cell_type": "code",
   "execution_count": 39,
   "metadata": {
    "collapsed": true
   },
   "outputs": [],
   "source": [
    "model_comparison['model_gl_unmodified'] = validation_prediction_gl"
   ]
  },
  {
   "cell_type": "code",
   "execution_count": 40,
   "metadata": {
    "collapsed": false
   },
   "outputs": [],
   "source": [
    "validation_prediction_gl_modified = prediction_modification(validation_prediction_gl)"
   ]
  },
  {
   "cell_type": "code",
   "execution_count": 41,
   "metadata": {
    "collapsed": true
   },
   "outputs": [],
   "source": [
    "(sum, count, mape_gl) = mape(validation_target,validation_prediction_gl_modified)"
   ]
  },
  {
   "cell_type": "code",
   "execution_count": 42,
   "metadata": {
    "collapsed": false
   },
   "outputs": [
    {
     "name": "stdout",
     "output_type": "stream",
     "text": [
      "mape_gl = 0.452113\n"
     ]
    }
   ],
   "source": [
    "print \"mape_gl = %f\" %mape_gl"
   ]
  },
  {
   "cell_type": "code",
   "execution_count": 43,
   "metadata": {
    "collapsed": true
   },
   "outputs": [],
   "source": [
    "rmse_gl = np.sqrt(mean_squared_error(validation_target,validation_prediction_gl_modified))"
   ]
  },
  {
   "cell_type": "code",
   "execution_count": 44,
   "metadata": {
    "collapsed": false
   },
   "outputs": [
    {
     "name": "stdout",
     "output_type": "stream",
     "text": [
      "rmse_gl = 13.081696\n"
     ]
    }
   ],
   "source": [
    "print \"rmse_gl = %f\" %rmse_gl"
   ]
  },
  {
   "cell_type": "code",
   "execution_count": 45,
   "metadata": {
    "collapsed": true
   },
   "outputs": [],
   "source": [
    "\n",
    "model_comparison['model_gl_modified'] = validation_prediction_gl_modified"
   ]
  },
  {
   "cell_type": "markdown",
   "metadata": {},
   "source": [
    "* Predict gap_delta"
   ]
  },
  {
   "cell_type": "code",
   "execution_count": 46,
   "metadata": {
    "collapsed": true
   },
   "outputs": [],
   "source": [
    "validation_prediction_delta_lad = (model_delta_lad.predict(feature_numpy_validation) + data_training_validation['gap_t(j-1)'].to_numpy().astype(float)).tolist()\n",
    "\n"
   ]
  },
  {
   "cell_type": "code",
   "execution_count": 47,
   "metadata": {
    "collapsed": true
   },
   "outputs": [],
   "source": [
    "model_comparison['model_delta_lad_unmodified'] = validation_prediction_delta_lad"
   ]
  },
  {
   "cell_type": "code",
   "execution_count": 48,
   "metadata": {
    "collapsed": true
   },
   "outputs": [],
   "source": [
    "validation_prediction_delta_modified = prediction_modification(validation_prediction_delta_lad)"
   ]
  },
  {
   "cell_type": "code",
   "execution_count": 49,
   "metadata": {
    "collapsed": true
   },
   "outputs": [],
   "source": [
    "(sum, count, mape_delta_lad) = mape(validation_target,validation_prediction_delta_modified)"
   ]
  },
  {
   "cell_type": "code",
   "execution_count": 50,
   "metadata": {
    "collapsed": false
   },
   "outputs": [
    {
     "name": "stdout",
     "output_type": "stream",
     "text": [
      "mape_delta_lad = 0.565263\n"
     ]
    }
   ],
   "source": [
    "print \"mape_delta_lad = %f\" %mape_delta_lad"
   ]
  },
  {
   "cell_type": "code",
   "execution_count": 51,
   "metadata": {
    "collapsed": true
   },
   "outputs": [],
   "source": [
    "rmse_delta_lad = np.sqrt(mean_squared_error(validation_target,validation_prediction_delta_modified))"
   ]
  },
  {
   "cell_type": "code",
   "execution_count": 52,
   "metadata": {
    "collapsed": false
   },
   "outputs": [
    {
     "name": "stdout",
     "output_type": "stream",
     "text": [
      "rmse_delta_lad = 15.590565\n"
     ]
    }
   ],
   "source": [
    "print \"rmse_delta_lad = %f\" %rmse_delta_lad"
   ]
  },
  {
   "cell_type": "code",
   "execution_count": 53,
   "metadata": {
    "collapsed": true
   },
   "outputs": [],
   "source": [
    "model_comparison['model_delta_lad_modified'] = validation_prediction_delta_modified"
   ]
  },
  {
   "cell_type": "markdown",
   "metadata": {},
   "source": [
    "* Export data"
   ]
  },
  {
   "cell_type": "code",
   "execution_count": 54,
   "metadata": {
    "collapsed": false
   },
   "outputs": [],
   "source": [
    "model_comparison.export_csv(\"model_comparison.csv\")"
   ]
  },
  {
   "cell_type": "code",
   "execution_count": 55,
   "metadata": {
    "collapsed": false
   },
   "outputs": [],
   "source": [
    "#model_comparison"
   ]
  },
  {
   "cell_type": "code",
   "execution_count": 56,
   "metadata": {
    "collapsed": true
   },
   "outputs": [],
   "source": [
    "################################################################################"
   ]
  },
  {
   "cell_type": "markdown",
   "metadata": {},
   "source": [
    "### New boosting: integrate Graphlab rmse model and Scikit lad model\n",
    "* Low rmse is used to fit big gap numbers\n",
    "* Low lad is used to fit most of the numbers (here small gap numbers)\n",
    "* Ask machine to learn how to choose different models"
   ]
  },
  {
   "cell_type": "code",
   "execution_count": 57,
   "metadata": {
    "collapsed": false
   },
   "outputs": [],
   "source": [
    "data_boosting = graphlab.SFrame()\n",
    "data_boosting = data_training_validation['start_district_id', 'time_slot_id', 'gap_delta_1','gap_delta_2','gap_delta_3',\n",
    "                                         'gap_t(j)', 'gap_t(j-1)', 'gap_t(j-2)', 'gap_t(j-3)', 'day_of_week']\n",
    "data_boosting['gl_ls_predicted'] = validation_prediction_gl_modified\n",
    "data_boosting['scikit_lad_predicted'] = validation_prediction_lad_modified\n",
    "data_boosting['scikit_lad_predicted_delta_method'] = validation_prediction_delta_modified\n",
    "\n",
    "data_boosting['S1'] = data_boosting['gl_ls_predicted'] - data_boosting['scikit_lad_predicted']\n",
    "data_boosting['S2'] = data_boosting['gl_ls_predicted'] - data_boosting['scikit_lad_predicted_delta_method']\n",
    "data_boosting['S3'] = data_boosting['scikit_lad_predicted'] - data_boosting['scikit_lad_predicted_delta_method']\n",
    "\n",
    "data_boosting['D1'] = data_boosting['gl_ls_predicted'] / data_boosting['scikit_lad_predicted']\n",
    "data_boosting['D2'] = data_boosting['gl_ls_predicted'] / data_boosting['scikit_lad_predicted_delta_method']\n",
    "data_boosting['D3'] = data_boosting['scikit_lad_predicted'] / data_boosting['scikit_lad_predicted_delta_method']\n",
    "\n",
    "features_boosting = ['time_slot_id','gap_t(j-1)', 'gap_t(j-2)', 'gap_t(j-3)','gap_delta_1','gap_delta_2','gap_delta_3',\n",
    "                     'S1','S2','S3','D1','D2','D3',\n",
    "                     'gl_ls_predicted', 'scikit_lad_predicted', 'scikit_lad_predicted_delta_method']\n",
    "\n",
    "data_boosting_training, data_boosting_validation = data_boosting.random_split(.9, seed=1)\n",
    "#data_boosting"
   ]
  },
  {
   "cell_type": "code",
   "execution_count": 58,
   "metadata": {
    "collapsed": false
   },
   "outputs": [
    {
     "name": "stdout",
     "output_type": "stream",
     "text": [
      "      Iter       Train Loss   Remaining Time \n",
      "         1           3.0696            3.27s\n",
      "         2           3.0629            3.28s\n",
      "         3           3.0561            3.20s\n",
      "         4           3.0494            3.14s\n",
      "         5           3.0427            3.12s\n",
      "         6           3.0361            3.07s\n",
      "         7           3.0296            3.27s\n",
      "         8           3.0231            3.36s\n",
      "         9           3.0167            3.29s\n",
      "        10           3.0069            3.22s\n",
      "        20           2.8893            2.84s\n",
      "        30           2.7800            2.53s\n",
      "        40           2.6482            2.21s\n",
      "        50           2.5039            1.92s\n",
      "        60           2.3595            1.57s\n",
      "        70           2.2240            1.17s\n",
      "        80           2.1010            0.80s\n",
      "        90           1.9897            0.40s\n",
      "       100           1.8803            0.00s\n"
     ]
    },
    {
     "data": {
      "text/plain": [
       "GradientBoostingRegressor(alpha=0.5, init=None, learning_rate=0.01,\n",
       "             loss='quantile', max_depth=4, max_features=None,\n",
       "             max_leaf_nodes=None, min_samples_leaf=1, min_samples_split=1,\n",
       "             min_weight_fraction_leaf=0.0, n_estimators=100,\n",
       "             presort='auto', random_state=None, subsample=1.0,\n",
       "             verbose=True, warm_start=False)"
      ]
     },
     "execution_count": 58,
     "metadata": {},
     "output_type": "execute_result"
    }
   ],
   "source": [
    "params = {'n_estimators':100, 'max_depth': 4, 'min_samples_split': 1, 'verbose': True,\n",
    "          'learning_rate': 0.01, 'loss': 'quantile', 'alpha': 0.5}\n",
    "model_boosting = ensemble.GradientBoostingRegressor(**params)\n",
    "\n",
    "feature_numpy_boosting_training = data_boosting_training[features_boosting].to_numpy().astype(float)\n",
    "target_numpy_boosting_training = data_boosting_training['gap_t(j)'].to_numpy().astype(float)\n",
    "\n",
    "feature_numpy_boosting_validation = data_boosting_validation[features_boosting].to_numpy().astype(float)\n",
    "target_numpy_boosting_validation = data_boosting_validation['gap_t(j)'].to_numpy().astype(float)\n",
    "\n",
    "\n",
    "model_boosting.fit(feature_numpy_boosting_training, target_numpy_boosting_training)"
   ]
  },
  {
   "cell_type": "code",
   "execution_count": null,
   "metadata": {
    "collapsed": true
   },
   "outputs": [],
   "source": []
  },
  {
   "cell_type": "code",
   "execution_count": 59,
   "metadata": {
    "collapsed": false
   },
   "outputs": [
    {
     "data": {
      "text/plain": [
       "\"\\nmodel_boosting = graphlab.boosted_trees_regression.create(data_boosting, features = features_boosting, target='gap_t(j)', \\n                                                          max_iterations = 100,\\n                                                          max_depth = 9, random_seed = 1)\\n\""
      ]
     },
     "execution_count": 59,
     "metadata": {},
     "output_type": "execute_result"
    }
   ],
   "source": [
    "'''\n",
    "model_boosting = graphlab.boosted_trees_regression.create(data_boosting, features = features_boosting, target='gap_t(j)', \n",
    "                                                          max_iterations = 100,\n",
    "                                                          max_depth = 9, random_seed = 1)\n",
    "'''"
   ]
  },
  {
   "cell_type": "code",
   "execution_count": null,
   "metadata": {
    "collapsed": true
   },
   "outputs": [],
   "source": []
  },
  {
   "cell_type": "code",
   "execution_count": 60,
   "metadata": {
    "collapsed": true
   },
   "outputs": [],
   "source": [
    "validation_prediction_boosting = model_boosting.predict(feature_numpy_boosting_validation).tolist()\n",
    "#validation_prediction_boosting = list(model_boosting.predict(data_training_validation))"
   ]
  },
  {
   "cell_type": "code",
   "execution_count": 61,
   "metadata": {
    "collapsed": true
   },
   "outputs": [],
   "source": [
    "validation_prediction_boosting_modified = prediction_modification(validation_prediction_boosting)"
   ]
  },
  {
   "cell_type": "code",
   "execution_count": 62,
   "metadata": {
    "collapsed": true
   },
   "outputs": [],
   "source": [
    "(sum, count, mape_boosting) = mape(target_numpy_boosting_validation,validation_prediction_boosting_modified)"
   ]
  },
  {
   "cell_type": "code",
   "execution_count": 63,
   "metadata": {
    "collapsed": true
   },
   "outputs": [],
   "source": [
    "rmse_boosting = np.sqrt(mean_squared_error(target_numpy_boosting_validation,validation_prediction_boosting_modified))"
   ]
  },
  {
   "cell_type": "code",
   "execution_count": 64,
   "metadata": {
    "collapsed": false
   },
   "outputs": [
    {
     "name": "stdout",
     "output_type": "stream",
     "text": [
      "mape_boosting = 0.402721\n",
      "rmse_boosting = 25.972123\n"
     ]
    }
   ],
   "source": [
    "print \"mape_boosting = %f\" %mape_boosting\n",
    "print \"rmse_boosting = %f\" %rmse_boosting"
   ]
  },
  {
   "cell_type": "code",
   "execution_count": 65,
   "metadata": {
    "collapsed": false
   },
   "outputs": [
    {
     "data": {
      "text/html": [
       "<div style=\"max-height:1000px;max-width:1500px;overflow:auto;\"><table frame=\"box\" rules=\"cols\">\n",
       "    <tr>\n",
       "        <th style=\"padding-left: 1em; padding-right: 1em; text-align: center\">gap_t(j)</th>\n",
       "        <th style=\"padding-left: 1em; padding-right: 1em; text-align: center\">gap_t(j-1)</th>\n",
       "        <th style=\"padding-left: 1em; padding-right: 1em; text-align: center\">gl_ls_predicted</th>\n",
       "        <th style=\"padding-left: 1em; padding-right: 1em; text-align: center\">scikit_lad_predicted</th>\n",
       "        <th style=\"padding-left: 1em; padding-right: 1em; text-align: center\">scikit_lad_predicted_delt<br>a_method ...</th>\n",
       "        <th style=\"padding-left: 1em; padding-right: 1em; text-align: center\">prediction_boosting</th>\n",
       "    </tr>\n",
       "    <tr>\n",
       "        <td style=\"padding-left: 1em; padding-right: 1em; text-align: center; vertical-align: top\">96</td>\n",
       "        <td style=\"padding-left: 1em; padding-right: 1em; text-align: center; vertical-align: top\">73</td>\n",
       "        <td style=\"padding-left: 1em; padding-right: 1em; text-align: center; vertical-align: top\">108.517205889</td>\n",
       "        <td style=\"padding-left: 1em; padding-right: 1em; text-align: center; vertical-align: top\">15.7204397024</td>\n",
       "        <td style=\"padding-left: 1em; padding-right: 1em; text-align: center; vertical-align: top\">72.0109017648</td>\n",
       "        <td style=\"padding-left: 1em; padding-right: 1em; text-align: center; vertical-align: top\">70.1804162718</td>\n",
       "    </tr>\n",
       "    <tr>\n",
       "        <td style=\"padding-left: 1em; padding-right: 1em; text-align: center; vertical-align: top\">8</td>\n",
       "        <td style=\"padding-left: 1em; padding-right: 1em; text-align: center; vertical-align: top\">8</td>\n",
       "        <td style=\"padding-left: 1em; padding-right: 1em; text-align: center; vertical-align: top\">7.47599182851</td>\n",
       "        <td style=\"padding-left: 1em; padding-right: 1em; text-align: center; vertical-align: top\">4.27608158363</td>\n",
       "        <td style=\"padding-left: 1em; padding-right: 1em; text-align: center; vertical-align: top\">7.26077668804</td>\n",
       "        <td style=\"padding-left: 1em; padding-right: 1em; text-align: center; vertical-align: top\">5.91576001871</td>\n",
       "    </tr>\n",
       "    <tr>\n",
       "        <td style=\"padding-left: 1em; padding-right: 1em; text-align: center; vertical-align: top\">11</td>\n",
       "        <td style=\"padding-left: 1em; padding-right: 1em; text-align: center; vertical-align: top\">12</td>\n",
       "        <td style=\"padding-left: 1em; padding-right: 1em; text-align: center; vertical-align: top\">16.243311135</td>\n",
       "        <td style=\"padding-left: 1em; padding-right: 1em; text-align: center; vertical-align: top\">5.79672590875</td>\n",
       "        <td style=\"padding-left: 1em; padding-right: 1em; text-align: center; vertical-align: top\">11.260776688</td>\n",
       "        <td style=\"padding-left: 1em; padding-right: 1em; text-align: center; vertical-align: top\">10.418550267</td>\n",
       "    </tr>\n",
       "    <tr>\n",
       "        <td style=\"padding-left: 1em; padding-right: 1em; text-align: center; vertical-align: top\">32</td>\n",
       "        <td style=\"padding-left: 1em; padding-right: 1em; text-align: center; vertical-align: top\">17</td>\n",
       "        <td style=\"padding-left: 1em; padding-right: 1em; text-align: center; vertical-align: top\">21.1649079332</td>\n",
       "        <td style=\"padding-left: 1em; padding-right: 1em; text-align: center; vertical-align: top\">7.31560482892</td>\n",
       "        <td style=\"padding-left: 1em; padding-right: 1em; text-align: center; vertical-align: top\">16.260776688</td>\n",
       "        <td style=\"padding-left: 1em; padding-right: 1em; text-align: center; vertical-align: top\">12.5512990302</td>\n",
       "    </tr>\n",
       "    <tr>\n",
       "        <td style=\"padding-left: 1em; padding-right: 1em; text-align: center; vertical-align: top\">0</td>\n",
       "        <td style=\"padding-left: 1em; padding-right: 1em; text-align: center; vertical-align: top\">0</td>\n",
       "        <td style=\"padding-left: 1em; padding-right: 1em; text-align: center; vertical-align: top\">1.0</td>\n",
       "        <td style=\"padding-left: 1em; padding-right: 1em; text-align: center; vertical-align: top\">1.0</td>\n",
       "        <td style=\"padding-left: 1em; padding-right: 1em; text-align: center; vertical-align: top\">1.0</td>\n",
       "        <td style=\"padding-left: 1em; padding-right: 1em; text-align: center; vertical-align: top\">1.0</td>\n",
       "    </tr>\n",
       "    <tr>\n",
       "        <td style=\"padding-left: 1em; padding-right: 1em; text-align: center; vertical-align: top\">1</td>\n",
       "        <td style=\"padding-left: 1em; padding-right: 1em; text-align: center; vertical-align: top\">0</td>\n",
       "        <td style=\"padding-left: 1em; padding-right: 1em; text-align: center; vertical-align: top\">1.0</td>\n",
       "        <td style=\"padding-left: 1em; padding-right: 1em; text-align: center; vertical-align: top\">1.0</td>\n",
       "        <td style=\"padding-left: 1em; padding-right: 1em; text-align: center; vertical-align: top\">1.0</td>\n",
       "        <td style=\"padding-left: 1em; padding-right: 1em; text-align: center; vertical-align: top\">1.0</td>\n",
       "    </tr>\n",
       "    <tr>\n",
       "        <td style=\"padding-left: 1em; padding-right: 1em; text-align: center; vertical-align: top\">0</td>\n",
       "        <td style=\"padding-left: 1em; padding-right: 1em; text-align: center; vertical-align: top\">2</td>\n",
       "        <td style=\"padding-left: 1em; padding-right: 1em; text-align: center; vertical-align: top\">1.0</td>\n",
       "        <td style=\"padding-left: 1em; padding-right: 1em; text-align: center; vertical-align: top\">1.0</td>\n",
       "        <td style=\"padding-left: 1em; padding-right: 1em; text-align: center; vertical-align: top\">1.93427309565</td>\n",
       "        <td style=\"padding-left: 1em; padding-right: 1em; text-align: center; vertical-align: top\">1.0</td>\n",
       "    </tr>\n",
       "    <tr>\n",
       "        <td style=\"padding-left: 1em; padding-right: 1em; text-align: center; vertical-align: top\">0</td>\n",
       "        <td style=\"padding-left: 1em; padding-right: 1em; text-align: center; vertical-align: top\">1</td>\n",
       "        <td style=\"padding-left: 1em; padding-right: 1em; text-align: center; vertical-align: top\">1.0</td>\n",
       "        <td style=\"padding-left: 1em; padding-right: 1em; text-align: center; vertical-align: top\">1.0</td>\n",
       "        <td style=\"padding-left: 1em; padding-right: 1em; text-align: center; vertical-align: top\">1.0</td>\n",
       "        <td style=\"padding-left: 1em; padding-right: 1em; text-align: center; vertical-align: top\">1.0</td>\n",
       "    </tr>\n",
       "    <tr>\n",
       "        <td style=\"padding-left: 1em; padding-right: 1em; text-align: center; vertical-align: top\">1</td>\n",
       "        <td style=\"padding-left: 1em; padding-right: 1em; text-align: center; vertical-align: top\">0</td>\n",
       "        <td style=\"padding-left: 1em; padding-right: 1em; text-align: center; vertical-align: top\">1.0</td>\n",
       "        <td style=\"padding-left: 1em; padding-right: 1em; text-align: center; vertical-align: top\">1.0</td>\n",
       "        <td style=\"padding-left: 1em; padding-right: 1em; text-align: center; vertical-align: top\">1.0</td>\n",
       "        <td style=\"padding-left: 1em; padding-right: 1em; text-align: center; vertical-align: top\">1.0</td>\n",
       "    </tr>\n",
       "    <tr>\n",
       "        <td style=\"padding-left: 1em; padding-right: 1em; text-align: center; vertical-align: top\">3</td>\n",
       "        <td style=\"padding-left: 1em; padding-right: 1em; text-align: center; vertical-align: top\">2</td>\n",
       "        <td style=\"padding-left: 1em; padding-right: 1em; text-align: center; vertical-align: top\">1.77083434302</td>\n",
       "        <td style=\"padding-left: 1em; padding-right: 1em; text-align: center; vertical-align: top\">1.00386235486</td>\n",
       "        <td style=\"padding-left: 1em; padding-right: 1em; text-align: center; vertical-align: top\">1.91572667925</td>\n",
       "        <td style=\"padding-left: 1em; padding-right: 1em; text-align: center; vertical-align: top\">1.1390887206</td>\n",
       "    </tr>\n",
       "</table>\n",
       "[70 rows x 6 columns]<br/>Note: Only the head of the SFrame is printed.<br/>You can use print_rows(num_rows=m, num_columns=n) to print more rows and columns.\n",
       "</div>"
      ],
      "text/plain": [
       "Columns:\n",
       "\tgap_t(j)\tint\n",
       "\tgap_t(j-1)\tint\n",
       "\tgl_ls_predicted\tfloat\n",
       "\tscikit_lad_predicted\tfloat\n",
       "\tscikit_lad_predicted_delta_method\tfloat\n",
       "\tprediction_boosting\tfloat\n",
       "\n",
       "Rows: 70\n",
       "\n",
       "Data:\n",
       "+----------+------------+-----------------+----------------------+-------------------------------+\n",
       "| gap_t(j) | gap_t(j-1) | gl_ls_predicted | scikit_lad_predicted | scikit_lad_predicted_delta... |\n",
       "+----------+------------+-----------------+----------------------+-------------------------------+\n",
       "|    96    |     73     |  108.517205889  |    15.7204397024     |         72.0109017648         |\n",
       "|    8     |     8      |  7.47599182851  |    4.27608158363     |         7.26077668804         |\n",
       "|    11    |     12     |   16.243311135  |    5.79672590875     |          11.260776688         |\n",
       "|    32    |     17     |  21.1649079332  |    7.31560482892     |          16.260776688         |\n",
       "|    0     |     0      |       1.0       |         1.0          |              1.0              |\n",
       "|    1     |     0      |       1.0       |         1.0          |              1.0              |\n",
       "|    0     |     2      |       1.0       |         1.0          |         1.93427309565         |\n",
       "|    0     |     1      |       1.0       |         1.0          |              1.0              |\n",
       "|    1     |     0      |       1.0       |         1.0          |              1.0              |\n",
       "|    3     |     2      |  1.77083434302  |    1.00386235486     |         1.91572667925         |\n",
       "+----------+------------+-----------------+----------------------+-------------------------------+\n",
       "+---------------------+\n",
       "| prediction_boosting |\n",
       "+---------------------+\n",
       "|    70.1804162718    |\n",
       "|    5.91576001871    |\n",
       "|     10.418550267    |\n",
       "|    12.5512990302    |\n",
       "|         1.0         |\n",
       "|         1.0         |\n",
       "|         1.0         |\n",
       "|         1.0         |\n",
       "|         1.0         |\n",
       "|     1.1390887206    |\n",
       "+---------------------+\n",
       "[70 rows x 6 columns]\n",
       "Note: Only the head of the SFrame is printed.\n",
       "You can use print_rows(num_rows=m, num_columns=n) to print more rows and columns."
      ]
     },
     "execution_count": 65,
     "metadata": {},
     "output_type": "execute_result"
    }
   ],
   "source": [
    "data_boosting_validation['prediction_boosting'] = validation_prediction_boosting\n",
    "data_boosting_validation['gap_t(j)','gap_t(j-1)','gl_ls_predicted','scikit_lad_predicted', \n",
    "                         'scikit_lad_predicted_delta_method', 'prediction_boosting']\n",
    "\n",
    "data_boosting_validation['gap_t(j)','gap_t(j-1)', 'gl_ls_predicted','scikit_lad_predicted', \n",
    "                         'scikit_lad_predicted_delta_method','prediction_boosting'][480:550]"
   ]
  },
  {
   "cell_type": "code",
   "execution_count": 66,
   "metadata": {
    "collapsed": false
   },
   "outputs": [],
   "source": [
    "#data_boosting_validation['gap_t(j)', 'scikit_lad_predicted_delta_method','prediction_boosting'].print_rows(num_rows=100)"
   ]
  },
  {
   "cell_type": "markdown",
   "metadata": {},
   "source": [
    "### Conditional Combination"
   ]
  },
  {
   "cell_type": "code",
   "execution_count": null,
   "metadata": {
    "collapsed": false
   },
   "outputs": [],
   "source": []
  },
  {
   "cell_type": "code",
   "execution_count": 67,
   "metadata": {
    "collapsed": false
   },
   "outputs": [
    {
     "data": {
      "text/plain": [
       "'\\n# search for threhold\\nfor i in range(1, int(max(validation_prediction_lad_modified)) + 1):\\n    prediction_conditional_combination = []\\n    for j in range(len(validation_prediction_lad_modified)):\\n        if validation_prediction_lad_modified[j] <= i:\\n            prediction_conditional_combination.append(validation_prediction_lad_modified[j])\\n        else:\\n            prediction_conditional_combination.append(validation_prediction_gl_modified[j])\\n    (sum, count, mape_conditional_combination) = mape(validation_target, prediction_conditional_combination)\\n    print mape_conditional_combination\\n'"
      ]
     },
     "execution_count": 67,
     "metadata": {},
     "output_type": "execute_result"
    }
   ],
   "source": [
    "'''\n",
    "# search for threhold\n",
    "for i in range(1, int(max(validation_prediction_lad_modified)) + 1):\n",
    "    prediction_conditional_combination = []\n",
    "    for j in range(len(validation_prediction_lad_modified)):\n",
    "        if validation_prediction_lad_modified[j] <= i:\n",
    "            prediction_conditional_combination.append(validation_prediction_lad_modified[j])\n",
    "        else:\n",
    "            prediction_conditional_combination.append(validation_prediction_gl_modified[j])\n",
    "    (sum, count, mape_conditional_combination) = mape(validation_target, prediction_conditional_combination)\n",
    "    print mape_conditional_combination\n",
    "'''"
   ]
  },
  {
   "cell_type": "code",
   "execution_count": 68,
   "metadata": {
    "collapsed": false
   },
   "outputs": [
    {
     "data": {
      "text/plain": [
       "\"\\n# search for threhold\\nmape_smallest = 1\\ni_corresponding = 1\\nfor i in range(1, int(max(validation_prediction_delta_modified)) + 1):\\n    prediction_conditional_combination = []\\n    for j in range(len(validation_prediction_delta_modified)):\\n        if validation_prediction_delta_modified[j] >= i:\\n            prediction_conditional_combination.append(validation_prediction_delta_modified[j])\\n        else:\\n            prediction_conditional_combination.append(validation_prediction_lad_modified[j])\\n    (sum, count, mape_conditional_combination) = mape(validation_target, prediction_conditional_combination)\\n    if mape_conditional_combination < mape_smallest:\\n        mape_smallest = mape_conditional_combination\\n        i_corresponding = i\\nprint mape_smallest\\nprint i_corresponding\\n\\nprediction_conditional_combination = []\\nfor j in range(len(validation_prediction_delta_modified)):\\n    if validation_prediction_delta_modified[j] >= i_corresponding:\\n        prediction_conditional_combination.append(validation_prediction_delta_modified[j])\\n    else:\\n        prediction_conditional_combination.append(validation_prediction_lad_modified[j])\\n    \\ndata_boosting['prediction_conditional_combination'] = prediction_conditional_combination\\n\""
      ]
     },
     "execution_count": 68,
     "metadata": {},
     "output_type": "execute_result"
    }
   ],
   "source": [
    "'''\n",
    "# search for threhold\n",
    "mape_smallest = 1\n",
    "i_corresponding = 1\n",
    "for i in range(1, int(max(validation_prediction_delta_modified)) + 1):\n",
    "    prediction_conditional_combination = []\n",
    "    for j in range(len(validation_prediction_delta_modified)):\n",
    "        if validation_prediction_delta_modified[j] >= i:\n",
    "            prediction_conditional_combination.append(validation_prediction_delta_modified[j])\n",
    "        else:\n",
    "            prediction_conditional_combination.append(validation_prediction_lad_modified[j])\n",
    "    (sum, count, mape_conditional_combination) = mape(validation_target, prediction_conditional_combination)\n",
    "    if mape_conditional_combination < mape_smallest:\n",
    "        mape_smallest = mape_conditional_combination\n",
    "        i_corresponding = i\n",
    "print mape_smallest\n",
    "print i_corresponding\n",
    "\n",
    "prediction_conditional_combination = []\n",
    "for j in range(len(validation_prediction_delta_modified)):\n",
    "    if validation_prediction_delta_modified[j] >= i_corresponding:\n",
    "        prediction_conditional_combination.append(validation_prediction_delta_modified[j])\n",
    "    else:\n",
    "        prediction_conditional_combination.append(validation_prediction_lad_modified[j])\n",
    "    \n",
    "data_boosting['prediction_conditional_combination'] = prediction_conditional_combination\n",
    "'''"
   ]
  },
  {
   "cell_type": "code",
   "execution_count": 69,
   "metadata": {
    "collapsed": false
   },
   "outputs": [
    {
     "data": {
      "text/plain": [
       "'\\ndata_boosting[\\'gap_t(j)\\',\\'gl_ls_predicted\\',\\'scikit_lad_predicted\\',\\'prediction_boosting\\', \\'prediction_conditional_combination\\'].export_csv(\"model_comparison_2.csv\")\\n'"
      ]
     },
     "execution_count": 69,
     "metadata": {},
     "output_type": "execute_result"
    }
   ],
   "source": [
    "'''\n",
    "data_boosting['gap_t(j)','gl_ls_predicted','scikit_lad_predicted','prediction_boosting', 'prediction_conditional_combination']\\\n",
    ".export_csv(\"model_comparison_2.csv\")\n",
    "'''"
   ]
  },
  {
   "cell_type": "markdown",
   "metadata": {
    "collapsed": false
   },
   "source": [
    "### Model prediction"
   ]
  },
  {
   "cell_type": "code",
   "execution_count": 70,
   "metadata": {
    "collapsed": false
   },
   "outputs": [],
   "source": [
    "prediction_items = []\n",
    "fhand = open(\"read_me_1.txt\")\n",
    "for line in fhand:\n",
    "    line_splitted = line.strip().split('-')\n",
    "    prediction_items.append(((line_splitted[0] + '-' + line_splitted[1] + '-' + line_splitted[2]), line_splitted[3]))\n",
    "fhand.close()\n",
    "#prediction_items"
   ]
  },
  {
   "cell_type": "code",
   "execution_count": 71,
   "metadata": {
    "collapsed": false
   },
   "outputs": [],
   "source": [
    "data_test_set_1_filtered = graphlab.SFrame()\n",
    "for (date, time_slot_id) in prediction_items:\n",
    "    data_test_set_1_filtered = data_test_set_1_filtered.append(\n",
    "    data_test_set_1[(data_test_set_1['date'] == date) & (data_test_set_1['time_slot_id'] == int(time_slot_id))])"
   ]
  },
  {
   "cell_type": "code",
   "execution_count": 72,
   "metadata": {
    "collapsed": false
   },
   "outputs": [],
   "source": [
    "feature_numpy_test = data_test_set_1_filtered[features].to_numpy().astype(float)"
   ]
  },
  {
   "cell_type": "code",
   "execution_count": 73,
   "metadata": {
    "collapsed": false
   },
   "outputs": [],
   "source": [
    "# lad model prediction\n",
    "test_prediction_lad_temp_1 = model_lad.predict(feature_numpy_test).tolist()\n",
    "test_prediction_lad_temp_2 = [math.pow(10,i) - 1.0 for i in test_prediction_lad_temp_1]\n",
    "test_prediction_lad = prediction_modification(test_prediction_lad_temp_2)\n",
    "\n",
    "\n",
    "# graphlab model prediction\n",
    "test_prediction_gl_temp_1 = list(model_gl.predict(data_test_set_1_filtered))\n",
    "test_prediction_gl_temp_2 = [math.pow(10,i) - 1.0 for i in test_prediction_gl_temp_1]\n",
    "test_prediction_gl = prediction_modification(test_prediction_gl_temp_2)\n",
    "\n",
    "# gap_delta model prediction\n",
    "test_prediction_delta_lad = prediction_modification\\\n",
    "((model_delta_lad.predict(feature_numpy_test) + data_test_set_1_filtered['gap_t(j-1)'].to_numpy().astype(float)).tolist())\n",
    "\n",
    "\n",
    "test_data_boosting = graphlab.SFrame()\n",
    "test_data_boosting = data_test_set_1_filtered['start_district_id', 'time_slot_id', 'gap_delta_1','gap_delta_2','gap_delta_3',\n",
    "                                              'gap_t(j)', 'gap_t(j-1)', 'gap_t(j-2)', 'gap_t(j-3)', 'day_of_week']\n",
    "\n",
    "test_data_boosting['gl_ls_predicted'] = test_prediction_gl\n",
    "test_data_boosting['scikit_lad_predicted'] = test_prediction_lad\n",
    "test_data_boosting['scikit_lad_predicted_delta_method'] = test_prediction_delta_lad\n",
    "\n",
    "test_data_boosting['S1'] = test_data_boosting['gl_ls_predicted'] - test_data_boosting['scikit_lad_predicted']\n",
    "test_data_boosting['S2'] = test_data_boosting['gl_ls_predicted'] - test_data_boosting['scikit_lad_predicted_delta_method']\n",
    "test_data_boosting['S3'] = test_data_boosting['scikit_lad_predicted'] - test_data_boosting['scikit_lad_predicted_delta_method']\n",
    "\n",
    "test_data_boosting['D1'] = test_data_boosting['gl_ls_predicted'] / test_data_boosting['scikit_lad_predicted']\n",
    "test_data_boosting['D2'] = test_data_boosting['gl_ls_predicted'] / test_data_boosting['scikit_lad_predicted_delta_method']\n",
    "test_data_boosting['D3'] = test_data_boosting['scikit_lad_predicted'] / test_data_boosting['scikit_lad_predicted_delta_method']\n",
    "\n",
    "features_boosting = ['time_slot_id','gap_t(j-1)', 'gap_t(j-2)', 'gap_t(j-3)','gap_delta_1','gap_delta_2','gap_delta_3',\n",
    "                     'S1','S2','S3','D1','D2','D3',\n",
    "                     'gl_ls_predicted', 'scikit_lad_predicted', 'scikit_lad_predicted_delta_method']\n",
    "\n",
    "feature_numpy_boosting_test = test_data_boosting[features_boosting].to_numpy().astype(float)"
   ]
  },
  {
   "cell_type": "code",
   "execution_count": 74,
   "metadata": {
    "collapsed": true
   },
   "outputs": [],
   "source": [
    "test_prediction_boosting = model_boosting.predict(feature_numpy_boosting_test).tolist()\n"
   ]
  },
  {
   "cell_type": "code",
   "execution_count": 75,
   "metadata": {
    "collapsed": false
   },
   "outputs": [],
   "source": [
    "test_prediction_modified = prediction_modification(test_prediction_boosting)\n",
    "\n",
    "# test_prediction_modified[0:100]"
   ]
  },
  {
   "cell_type": "code",
   "execution_count": 76,
   "metadata": {
    "collapsed": true
   },
   "outputs": [],
   "source": [
    "data_test_set_1_filtered['prediction'] = test_prediction_modified"
   ]
  },
  {
   "cell_type": "code",
   "execution_count": 77,
   "metadata": {
    "collapsed": false
   },
   "outputs": [],
   "source": [
    "#data_test_set_1_filtered"
   ]
  },
  {
   "cell_type": "markdown",
   "metadata": {},
   "source": [
    "### Make submission file"
   ]
  },
  {
   "cell_type": "code",
   "execution_count": 78,
   "metadata": {
    "collapsed": true
   },
   "outputs": [],
   "source": [
    "def make_submission(result, filename='submission.txt'):\n",
    "    output_file = open(filename,'w')\n",
    "    for row in data_test_set_1_filtered:\n",
    "        output_file.write(str(row['start_district_id']) + ',' + row['date'] + '-' \\\n",
    "                          + str(row['time_slot_id']) + ',' + str(row['prediction']) + '\\n')\n",
    "    output_file.close()"
   ]
  },
  {
   "cell_type": "code",
   "execution_count": 79,
   "metadata": {
    "collapsed": false
   },
   "outputs": [],
   "source": [
    "make_submission(data_test_set_1_filtered)"
   ]
  }
 ],
 "metadata": {
  "kernelspec": {
   "display_name": "Python 2",
   "language": "python",
   "name": "python2"
  },
  "language_info": {
   "codemirror_mode": {
    "name": "ipython",
    "version": 2
   },
   "file_extension": ".py",
   "mimetype": "text/x-python",
   "name": "python",
   "nbconvert_exporter": "python",
   "pygments_lexer": "ipython2",
   "version": "2.7.11"
  }
 },
 "nbformat": 4,
 "nbformat_minor": 0
}
